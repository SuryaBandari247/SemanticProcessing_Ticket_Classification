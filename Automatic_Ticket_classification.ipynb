{
 "cells": [
  {
   "cell_type": "markdown",
   "metadata": {
    "id": "rhR-ZUkwJrFn"
   },
   "source": [
    "## Problem Statement \n",
    "\n",
    "You need to build a model that is able to classify customer complaints based on the products/services. By doing so, you can segregate these tickets into their relevant categories and, therefore, help in the quick resolution of the issue.\n",
    "\n",
    "You will be doing topic modelling on the <b>.json</b> data provided by the company. Since this data is not labelled, you need to apply NMF to analyse patterns and classify tickets into the following five clusters based on their products/services:\n",
    "\n",
    "* Credit card / Prepaid card\n",
    "\n",
    "* Bank account services\n",
    "\n",
    "* Theft/Dispute reporting\n",
    "\n",
    "* Mortgages/loans\n",
    "\n",
    "* Others \n",
    "\n",
    "\n",
    "With the help of topic modelling, you will be able to map each ticket onto its respective department/category. You can then use this data to train any supervised model such as logistic regression, decision tree or random forest. Using this trained model, you can classify any new customer complaint support ticket into its relevant department."
   ]
  },
  {
   "cell_type": "markdown",
   "metadata": {
    "id": "mcgXVNyaLUFS"
   },
   "source": [
    "## Pipelines that needs to be performed:\n",
    "\n",
    "You need to perform the following eight major tasks to complete the assignment:\n",
    "\n",
    "1.  Data loading\n",
    "\n",
    "2. Text preprocessing\n",
    "\n",
    "3. Exploratory data analysis (EDA)\n",
    "\n",
    "4. Feature extraction\n",
    "\n",
    "5. Topic modelling \n",
    "\n",
    "6. Model building using supervised learning\n",
    "\n",
    "7. Model training and evaluation\n",
    "\n",
    "8. Model inference"
   ]
  },
  {
   "cell_type": "markdown",
   "metadata": {
    "id": "JuLFIymAL58u"
   },
   "source": [
    "## Importing the necessary libraries"
   ]
  },
  {
   "cell_type": "code",
   "execution_count": 152,
   "metadata": {
    "execution": {
     "iopub.execute_input": "2024-01-03T18:15:15.988135Z",
     "iopub.status.busy": "2024-01-03T18:15:15.987258Z",
     "iopub.status.idle": "2024-01-03T18:15:17.038960Z",
     "shell.execute_reply": "2024-01-03T18:15:17.038076Z",
     "shell.execute_reply.started": "2024-01-03T18:15:15.988100Z"
    },
    "id": "O-Q9pqrcJrFr"
   },
   "outputs": [],
   "source": [
    "import json \n",
    "import numpy as np\n",
    "import pandas as pd\n",
    "import re, nltk, spacy, string\n",
    "import en_core_web_sm\n",
    "import os\n",
    "nlp = en_core_web_sm.load()\n",
    "import seaborn as sns\n",
    "import matplotlib.pyplot as plt\n",
    "%matplotlib inline\n",
    "\n",
    "from plotly.offline import plot\n",
    "import plotly.graph_objects as go\n",
    "import plotly.express as px\n",
    "\n",
    "from sklearn.feature_extraction.text import CountVectorizer, TfidfVectorizer\n",
    "from pprint import pprint\n",
    "\n",
    "import warnings\n",
    "warnings.filterwarnings('ignore')"
   ]
  },
  {
   "cell_type": "markdown",
   "metadata": {
    "id": "KtRLCsNVJrFt"
   },
   "source": [
    "## Loading the data\n",
    "\n",
    "The data is in JSON format and we need to convert it to a dataframe."
   ]
  },
  {
   "cell_type": "code",
   "execution_count": 153,
   "metadata": {
    "execution": {
     "iopub.execute_input": "2024-01-03T18:15:17.041102Z",
     "iopub.status.busy": "2024-01-03T18:15:17.040795Z",
     "iopub.status.idle": "2024-01-03T18:15:17.051373Z",
     "shell.execute_reply": "2024-01-03T18:15:17.050375Z",
     "shell.execute_reply.started": "2024-01-03T18:15:17.041074Z"
    }
   },
   "outputs": [
    {
     "data": {
      "text/plain": [
       "[('/kaggle/input', ['tickets-classification'], []),\n",
       " ('/kaggle/input/tickets-classification',\n",
       "  [],\n",
       "  ['complaints-2021-05-14_08_16.json'])]"
      ]
     },
     "execution_count": 153,
     "metadata": {},
     "output_type": "execute_result"
    }
   ],
   "source": [
    "# check the files present in /kaggle/input\n",
    "[file for file in os.walk(\"/kaggle/input\")]"
   ]
  },
  {
   "cell_type": "code",
   "execution_count": 154,
   "metadata": {
    "execution": {
     "iopub.execute_input": "2024-01-03T18:15:17.053272Z",
     "iopub.status.busy": "2024-01-03T18:15:17.052836Z",
     "iopub.status.idle": "2024-01-03T18:15:17.066321Z",
     "shell.execute_reply": "2024-01-03T18:15:17.065270Z",
     "shell.execute_reply.started": "2024-01-03T18:15:17.053238Z"
    }
   },
   "outputs": [
    {
     "name": "stdout",
     "output_type": "stream",
     "text": [
      "Help on built-in function read in module posix:\n",
      "\n",
      "read(fd, length, /)\n",
      "    Read from a file descriptor.  Returns a bytes object.\n",
      "\n"
     ]
    }
   ],
   "source": [
    "help(os.read)"
   ]
  },
  {
   "cell_type": "code",
   "execution_count": 155,
   "metadata": {
    "execution": {
     "iopub.execute_input": "2024-01-03T18:15:17.068972Z",
     "iopub.status.busy": "2024-01-03T18:15:17.068678Z",
     "iopub.status.idle": "2024-01-03T18:15:20.106409Z",
     "shell.execute_reply": "2024-01-03T18:15:20.105542Z",
     "shell.execute_reply.started": "2024-01-03T18:15:17.068947Z"
    },
    "id": "puVzIf_iJrFt"
   },
   "outputs": [],
   "source": [
    "# Opening JSON file \n",
    "file_path = \"/kaggle/input/tickets-classification/complaints-2021-05-14_08_16.json\"\n",
    "with open(file_path,'r') as file:\n",
    "    data = json.load(file)\n",
    "df=pd.json_normalize(data)"
   ]
  },
  {
   "cell_type": "markdown",
   "metadata": {
    "id": "_xYpH-sAJrFu"
   },
   "source": [
    "## Data preparation"
   ]
  },
  {
   "cell_type": "code",
   "execution_count": 156,
   "metadata": {
    "execution": {
     "iopub.execute_input": "2024-01-03T18:15:20.108936Z",
     "iopub.status.busy": "2024-01-03T18:15:20.108649Z",
     "iopub.status.idle": "2024-01-03T18:15:20.298276Z",
     "shell.execute_reply": "2024-01-03T18:15:20.297321Z",
     "shell.execute_reply.started": "2024-01-03T18:15:20.108912Z"
    },
    "id": "Lf8ufHH5JrFu"
   },
   "outputs": [
    {
     "name": "stdout",
     "output_type": "stream",
     "text": [
      "<class 'pandas.core.frame.DataFrame'>\n",
      "RangeIndex: 78313 entries, 0 to 78312\n",
      "Data columns (total 22 columns):\n",
      " #   Column                             Non-Null Count  Dtype  \n",
      "---  ------                             --------------  -----  \n",
      " 0   _index                             78313 non-null  object \n",
      " 1   _type                              78313 non-null  object \n",
      " 2   _id                                78313 non-null  object \n",
      " 3   _score                             78313 non-null  float64\n",
      " 4   _source.tags                       10900 non-null  object \n",
      " 5   _source.zip_code                   71556 non-null  object \n",
      " 6   _source.complaint_id               78313 non-null  object \n",
      " 7   _source.issue                      78313 non-null  object \n",
      " 8   _source.date_received              78313 non-null  object \n",
      " 9   _source.state                      76322 non-null  object \n",
      " 10  _source.consumer_disputed          78313 non-null  object \n",
      " 11  _source.product                    78313 non-null  object \n",
      " 12  _source.company_response           78313 non-null  object \n",
      " 13  _source.company                    78313 non-null  object \n",
      " 14  _source.submitted_via              78313 non-null  object \n",
      " 15  _source.date_sent_to_company       78313 non-null  object \n",
      " 16  _source.company_public_response    4 non-null      object \n",
      " 17  _source.sub_product                67742 non-null  object \n",
      " 18  _source.timely                     78313 non-null  object \n",
      " 19  _source.complaint_what_happened    78313 non-null  object \n",
      " 20  _source.sub_issue                  32016 non-null  object \n",
      " 21  _source.consumer_consent_provided  77305 non-null  object \n",
      "dtypes: float64(1), object(21)\n",
      "memory usage: 13.1+ MB\n",
      "None\n",
      "(78313, 22)\n"
     ]
    }
   ],
   "source": [
    "# Inspect the dataframe to understand the given data.\n",
    "print(df.info())\n",
    "\n",
    "print(df.shape)"
   ]
  },
  {
   "cell_type": "code",
   "execution_count": 157,
   "metadata": {
    "execution": {
     "iopub.execute_input": "2024-01-03T18:15:20.301727Z",
     "iopub.status.busy": "2024-01-03T18:15:20.299468Z",
     "iopub.status.idle": "2024-01-03T18:15:20.307729Z",
     "shell.execute_reply": "2024-01-03T18:15:20.306401Z",
     "shell.execute_reply.started": "2024-01-03T18:15:20.301686Z"
    },
    "id": "Dwcty-wmJrFw"
   },
   "outputs": [
    {
     "name": "stdout",
     "output_type": "stream",
     "text": [
      "Index(['_index', '_type', '_id', '_score', '_source.tags', '_source.zip_code',\n",
      "       '_source.complaint_id', '_source.issue', '_source.date_received',\n",
      "       '_source.state', '_source.consumer_disputed', '_source.product',\n",
      "       '_source.company_response', '_source.company', '_source.submitted_via',\n",
      "       '_source.date_sent_to_company', '_source.company_public_response',\n",
      "       '_source.sub_product', '_source.timely',\n",
      "       '_source.complaint_what_happened', '_source.sub_issue',\n",
      "       '_source.consumer_consent_provided'],\n",
      "      dtype='object')\n"
     ]
    }
   ],
   "source": [
    "#print the column names\n",
    "columns = df.columns\n",
    "print(columns)"
   ]
  },
  {
   "cell_type": "markdown",
   "metadata": {},
   "source": [
    "Removing the underscore as prefix for all the column names"
   ]
  },
  {
   "cell_type": "code",
   "execution_count": 158,
   "metadata": {
    "execution": {
     "iopub.execute_input": "2024-01-03T18:15:20.309225Z",
     "iopub.status.busy": "2024-01-03T18:15:20.308910Z",
     "iopub.status.idle": "2024-01-03T18:15:20.325792Z",
     "shell.execute_reply": "2024-01-03T18:15:20.324764Z",
     "shell.execute_reply.started": "2024-01-03T18:15:20.309172Z"
    },
    "id": "FYCtKXD1JrFw"
   },
   "outputs": [
    {
     "name": "stdout",
     "output_type": "stream",
     "text": [
      "Index(['index', 'type', 'id', 'score', 'tags', 'zip_code', 'complaint_id',\n",
      "       'issue', 'date_received', 'state', 'consumer_disputed', 'product',\n",
      "       'company_response', 'company', 'submitted_via', 'date_sent_to_company',\n",
      "       'company_public_response', 'sub_product', 'timely',\n",
      "       'complaint_what_happened', 'sub_issue', 'consumer_consent_provided'],\n",
      "      dtype='object')\n"
     ]
    }
   ],
   "source": [
    "#Assign new column names\n",
    "df.columns =  [col.replace(\"_source.\",\"\") if col.startswith(\"_source\")  else col.lstrip(\"_\") for col in columns]\n",
    "print(df.columns)"
   ]
  },
  {
   "cell_type": "code",
   "execution_count": 159,
   "metadata": {
    "execution": {
     "iopub.execute_input": "2024-01-03T18:15:20.327147Z",
     "iopub.status.busy": "2024-01-03T18:15:20.326894Z",
     "iopub.status.idle": "2024-01-03T18:15:20.408414Z",
     "shell.execute_reply": "2024-01-03T18:15:20.407442Z",
     "shell.execute_reply.started": "2024-01-03T18:15:20.327124Z"
    },
    "id": "grQUPFL5JrFx"
   },
   "outputs": [
    {
     "name": "stdout",
     "output_type": "stream",
     "text": [
      "(57241, 22)\n"
     ]
    }
   ],
   "source": [
    "#Assign nan in place of blanks in the complaints column\n",
    "print(df[df[\"complaint_what_happened\"] == \"\"].shape)\n",
    "df.loc[df[\"complaint_what_happened\"] == \"\",\"complaint_what_happened\"] = pd.NA"
   ]
  },
  {
   "cell_type": "code",
   "execution_count": 160,
   "metadata": {
    "execution": {
     "iopub.execute_input": "2024-01-03T18:15:20.410027Z",
     "iopub.status.busy": "2024-01-03T18:15:20.409687Z",
     "iopub.status.idle": "2024-01-03T18:15:20.419587Z",
     "shell.execute_reply": "2024-01-03T18:15:20.418636Z",
     "shell.execute_reply.started": "2024-01-03T18:15:20.410001Z"
    }
   },
   "outputs": [
    {
     "data": {
      "text/plain": [
       "57241"
      ]
     },
     "execution_count": 160,
     "metadata": {},
     "output_type": "execute_result"
    }
   ],
   "source": [
    "df[\"complaint_what_happened\"].isna().sum()"
   ]
  },
  {
   "cell_type": "code",
   "execution_count": 161,
   "metadata": {
    "execution": {
     "iopub.execute_input": "2024-01-03T18:15:20.424022Z",
     "iopub.status.busy": "2024-01-03T18:15:20.423614Z",
     "iopub.status.idle": "2024-01-03T18:15:20.466310Z",
     "shell.execute_reply": "2024-01-03T18:15:20.465558Z",
     "shell.execute_reply.started": "2024-01-03T18:15:20.423995Z"
    },
    "id": "Jfxd8VSmJrFy"
   },
   "outputs": [],
   "source": [
    "#Remove all rows where complaints column is nan\n",
    "df = df[~df[\"complaint_what_happened\"].isna()]"
   ]
  },
  {
   "cell_type": "code",
   "execution_count": 162,
   "metadata": {
    "execution": {
     "iopub.execute_input": "2024-01-03T18:15:20.468109Z",
     "iopub.status.busy": "2024-01-03T18:15:20.467712Z",
     "iopub.status.idle": "2024-01-03T18:15:20.494853Z",
     "shell.execute_reply": "2024-01-03T18:15:20.493773Z",
     "shell.execute_reply.started": "2024-01-03T18:15:20.468072Z"
    }
   },
   "outputs": [
    {
     "data": {
      "text/plain": [
       "RangeIndex(start=0, stop=21072, step=1)"
      ]
     },
     "execution_count": 162,
     "metadata": {},
     "output_type": "execute_result"
    }
   ],
   "source": [
    "df = df.reset_index(drop=True)\n",
    "df.index"
   ]
  },
  {
   "cell_type": "markdown",
   "metadata": {
    "id": "L944HZpsJrFy"
   },
   "source": [
    "## Prepare the text for topic modeling\n",
    "\n",
    "Once you have removed all the blank complaints, you need to:\n",
    "\n",
    "* Make the text lowercase\n",
    "* Remove text in square brackets\n",
    "* Remove punctuation\n",
    "* Remove words containing numbers\n",
    "* The personal details of customer has been masked in the dataset with xxxx. Let's remove the masked text as this will be of no use for our analysis¶\n",
    "\n",
    "\n",
    "Once you have done these cleaning operations you need to perform the following:\n",
    "* Lemmatize the texts\n",
    "* Extract the POS tags of the lemmatized text and remove all the words which have tags other than NN[tag == \"NN\"].\n"
   ]
  },
  {
   "cell_type": "code",
   "execution_count": 163,
   "metadata": {
    "execution": {
     "iopub.execute_input": "2024-01-03T18:15:20.496749Z",
     "iopub.status.busy": "2024-01-03T18:15:20.496452Z",
     "iopub.status.idle": "2024-01-03T18:15:32.670759Z",
     "shell.execute_reply": "2024-01-03T18:15:32.669550Z",
     "shell.execute_reply.started": "2024-01-03T18:15:20.496723Z"
    }
   },
   "outputs": [
    {
     "name": "stdout",
     "output_type": "stream",
     "text": [
      "Requirement already satisfied: swifter in /opt/conda/lib/python3.10/site-packages (1.4.0)\n",
      "Requirement already satisfied: pandas>=1.0.0 in /opt/conda/lib/python3.10/site-packages (from swifter) (2.0.3)\n",
      "Requirement already satisfied: psutil>=5.6.6 in /opt/conda/lib/python3.10/site-packages (from swifter) (5.9.3)\n",
      "Requirement already satisfied: dask[dataframe]>=2.10.0 in /opt/conda/lib/python3.10/site-packages (from swifter) (2023.12.0)\n",
      "Requirement already satisfied: tqdm>=4.33.0 in /opt/conda/lib/python3.10/site-packages (from swifter) (4.66.1)\n",
      "Requirement already satisfied: click>=8.1 in /opt/conda/lib/python3.10/site-packages (from dask[dataframe]>=2.10.0->swifter) (8.1.7)\n",
      "Requirement already satisfied: cloudpickle>=1.5.0 in /opt/conda/lib/python3.10/site-packages (from dask[dataframe]>=2.10.0->swifter) (2.2.1)\n",
      "Requirement already satisfied: fsspec>=2021.09.0 in /opt/conda/lib/python3.10/site-packages (from dask[dataframe]>=2.10.0->swifter) (2023.12.2)\n",
      "Requirement already satisfied: packaging>=20.0 in /opt/conda/lib/python3.10/site-packages (from dask[dataframe]>=2.10.0->swifter) (21.3)\n",
      "Requirement already satisfied: partd>=1.2.0 in /opt/conda/lib/python3.10/site-packages (from dask[dataframe]>=2.10.0->swifter) (1.4.1)\n",
      "Requirement already satisfied: pyyaml>=5.3.1 in /opt/conda/lib/python3.10/site-packages (from dask[dataframe]>=2.10.0->swifter) (6.0.1)\n",
      "Requirement already satisfied: toolz>=0.10.0 in /opt/conda/lib/python3.10/site-packages (from dask[dataframe]>=2.10.0->swifter) (0.12.0)\n",
      "Requirement already satisfied: importlib-metadata>=4.13.0 in /opt/conda/lib/python3.10/site-packages (from dask[dataframe]>=2.10.0->swifter) (6.8.0)\n",
      "Requirement already satisfied: python-dateutil>=2.8.2 in /opt/conda/lib/python3.10/site-packages (from pandas>=1.0.0->swifter) (2.8.2)\n",
      "Requirement already satisfied: pytz>=2020.1 in /opt/conda/lib/python3.10/site-packages (from pandas>=1.0.0->swifter) (2023.3)\n",
      "Requirement already satisfied: tzdata>=2022.1 in /opt/conda/lib/python3.10/site-packages (from pandas>=1.0.0->swifter) (2023.3)\n",
      "Requirement already satisfied: numpy>=1.21.0 in /opt/conda/lib/python3.10/site-packages (from pandas>=1.0.0->swifter) (1.24.3)\n",
      "Requirement already satisfied: zipp>=0.5 in /opt/conda/lib/python3.10/site-packages (from importlib-metadata>=4.13.0->dask[dataframe]>=2.10.0->swifter) (3.16.2)\n",
      "Requirement already satisfied: pyparsing!=3.0.5,>=2.0.2 in /opt/conda/lib/python3.10/site-packages (from packaging>=20.0->dask[dataframe]>=2.10.0->swifter) (3.0.9)\n",
      "Requirement already satisfied: locket in /opt/conda/lib/python3.10/site-packages (from partd>=1.2.0->dask[dataframe]>=2.10.0->swifter) (1.0.0)\n",
      "Requirement already satisfied: six>=1.5 in /opt/conda/lib/python3.10/site-packages (from python-dateutil>=2.8.2->pandas>=1.0.0->swifter) (1.16.0)\n"
     ]
    }
   ],
   "source": [
    "# For parallel processing of apply method in pandas\n",
    "!pip install swifter"
   ]
  },
  {
   "cell_type": "code",
   "execution_count": 164,
   "metadata": {
    "execution": {
     "iopub.execute_input": "2024-01-03T18:15:32.672780Z",
     "iopub.status.busy": "2024-01-03T18:15:32.672437Z",
     "iopub.status.idle": "2024-01-03T18:15:33.728099Z",
     "shell.execute_reply": "2024-01-03T18:15:33.727257Z",
     "shell.execute_reply.started": "2024-01-03T18:15:32.672751Z"
    }
   },
   "outputs": [
    {
     "name": "stdout",
     "output_type": "stream",
     "text": [
      "!\"#$%&'()*+,-./:;<=>?@[\\]^_`{|}~\n"
     ]
    }
   ],
   "source": [
    "import swifter\n",
    "import string\n",
    "import re\n",
    "from nltk.tokenize import word_tokenize\n",
    "from nltk import ngrams\n",
    "\n",
    "punc = string.punctuation\n",
    "print(punc)\n",
    "\n",
    "spacy_model = spacy.load(\"en_core_web_sm\")\n",
    "stopwords = nltk.corpus.stopwords.words('english')"
   ]
  },
  {
   "cell_type": "code",
   "execution_count": 165,
   "metadata": {
    "execution": {
     "iopub.execute_input": "2024-01-03T18:15:33.729573Z",
     "iopub.status.busy": "2024-01-03T18:15:33.729295Z",
     "iopub.status.idle": "2024-01-03T18:15:33.736293Z",
     "shell.execute_reply": "2024-01-03T18:15:33.735267Z",
     "shell.execute_reply.started": "2024-01-03T18:15:33.729549Z"
    },
    "id": "qm7SjjSkJrFz"
   },
   "outputs": [],
   "source": [
    "# function to clean the text and remove all the unnecessary elements.\n",
    "def clean_sent(sent):\n",
    "    \n",
    "    sent = sent.lower()\n",
    "       \n",
    "    pattern_digits = r'\\w*\\d+\\w*'\n",
    "    pattern_text_in_brackets = r'\\[\\w*\\]'\n",
    "    pattern_x = r'\\b[x]+\\b'\n",
    "    \n",
    "    sent = re.sub(pattern_digits,\"\",sent) \n",
    "    sent = re.sub(pattern_text_in_brackets,\"\",sent)\n",
    "    sent = re.sub(pattern_x, \"\",sent)\n",
    "    sent = \"\".join([char for char in sent if char not in punc])\n",
    "    \n",
    "    sent = \" \".join( word for word in sent.split() if word not in stopwords)\n",
    "    \n",
    "    return sent\n"
   ]
  },
  {
   "cell_type": "code",
   "execution_count": 166,
   "metadata": {
    "execution": {
     "iopub.execute_input": "2024-01-03T18:15:33.738502Z",
     "iopub.status.busy": "2024-01-03T18:15:33.737699Z",
     "iopub.status.idle": "2024-01-03T18:15:33.748017Z",
     "shell.execute_reply": "2024-01-03T18:15:33.747244Z",
     "shell.execute_reply.started": "2024-01-03T18:15:33.738473Z"
    },
    "id": "zgOu8t8HJrFz"
   },
   "outputs": [],
   "source": [
    "# function which output Lemma form texts and words with only \"NN\" tag\n",
    "def lemma_pos_tag_sent(sent):\n",
    "    tokens = spacy_model(sent)\n",
    "    sent = \" \".join([(word.lemma_).lower() for word in tokens])\n",
    "    sent_with_nn = \" \".join([word.lemma_ for word in tokens if (word.tag_ == \"NN\")])\n",
    "    return sent, sent_with_nn\n"
   ]
  },
  {
   "cell_type": "code",
   "execution_count": 167,
   "metadata": {
    "execution": {
     "iopub.execute_input": "2024-01-03T18:15:33.749539Z",
     "iopub.status.busy": "2024-01-03T18:15:33.749161Z",
     "iopub.status.idle": "2024-01-03T18:15:33.778072Z",
     "shell.execute_reply": "2024-01-03T18:15:33.777161Z",
     "shell.execute_reply.started": "2024-01-03T18:15:33.749504Z"
    }
   },
   "outputs": [
    {
     "name": "stdout",
     "output_type": "stream",
     "text": [
      "Actual complaint: \n",
      "Chase Card was reported on XX/XX/2019. However, fraudulent application have been submitted my identity without my consent to fraudulently obtain services. Do not extend credit without verifying the identity of the applicant.\n",
      "----------------------------------------------------------------------------------------------------\n",
      "Clean complaint: \n",
      "chase card reported however fraudulent application submitted identity without consent fraudulently obtain services extend credit without verifying identity applicant\n",
      "----------------------------------------------------------------------------------------------------\n",
      "Lemma complaint: \n",
      "chase card report however fraudulent application submit identity without consent fraudulently obtain service extend credit without verify identity applicant\n",
      "----------------------------------------------------------------------------------------------------\n",
      "Lemma complaint with only NN tags: \n",
      "card application identity consent credit identity applicant\n"
     ]
    }
   ],
   "source": [
    "print(\"Actual complaint: \" + \"\\n\" +df[\"complaint_what_happened\"][2])\n",
    "\n",
    "print(\"-\"*100)\n",
    "\n",
    "clean_text = clean_sent(df[\"complaint_what_happened\"][2])\n",
    "print(\"Clean complaint: \" + \"\\n\" + clean_text)\n",
    "\n",
    "print(\"-\"*100)\n",
    "sent,sent_with_nn = lemma_pos_tag_sent(clean_text)\n",
    "print(\"Lemma complaint: \" + \"\\n\" +sent)\n",
    "\n",
    "print(\"-\"*100)\n",
    "print(\"Lemma complaint with only NN tags: \" + \"\\n\" +sent_with_nn)"
   ]
  },
  {
   "cell_type": "code",
   "execution_count": 168,
   "metadata": {
    "execution": {
     "iopub.execute_input": "2024-01-03T18:15:33.779601Z",
     "iopub.status.busy": "2024-01-03T18:15:33.779322Z",
     "iopub.status.idle": "2024-01-03T18:15:33.784300Z",
     "shell.execute_reply": "2024-01-03T18:15:33.783347Z",
     "shell.execute_reply.started": "2024-01-03T18:15:33.779576Z"
    }
   },
   "outputs": [],
   "source": [
    "# combine both clean_sent and lemma_pos_tag_sent\n",
    "def preprocess_sent(sent):\n",
    "    sent = clean_sent(sent)\n",
    "    sent, sent_with_nn_tag = lemma_pos_tag_sent(sent)\n",
    "    return sent, sent_with_nn_tag"
   ]
  },
  {
   "cell_type": "code",
   "execution_count": 169,
   "metadata": {
    "execution": {
     "iopub.execute_input": "2024-01-03T18:15:33.785864Z",
     "iopub.status.busy": "2024-01-03T18:15:33.785490Z",
     "iopub.status.idle": "2024-01-03T18:25:18.036000Z",
     "shell.execute_reply": "2024-01-03T18:25:18.035007Z",
     "shell.execute_reply.started": "2024-01-03T18:15:33.785838Z"
    },
    "id": "uXnN7aa_JrF0"
   },
   "outputs": [
    {
     "data": {
      "application/vnd.jupyter.widget-view+json": {
       "model_id": "540ad7280b3b43ae863a15c007b338bc",
       "version_major": 2,
       "version_minor": 0
      },
      "text/plain": [
       "Pandas Apply:   0%|          | 0/21072 [00:00<?, ?it/s]"
      ]
     },
     "metadata": {},
     "output_type": "display_data"
    },
    {
     "data": {
      "application/vnd.jupyter.widget-view+json": {
       "model_id": "11de0f0368c64e91a3e2ecae5ba7e9e2",
       "version_major": 2,
       "version_minor": 0
      },
      "text/plain": [
       "Pandas Apply:   0%|          | 0/21072 [00:00<?, ?it/s]"
      ]
     },
     "metadata": {},
     "output_type": "display_data"
    }
   ],
   "source": [
    "#Create a dataframe('df_clean') that will have only the complaints and the lemmatized complaints \n",
    "df_clean = pd.DataFrame()\n",
    "\n",
    "df_clean['complaints'] = df['complaint_what_happened'].swifter.apply(lambda x : clean_sent(x))\n",
    "df_clean['output_lemma_tag'] = df['complaint_what_happened'].swifter.apply(lambda x : preprocess_sent(x) )\n",
    "\n"
   ]
  },
  {
   "cell_type": "code",
   "execution_count": 170,
   "metadata": {
    "execution": {
     "iopub.execute_input": "2024-01-03T18:25:18.037516Z",
     "iopub.status.busy": "2024-01-03T18:25:18.037184Z",
     "iopub.status.idle": "2024-01-03T18:25:18.050341Z",
     "shell.execute_reply": "2024-01-03T18:25:18.049372Z",
     "shell.execute_reply.started": "2024-01-03T18:25:18.037489Z"
    }
   },
   "outputs": [],
   "source": [
    "df_clean[[\"lemma_complaints\",\"complaint_POS_removed\"]] = pd.DataFrame(df_clean['output_lemma_tag'].to_list(),index = df_clean.index)"
   ]
  },
  {
   "cell_type": "code",
   "execution_count": 171,
   "metadata": {
    "execution": {
     "iopub.execute_input": "2024-01-03T18:25:18.052071Z",
     "iopub.status.busy": "2024-01-03T18:25:18.051701Z",
     "iopub.status.idle": "2024-01-03T18:25:18.071117Z",
     "shell.execute_reply": "2024-01-03T18:25:18.070093Z",
     "shell.execute_reply.started": "2024-01-03T18:25:18.052036Z"
    }
   },
   "outputs": [],
   "source": [
    "df_clean = df_clean.drop(['output_lemma_tag'],axis = 1)"
   ]
  },
  {
   "cell_type": "code",
   "execution_count": 172,
   "metadata": {
    "execution": {
     "iopub.execute_input": "2024-01-03T18:25:18.073152Z",
     "iopub.status.busy": "2024-01-03T18:25:18.072541Z",
     "iopub.status.idle": "2024-01-03T18:25:18.090291Z",
     "shell.execute_reply": "2024-01-03T18:25:18.089229Z",
     "shell.execute_reply.started": "2024-01-03T18:25:18.073116Z"
    },
    "id": "nOiDVvEIJrF0"
   },
   "outputs": [
    {
     "data": {
      "text/html": [
       "<div>\n",
       "<style scoped>\n",
       "    .dataframe tbody tr th:only-of-type {\n",
       "        vertical-align: middle;\n",
       "    }\n",
       "\n",
       "    .dataframe tbody tr th {\n",
       "        vertical-align: top;\n",
       "    }\n",
       "\n",
       "    .dataframe thead th {\n",
       "        text-align: right;\n",
       "    }\n",
       "</style>\n",
       "<table border=\"1\" class=\"dataframe\">\n",
       "  <thead>\n",
       "    <tr style=\"text-align: right;\">\n",
       "      <th></th>\n",
       "      <th>complaints</th>\n",
       "      <th>lemma_complaints</th>\n",
       "      <th>complaint_POS_removed</th>\n",
       "    </tr>\n",
       "  </thead>\n",
       "  <tbody>\n",
       "    <tr>\n",
       "      <th>0</th>\n",
       "      <td>good morning name appreciate could help put stop chase bank cardmember services wrote chase asking debt verification sent statement acceptable asking bank validate debt instead receiving mail every month attempting collect debt right know information consumer chase account thanks advance help</td>\n",
       "      <td>good morning name appreciate could help put stop chase bank cardmember service write chase ask debt verification send statement acceptable ask bank validate debt instead receive mail every month attempt collect debt right know information consumer chase account thank advance help</td>\n",
       "      <td>morning name appreciate bank chase debt verification statement bank validate debt mail month collect debt information consumer chase account advance help</td>\n",
       "    </tr>\n",
       "    <tr>\n",
       "      <th>1</th>\n",
       "      <td>upgraded card told agent upgrade anniversary date would change turned agent giving wrong information order upgrade account changed anniversary date without consent recording agent misled</td>\n",
       "      <td>upgrade card tell agent upgrade anniversary date would change turn agent give wrong information order upgrade account change anniversary date without consent recording agent mislead</td>\n",
       "      <td>card agent upgrade anniversary date agent information order upgrade account anniversary date consent recording agent</td>\n",
       "    </tr>\n",
       "    <tr>\n",
       "      <th>2</th>\n",
       "      <td>chase card reported however fraudulent application submitted identity without consent fraudulently obtain services extend credit without verifying identity applicant</td>\n",
       "      <td>chase card report however fraudulent application submit identity without consent fraudulently obtain service extend credit without verify identity applicant</td>\n",
       "      <td>card application identity consent credit identity applicant</td>\n",
       "    </tr>\n",
       "    <tr>\n",
       "      <th>3</th>\n",
       "      <td>trying book ticket came across offer applied towards ticket applied rewards card put information offer within less minute notified via screen decision could made immediately contacted referred chase bank immediately contacted chase bank within getting notification screen told chase representative spoke application denied could state asked infor...</td>\n",
       "      <td>try book ticket come across offer apply towards ticket apply reward card put information offer within less minute notify via screen decision could make immediately contact refer chase bank immediately contact chase bank within get notification screen tell chase representative speak application deny could state ask information offer explain even...</td>\n",
       "      <td>book ticket offer ticket card information offer minute screen decision chase bank chase bank notification screen application state information offer credit offer account statement purchase ticket account application representative application request proceed application chase fact credit account name credit report chase information credit repor...</td>\n",
       "    </tr>\n",
       "    <tr>\n",
       "      <th>4</th>\n",
       "      <td>grand son give check deposit chase account fund clear chase bank closed account never paid money said need speek grand son check clear money taking chase bank refuse pay money grand son called chase times told call verify check owner country time date happen check number claim number chase</td>\n",
       "      <td>grand son give check deposit chase account fund clear chase bank closed account never pay money say need speek grand son check clear money take chase bank refuse pay money grand son call chase times tell call verify check owner country time date happen check number claim number chase</td>\n",
       "      <td>son check deposit chase account fund account money son money chase bank money son call verify check owner country check number claim number chase</td>\n",
       "    </tr>\n",
       "    <tr>\n",
       "      <th>...</th>\n",
       "      <td>...</td>\n",
       "      <td>...</td>\n",
       "      <td>...</td>\n",
       "    </tr>\n",
       "    <tr>\n",
       "      <th>21067</th>\n",
       "      <td>chase card customer well decade offered multiple solicitations acquiring new credit cards chase bonus airline miles hotel points approved new cards annual fee year less months payment always paid agreed chase closed cards one approved new cards never activated sent chase done harm credit charged annual fee even though cancelled account failed c...</td>\n",
       "      <td>chase card customer well decade offer multiple solicitation acquire new credit card chase bonus airline miles hotel point approve new card annual fee year less month payment always pay agree chase close card one approve new card never activate send chase do harm credit charge annual fee even though cancel account fail credit point airline hotel...</td>\n",
       "      <td>chase card customer decade credit chase fee year payment chase chase harm credit fee account credit credit enrollment credit airline charge</td>\n",
       "    </tr>\n",
       "    <tr>\n",
       "      <th>21068</th>\n",
       "      <td>wednesday called chas visa credit card provider asked make claim purchase protection benefit purchased three high school textbooks year old daughter transferred new school three books damaged water bottle backpack broke chase representative assured textbooks would covered instructed file claim immediately went website filed claim including uplo...</td>\n",
       "      <td>wednesday call chas visa credit card provider ask make claim purchase protection benefit purchase three high school textbook year old daughter transfer new school three book damage water bottle backpack break chase representative assure textbook would cover instruct file claim immediately go website file claim include upload request paperwork i...</td>\n",
       "      <td>visa credit card provider claim purchase protection benefit school year daughter school water bottle backpack representative file claim website claim paperwork copy credit card statement evidence damage website type item cover claim claim insurance provider review information contact business outline process email claim submission claim informa...</td>\n",
       "    </tr>\n",
       "    <tr>\n",
       "      <th>21069</th>\n",
       "      <td>familiar pay understand great risk provides consumers believed safe chase bank app chase almost years trust mobile banking sadly regretful told deal merchant except merchant refused answer inquiries shut communication website said merchant looks entirely legitamite even using faces highly successful brands individuals linked social media withou...</td>\n",
       "      <td>familiar pay understand great risk provide consumer believe safe chase bank app chase almost year trust mobile banking sadly regretful tell deal merchant except merchant refuse answer inquiry shut communication website say merchant look entirely legitamite even use face highly successful brand individual link social medium without consent perfo...</td>\n",
       "      <td>pay risk bank chase trust mobile banking deal merchant merchant answer communication website merchant consent research phone number information merchant account title cycle fraud voip identity bank report file report recourse matter protocol place address issue app verbiage point app branch chase banking service degree entitlement customer serv...</td>\n",
       "    </tr>\n",
       "    <tr>\n",
       "      <th>21070</th>\n",
       "      <td>flawless credit yrs ive chase credit cards chase freedom specifically since problems ever ive done many balance transfers life plenty experience recently balance transfer chase freedom many chase cards apparently freeedom got first bill minimum payment shocked immediately called representative told min payment high bc making pay balance transfe...</td>\n",
       "      <td>flawless credit yrs i ve chase credit card chase freedom specifically since problem ever i ve do many balance transfer life plenty experience recently balance transfer chase freedom many chase card apparently freeedom get first bill minimum payment shock immediately call representative tell min payment high bc make pay balance transfer fee fron...</td>\n",
       "      <td>credit yrs chase credit freedom balance life experience transfer chase freedom chase bill minimum payment min payment pay balance transfer fee balance rate advertise payment payment work chase wrong pay user agreement paperwork everyone world chase someone credit card payment percentage paperwork everyone payment transfer fee transfer balance c...</td>\n",
       "    </tr>\n",
       "    <tr>\n",
       "      <th>21071</th>\n",
       "      <td>roughly years ago closed accounts jp morgan chase bank order close unsecured line credit pay close account roughly payment closed accounts get late payment showed credit report years stating owe close dollars never payment schedules notifications years paid upon calling told need show proof paid would like think indeed paid would immediately re...</td>\n",
       "      <td>roughly year ago close account jp morgan chase bank order close unsecured line credit pay close account roughly payment closed account get late payment show credit report year state owe close dollar never payment schedule notification year pay upon call tell need show proof pay would like think indeed pay would immediately receive late payment ...</td>\n",
       "      <td>order line credit account payment payment credit report payment need show proof payment bank customer service way line banking</td>\n",
       "    </tr>\n",
       "  </tbody>\n",
       "</table>\n",
       "<p>21072 rows × 3 columns</p>\n",
       "</div>"
      ],
      "text/plain": [
       "                                                                                                                                                                                                                                                                                                                                                          complaints  \\\n",
       "0                                                              good morning name appreciate could help put stop chase bank cardmember services wrote chase asking debt verification sent statement acceptable asking bank validate debt instead receiving mail every month attempting collect debt right know information consumer chase account thanks advance help   \n",
       "1                                                                                                                                                                         upgraded card told agent upgrade anniversary date would change turned agent giving wrong information order upgrade account changed anniversary date without consent recording agent misled   \n",
       "2                                                                                                                                                                                              chase card reported however fraudulent application submitted identity without consent fraudulently obtain services extend credit without verifying identity applicant   \n",
       "3      trying book ticket came across offer applied towards ticket applied rewards card put information offer within less minute notified via screen decision could made immediately contacted referred chase bank immediately contacted chase bank within getting notification screen told chase representative spoke application denied could state asked infor...   \n",
       "4                                                                 grand son give check deposit chase account fund clear chase bank closed account never paid money said need speek grand son check clear money taking chase bank refuse pay money grand son called chase times told call verify check owner country time date happen check number claim number chase   \n",
       "...                                                                                                                                                                                                                                                                                                                                                              ...   \n",
       "21067  chase card customer well decade offered multiple solicitations acquiring new credit cards chase bonus airline miles hotel points approved new cards annual fee year less months payment always paid agreed chase closed cards one approved new cards never activated sent chase done harm credit charged annual fee even though cancelled account failed c...   \n",
       "21068  wednesday called chas visa credit card provider asked make claim purchase protection benefit purchased three high school textbooks year old daughter transferred new school three books damaged water bottle backpack broke chase representative assured textbooks would covered instructed file claim immediately went website filed claim including uplo...   \n",
       "21069  familiar pay understand great risk provides consumers believed safe chase bank app chase almost years trust mobile banking sadly regretful told deal merchant except merchant refused answer inquiries shut communication website said merchant looks entirely legitamite even using faces highly successful brands individuals linked social media withou...   \n",
       "21070  flawless credit yrs ive chase credit cards chase freedom specifically since problems ever ive done many balance transfers life plenty experience recently balance transfer chase freedom many chase cards apparently freeedom got first bill minimum payment shocked immediately called representative told min payment high bc making pay balance transfe...   \n",
       "21071  roughly years ago closed accounts jp morgan chase bank order close unsecured line credit pay close account roughly payment closed accounts get late payment showed credit report years stating owe close dollars never payment schedules notifications years paid upon calling told need show proof paid would like think indeed paid would immediately re...   \n",
       "\n",
       "                                                                                                                                                                                                                                                                                                                                                    lemma_complaints  \\\n",
       "0                                                                           good morning name appreciate could help put stop chase bank cardmember service write chase ask debt verification send statement acceptable ask bank validate debt instead receive mail every month attempt collect debt right know information consumer chase account thank advance help   \n",
       "1                                                                                                                                                                              upgrade card tell agent upgrade anniversary date would change turn agent give wrong information order upgrade account change anniversary date without consent recording agent mislead   \n",
       "2                                                                                                                                                                                                       chase card report however fraudulent application submit identity without consent fraudulently obtain service extend credit without verify identity applicant   \n",
       "3      try book ticket come across offer apply towards ticket apply reward card put information offer within less minute notify via screen decision could make immediately contact refer chase bank immediately contact chase bank within get notification screen tell chase representative speak application deny could state ask information offer explain even...   \n",
       "4                                                                       grand son give check deposit chase account fund clear chase bank closed account never pay money say need speek grand son check clear money take chase bank refuse pay money grand son call chase times tell call verify check owner country time date happen check number claim number chase   \n",
       "...                                                                                                                                                                                                                                                                                                                                                              ...   \n",
       "21067  chase card customer well decade offer multiple solicitation acquire new credit card chase bonus airline miles hotel point approve new card annual fee year less month payment always pay agree chase close card one approve new card never activate send chase do harm credit charge annual fee even though cancel account fail credit point airline hotel...   \n",
       "21068  wednesday call chas visa credit card provider ask make claim purchase protection benefit purchase three high school textbook year old daughter transfer new school three book damage water bottle backpack break chase representative assure textbook would cover instruct file claim immediately go website file claim include upload request paperwork i...   \n",
       "21069  familiar pay understand great risk provide consumer believe safe chase bank app chase almost year trust mobile banking sadly regretful tell deal merchant except merchant refuse answer inquiry shut communication website say merchant look entirely legitamite even use face highly successful brand individual link social medium without consent perfo...   \n",
       "21070  flawless credit yrs i ve chase credit card chase freedom specifically since problem ever i ve do many balance transfer life plenty experience recently balance transfer chase freedom many chase card apparently freeedom get first bill minimum payment shock immediately call representative tell min payment high bc make pay balance transfer fee fron...   \n",
       "21071  roughly year ago close account jp morgan chase bank order close unsecured line credit pay close account roughly payment closed account get late payment show credit report year state owe close dollar never payment schedule notification year pay upon call tell need show proof pay would like think indeed pay would immediately receive late payment ...   \n",
       "\n",
       "                                                                                                                                                                                                                                                                                                                                               complaint_POS_removed  \n",
       "0                                                                                                                                                                                                          morning name appreciate bank chase debt verification statement bank validate debt mail month collect debt information consumer chase account advance help  \n",
       "1                                                                                                                                                                                                                                               card agent upgrade anniversary date agent information order upgrade account anniversary date consent recording agent  \n",
       "2                                                                                                                                                                                                                                                                                                        card application identity consent credit identity applicant  \n",
       "3      book ticket offer ticket card information offer minute screen decision chase bank chase bank notification screen application state information offer credit offer account statement purchase ticket account application representative application request proceed application chase fact credit account name credit report chase information credit repor...  \n",
       "4                                                                                                                                                                                                                  son check deposit chase account fund account money son money chase bank money son call verify check owner country check number claim number chase  \n",
       "...                                                                                                                                                                                                                                                                                                                                                              ...  \n",
       "21067                                                                                                                                                                                                                    chase card customer decade credit chase fee year payment chase chase harm credit fee account credit credit enrollment credit airline charge  \n",
       "21068  visa credit card provider claim purchase protection benefit school year daughter school water bottle backpack representative file claim website claim paperwork copy credit card statement evidence damage website type item cover claim claim insurance provider review information contact business outline process email claim submission claim informa...  \n",
       "21069  pay risk bank chase trust mobile banking deal merchant merchant answer communication website merchant consent research phone number information merchant account title cycle fraud voip identity bank report file report recourse matter protocol place address issue app verbiage point app branch chase banking service degree entitlement customer serv...  \n",
       "21070  credit yrs chase credit freedom balance life experience transfer chase freedom chase bill minimum payment min payment pay balance transfer fee balance rate advertise payment payment work chase wrong pay user agreement paperwork everyone world chase someone credit card payment percentage paperwork everyone payment transfer fee transfer balance c...  \n",
       "21071                                                                                                                                                                                                                                 order line credit account payment payment credit report payment need show proof payment bank customer service way line banking  \n",
       "\n",
       "[21072 rows x 3 columns]"
      ]
     },
     "execution_count": 172,
     "metadata": {},
     "output_type": "execute_result"
    }
   ],
   "source": [
    "df_clean"
   ]
  },
  {
   "cell_type": "markdown",
   "metadata": {
    "id": "_7Un1AElJrF2"
   },
   "source": [
    "## Exploratory data analysis to get familiar with the data.\n",
    "\n",
    "\n",
    "*   Visualise the data according to the 'Complaint' character length\n",
    "*   Using a word cloud find the top 40 words by frequency among all the articles after processing the text\n",
    "*   Find the top unigrams,bigrams and trigrams by frequency among all the complaints after processing the text. ‘\n",
    "\n",
    "\n"
   ]
  },
  {
   "cell_type": "code",
   "execution_count": 173,
   "metadata": {
    "execution": {
     "iopub.execute_input": "2024-01-03T18:25:18.091603Z",
     "iopub.status.busy": "2024-01-03T18:25:18.091358Z",
     "iopub.status.idle": "2024-01-03T18:25:19.225795Z",
     "shell.execute_reply": "2024-01-03T18:25:19.224858Z",
     "shell.execute_reply.started": "2024-01-03T18:25:18.091581Z"
    },
    "id": "q-zaqJF6JrF2"
   },
   "outputs": [
    {
     "name": "stdout",
     "output_type": "stream",
     "text": [
      "Highest complaint character length: 20028\n"
     ]
    },
    {
     "data": {
      "image/png": "[encoded data removed]",
      "text/plain": [
       "<Figure size 500x500 with 1 Axes>"
      ]
     },
     "metadata": {},
     "output_type": "display_data"
    }
   ],
   "source": [
    "# Write your code here to visualise the data according to the 'Complaint' character length\n",
    "df_clean[\"complaint_length\"] = df_clean[\"complaints\"].apply(lambda x : (len(x) - x.count(\" \")))\n",
    "print(\"Highest complaint character length: {}\".format(df_clean[\"complaint_length\"].max()))\n",
    "sns.displot(df_clean['complaint_length'])\n",
    "plt.show()"
   ]
  },
  {
   "cell_type": "markdown",
   "metadata": {},
   "source": [
    "Most of the complaint length is within 2500 character(ignoring space)"
   ]
  },
  {
   "cell_type": "markdown",
   "metadata": {
    "id": "T9jD_6SeJrF3"
   },
   "source": [
    "#### Find the top 40 words by frequency among all the articles after processing the text."
   ]
  },
  {
   "cell_type": "code",
   "execution_count": 174,
   "metadata": {
    "execution": {
     "iopub.execute_input": "2024-01-03T18:25:19.227219Z",
     "iopub.status.busy": "2024-01-03T18:25:19.226926Z",
     "iopub.status.idle": "2024-01-03T18:25:19.246924Z",
     "shell.execute_reply": "2024-01-03T18:25:19.245950Z",
     "shell.execute_reply.started": "2024-01-03T18:25:19.227178Z"
    },
    "id": "QcfdvtfZJrF3"
   },
   "outputs": [],
   "source": [
    "#Using a word cloud find the top 40 words by frequency among all the articles after processing the text\n",
    "from wordcloud import WordCloud,STOPWORDS\n",
    "stopwords = set(STOPWORDS)\n",
    "all_complaints = \"\"\n",
    "\n",
    "all_complaints = \" \".join([sentence for sentence in df_clean['complaint_POS_removed']])"
   ]
  },
  {
   "cell_type": "code",
   "execution_count": 175,
   "metadata": {
    "execution": {
     "iopub.execute_input": "2024-01-03T18:25:19.248896Z",
     "iopub.status.busy": "2024-01-03T18:25:19.248278Z",
     "iopub.status.idle": "2024-01-03T18:25:19.258618Z",
     "shell.execute_reply": "2024-01-03T18:25:19.257653Z",
     "shell.execute_reply.started": "2024-01-03T18:25:19.248869Z"
    }
   },
   "outputs": [
    {
     "data": {
      "text/plain": [
       "'morning name appreciate bank chase debt verification statement bank validate debt mail month collect debt information consumer chase account advance help card agent upgrade anniversary date agent information order upgrade account anniversary date consent recording agent card application identity consent credit identity applicant book ticket offer ticket card information offer minute screen decision chase bank chase bank notification screen application state information offer credit offer account statement purchase ticket account application representative application request proceed application chase fact credit account name credit report chase information credit report process application consent error son check deposit chase account fund account money son money chase bank money son call verify check owner country check number claim number chase inquiry account debit card branch customer service representative account branch deposit place employment bank customer service representative business day branch account statement business day date bank teller chase check business account bind rent car notice peace mind fact chase situation bank teller inform account look chase account time notice form document notice peace mind fact chase situation bank teller inform account look chase account time notice form document situation livelihood deal summer experience decline income employment month payment extension auto loan company chase payment extension auto loan payment month payment extension year representative supervisor discussion reason reason denial office executive director chase followup week office role help matter representative conference call department handing request information request policy explanation representative letter explanation reason policy cfpb help payment extension request reason denial payment retailer chase pay chase website scam website confirmation product response order chase information transaction attempt bank chase message explaining w'"
      ]
     },
     "execution_count": 175,
     "metadata": {},
     "output_type": "execute_result"
    }
   ],
   "source": [
    "all_complaints[0:2000]"
   ]
  },
  {
   "cell_type": "code",
   "execution_count": 176,
   "metadata": {
    "execution": {
     "iopub.execute_input": "2024-01-03T18:25:19.260376Z",
     "iopub.status.busy": "2024-01-03T18:25:19.259793Z",
     "iopub.status.idle": "2024-01-03T18:25:26.119063Z",
     "shell.execute_reply": "2024-01-03T18:25:26.118146Z",
     "shell.execute_reply.started": "2024-01-03T18:25:19.260343Z"
    }
   },
   "outputs": [
    {
     "data": {
      "image/png": "[encoded data removed]",
      "text/plain": [
       "<Figure size 1000x500 with 1 Axes>"
      ]
     },
     "metadata": {},
     "output_type": "display_data"
    }
   ],
   "source": [
    "# word cloud to visulize most common words\n",
    "word_cloud = WordCloud(width=400,height= 400, background_color='white',stopwords=stopwords).generate_from_text(all_complaints)\n",
    "plt.figure(figsize=(10,5))\n",
    "plt.imshow(word_cloud)\n",
    "plt.show()"
   ]
  },
  {
   "cell_type": "markdown",
   "metadata": {
    "id": "5DfCSbbmJrF4"
   },
   "source": [
    "#### Find the top unigrams,bigrams and trigrams by frequency among all the complaints after processing the text."
   ]
  },
  {
   "cell_type": "code",
   "execution_count": 177,
   "metadata": {
    "execution": {
     "iopub.execute_input": "2024-01-03T18:25:26.120513Z",
     "iopub.status.busy": "2024-01-03T18:25:26.120230Z",
     "iopub.status.idle": "2024-01-03T18:25:26.968263Z",
     "shell.execute_reply": "2024-01-03T18:25:26.967331Z",
     "shell.execute_reply.started": "2024-01-03T18:25:26.120488Z"
    }
   },
   "outputs": [
    {
     "data": {
      "text/plain": [
       "[('chase', 58251),\n",
       " ('account', 38639),\n",
       " ('credit', 32442),\n",
       " ('card', 26567),\n",
       " ('bank', 18674),\n",
       " ('payment', 13960),\n",
       " ('time', 11931),\n",
       " ('money', 11893),\n",
       " ('loan', 9811),\n",
       " ('information', 9585),\n",
       " ('letter', 8334),\n",
       " ('check', 7894),\n",
       " ('number', 7752),\n",
       " ('mortgage', 7738),\n",
       " ('amount', 7533),\n",
       " ('phone', 7454),\n",
       " ('balance', 7086),\n",
       " ('report', 6740),\n",
       " ('call', 6601),\n",
       " ('fraud', 6537),\n",
       " ('customer', 6411),\n",
       " ('company', 6321),\n",
       " ('charge', 6000),\n",
       " ('day', 5638),\n",
       " ('dispute', 5392),\n",
       " ('business', 5335),\n",
       " ('service', 5301),\n",
       " ('interest', 5191),\n",
       " ('email', 5066),\n",
       " ('claim', 4997),\n",
       " ('transaction', 4766),\n",
       " ('branch', 4646),\n",
       " ('fee', 4311),\n",
       " ('date', 4271),\n",
       " ('name', 4223),\n",
       " ('issue', 4218),\n",
       " ('home', 4197),\n",
       " ('month', 4174),\n",
       " ('pay', 3966),\n",
       " ('complaint', 3919)]"
      ]
     },
     "execution_count": 177,
     "metadata": {},
     "output_type": "execute_result"
    }
   ],
   "source": [
    "# top 40 unigram frequency\n",
    "word_freq = nltk.FreqDist(all_complaints.split())\n",
    "word_freq.most_common(40)"
   ]
  },
  {
   "cell_type": "code",
   "execution_count": 178,
   "metadata": {
    "execution": {
     "iopub.execute_input": "2024-01-03T18:25:26.969854Z",
     "iopub.status.busy": "2024-01-03T18:25:26.969535Z",
     "iopub.status.idle": "2024-01-03T18:25:37.977540Z",
     "shell.execute_reply": "2024-01-03T18:25:37.976504Z",
     "shell.execute_reply.started": "2024-01-03T18:25:26.969826Z"
    },
    "id": "5mbk5DS5JrF4"
   },
   "outputs": [
    {
     "data": {
      "text/plain": [
       "[(('credit', 'card'), 11029),\n",
       " (('chase', 'credit'), 3837),\n",
       " (('credit', 'report'), 3283),\n",
       " (('account', 'chase'), 3206),\n",
       " (('chase', 'bank'), 2970),\n",
       " (('customer', 'service'), 2951),\n",
       " (('chase', 'account'), 2846),\n",
       " (('account', 'account'), 2669),\n",
       " (('chase', 'chase'), 2063),\n",
       " (('card', 'chase'), 2037),\n",
       " (('bank', 'account'), 1990),\n",
       " (('debit', 'card'), 1868),\n",
       " (('chase', 'card'), 1838),\n",
       " (('credit', 'score'), 1612),\n",
       " (('card', 'account'), 1532),\n",
       " (('money', 'account'), 1465),\n",
       " (('account', 'credit'), 1403),\n",
       " (('letter', 'chase'), 1389),\n",
       " (('card', 'credit'), 1177),\n",
       " (('phone', 'number'), 1142),\n",
       " (('card', 'card'), 1140),\n",
       " (('credit', 'credit'), 1112),\n",
       " (('account', 'bank'), 1108),\n",
       " (('payment', 'chase'), 1090),\n",
       " (('interest', 'rate'), 1073),\n",
       " (('chase', 'mortgage'), 1054),\n",
       " (('account', 'number'), 1048),\n",
       " (('checking', 'account'), 1045),\n",
       " (('credit', 'reporting'), 1025),\n",
       " (('payment', 'payment'), 996)]"
      ]
     },
     "execution_count": 178,
     "metadata": {},
     "output_type": "execute_result"
    }
   ],
   "source": [
    "# the top 30 bigram frequency among the complaints in the cleaned datafram(df_clean). \n",
    "tokens = word_tokenize(all_complaints)\n",
    "ngram_words = 2\n",
    "\n",
    "bigram_list = list(ngrams(tokens,ngram_words))\n",
    "word_freq = nltk.FreqDist(bigram_list)\n",
    "word_freq.most_common(30)"
   ]
  },
  {
   "cell_type": "code",
   "execution_count": 179,
   "metadata": {
    "execution": {
     "iopub.execute_input": "2024-01-03T18:25:37.986663Z",
     "iopub.status.busy": "2024-01-03T18:25:37.986338Z",
     "iopub.status.idle": "2024-01-03T18:25:48.613718Z",
     "shell.execute_reply": "2024-01-03T18:25:48.612664Z",
     "shell.execute_reply.started": "2024-01-03T18:25:37.986635Z"
    },
    "id": "REcVxNfvJrF-"
   },
   "outputs": [
    {
     "data": {
      "text/plain": [
       "[(('chase', 'credit', 'card'), 2247),\n",
       " (('credit', 'card', 'chase'), 904),\n",
       " (('credit', 'card', 'account'), 858),\n",
       " (('credit', 'card', 'company'), 814),\n",
       " (('credit', 'card', 'credit'), 606),\n",
       " (('chase', 'customer', 'service'), 444),\n",
       " (('card', 'credit', 'card'), 437),\n",
       " (('credit', 'report', 'credit'), 384),\n",
       " (('account', 'credit', 'card'), 335),\n",
       " (('chase', 'checking', 'account'), 317),\n",
       " (('credit', 'report', 'chase'), 311),\n",
       " (('account', 'chase', 'account'), 308),\n",
       " (('inquiry', 'credit', 'report'), 298),\n",
       " (('bank', 'credit', 'card'), 293),\n",
       " (('chase', 'auto', 'finance'), 290),\n",
       " (('chase', 'account', 'chase'), 289),\n",
       " (('chase', 'bank', 'account'), 253),\n",
       " (('account', 'credit', 'report'), 242),\n",
       " (('credit', 'card', 'bank'), 240),\n",
       " (('credit', 'card', 'card'), 240),\n",
       " (('account', 'account', 'account'), 239),\n",
       " (('customer', 'service', 'representative'), 236),\n",
       " (('freedom', 'credit', 'card'), 227),\n",
       " (('credit', 'card', 'balance'), 222),\n",
       " (('chase', 'account', 'account'), 220),\n",
       " (('victim', 'identity', 'theft'), 218),\n",
       " (('credit', 'reporting', 'act'), 208),\n",
       " (('credit', 'card', 'payment'), 206),\n",
       " (('charge', 'credit', 'card'), 206),\n",
       " (('chase', 'debit', 'card'), 203),\n",
       " (('card', 'chase', 'card'), 202),\n",
       " (('card', 'chase', 'credit'), 199),\n",
       " (('chase', 'freedom', 'credit'), 196),\n",
       " (('account', 'account', 'chase'), 195),\n",
       " (('chase', 'card', 'chase'), 186),\n",
       " (('account', 'chase', 'credit'), 184),\n",
       " (('credit', 'card', 'statement'), 181),\n",
       " (('chase', 'bank', 'credit'), 180),\n",
       " (('credit', 'score', 'credit'), 179),\n",
       " (('credit', 'credit', 'card'), 178)]"
      ]
     },
     "execution_count": 179,
     "metadata": {},
     "output_type": "execute_result"
    }
   ],
   "source": [
    "# ngram = 3\n",
    "tokens = word_tokenize(all_complaints)\n",
    "ngram_words = 3\n",
    "\n",
    "trigram_list = list(ngrams(tokens,ngram_words))\n",
    "word_freq = nltk.FreqDist(trigram_list)\n",
    "word_freq.most_common(40)"
   ]
  },
  {
   "cell_type": "markdown",
   "metadata": {
    "id": "k-I0k0QtJrGA"
   },
   "source": [
    "## Feature Extraction\n",
    "Convert the raw texts to a matrix of TF-IDF features\n",
    "\n",
    "**max_df** is used for removing terms that appear too frequently, also known as \"corpus-specific stop words\"\n",
    "max_df = 0.95 means \"ignore terms that appear in more than 95% of the complaints\"\n",
    "\n",
    "**min_df** is used for removing terms that appear too infrequently\n",
    "min_df = 2 means \"ignore terms that appear in less than 2 complaints\""
   ]
  },
  {
   "cell_type": "code",
   "execution_count": 180,
   "metadata": {
    "execution": {
     "iopub.execute_input": "2024-01-03T18:25:48.617774Z",
     "iopub.status.busy": "2024-01-03T18:25:48.617384Z",
     "iopub.status.idle": "2024-01-03T18:25:48.623773Z",
     "shell.execute_reply": "2024-01-03T18:25:48.622776Z",
     "shell.execute_reply.started": "2024-01-03T18:25:48.617744Z"
    },
    "id": "Y8fGwaCPJrGA"
   },
   "outputs": [],
   "source": [
    "# code to initialise the TfidfVectorizer \n",
    "tf_vectorizer = TfidfVectorizer(max_df=0.95,min_df = 2,stop_words='english')\n"
   ]
  },
  {
   "cell_type": "markdown",
   "metadata": {
    "id": "yYzD85nTJrGA"
   },
   "source": [
    "#### Create a document term matrix using fit_transform\n",
    "\n",
    "The contents of a document term matrix are tuples of (complaint_id,token_id) tf-idf score:\n",
    "The tuples that are not there have a tf-idf score of 0"
   ]
  },
  {
   "cell_type": "code",
   "execution_count": 181,
   "metadata": {
    "execution": {
     "iopub.execute_input": "2024-01-03T18:25:48.625319Z",
     "iopub.status.busy": "2024-01-03T18:25:48.624966Z",
     "iopub.status.idle": "2024-01-03T18:25:49.846059Z",
     "shell.execute_reply": "2024-01-03T18:25:49.844889Z",
     "shell.execute_reply.started": "2024-01-03T18:25:48.625292Z"
    },
    "id": "ffzdDpp_JrGB"
   },
   "outputs": [],
   "source": [
    "#code to create the Document Term Matrix by transforming the complaints column present in df_clean.\n",
    "tf_matrix = tf_vectorizer.fit_transform(df_clean['complaint_POS_removed'])"
   ]
  },
  {
   "cell_type": "code",
   "execution_count": 182,
   "metadata": {
    "execution": {
     "iopub.execute_input": "2024-01-03T18:25:49.847944Z",
     "iopub.status.busy": "2024-01-03T18:25:49.847561Z",
     "iopub.status.idle": "2024-01-03T18:25:50.895747Z",
     "shell.execute_reply": "2024-01-03T18:25:50.894877Z",
     "shell.execute_reply.started": "2024-01-03T18:25:49.847911Z"
    }
   },
   "outputs": [
    {
     "data": {
      "text/html": [
       "<div>\n",
       "<style scoped>\n",
       "    .dataframe tbody tr th:only-of-type {\n",
       "        vertical-align: middle;\n",
       "    }\n",
       "\n",
       "    .dataframe tbody tr th {\n",
       "        vertical-align: top;\n",
       "    }\n",
       "\n",
       "    .dataframe thead th {\n",
       "        text-align: right;\n",
       "    }\n",
       "</style>\n",
       "<table border=\"1\" class=\"dataframe\">\n",
       "  <thead>\n",
       "    <tr style=\"text-align: right;\">\n",
       "      <th></th>\n",
       "      <th>aarp</th>\n",
       "      <th>abandonment</th>\n",
       "      <th>abate</th>\n",
       "      <th>abatement</th>\n",
       "      <th>abbreviation</th>\n",
       "      <th>abhorrent</th>\n",
       "      <th>abide</th>\n",
       "      <th>ability</th>\n",
       "      <th>abreast</th>\n",
       "      <th>absence</th>\n",
       "      <th>...</th>\n",
       "      <th>yield</th>\n",
       "      <th>yoga</th>\n",
       "      <th>youth</th>\n",
       "      <th>youxxxx</th>\n",
       "      <th>yr</th>\n",
       "      <th>yrs</th>\n",
       "      <th>zilch</th>\n",
       "      <th>zip</th>\n",
       "      <th>zombie</th>\n",
       "      <th>zone</th>\n",
       "    </tr>\n",
       "  </thead>\n",
       "  <tbody>\n",
       "    <tr>\n",
       "      <th>0</th>\n",
       "      <td>0.0</td>\n",
       "      <td>0.0</td>\n",
       "      <td>0.0</td>\n",
       "      <td>0.0</td>\n",
       "      <td>0.0</td>\n",
       "      <td>0.0</td>\n",
       "      <td>0.0</td>\n",
       "      <td>0.0</td>\n",
       "      <td>0.0</td>\n",
       "      <td>0.0</td>\n",
       "      <td>...</td>\n",
       "      <td>0.0</td>\n",
       "      <td>0.0</td>\n",
       "      <td>0.0</td>\n",
       "      <td>0.0</td>\n",
       "      <td>0.0</td>\n",
       "      <td>0.000000</td>\n",
       "      <td>0.0</td>\n",
       "      <td>0.0</td>\n",
       "      <td>0.0</td>\n",
       "      <td>0.0</td>\n",
       "    </tr>\n",
       "    <tr>\n",
       "      <th>1</th>\n",
       "      <td>0.0</td>\n",
       "      <td>0.0</td>\n",
       "      <td>0.0</td>\n",
       "      <td>0.0</td>\n",
       "      <td>0.0</td>\n",
       "      <td>0.0</td>\n",
       "      <td>0.0</td>\n",
       "      <td>0.0</td>\n",
       "      <td>0.0</td>\n",
       "      <td>0.0</td>\n",
       "      <td>...</td>\n",
       "      <td>0.0</td>\n",
       "      <td>0.0</td>\n",
       "      <td>0.0</td>\n",
       "      <td>0.0</td>\n",
       "      <td>0.0</td>\n",
       "      <td>0.000000</td>\n",
       "      <td>0.0</td>\n",
       "      <td>0.0</td>\n",
       "      <td>0.0</td>\n",
       "      <td>0.0</td>\n",
       "    </tr>\n",
       "    <tr>\n",
       "      <th>2</th>\n",
       "      <td>0.0</td>\n",
       "      <td>0.0</td>\n",
       "      <td>0.0</td>\n",
       "      <td>0.0</td>\n",
       "      <td>0.0</td>\n",
       "      <td>0.0</td>\n",
       "      <td>0.0</td>\n",
       "      <td>0.0</td>\n",
       "      <td>0.0</td>\n",
       "      <td>0.0</td>\n",
       "      <td>...</td>\n",
       "      <td>0.0</td>\n",
       "      <td>0.0</td>\n",
       "      <td>0.0</td>\n",
       "      <td>0.0</td>\n",
       "      <td>0.0</td>\n",
       "      <td>0.000000</td>\n",
       "      <td>0.0</td>\n",
       "      <td>0.0</td>\n",
       "      <td>0.0</td>\n",
       "      <td>0.0</td>\n",
       "    </tr>\n",
       "    <tr>\n",
       "      <th>3</th>\n",
       "      <td>0.0</td>\n",
       "      <td>0.0</td>\n",
       "      <td>0.0</td>\n",
       "      <td>0.0</td>\n",
       "      <td>0.0</td>\n",
       "      <td>0.0</td>\n",
       "      <td>0.0</td>\n",
       "      <td>0.0</td>\n",
       "      <td>0.0</td>\n",
       "      <td>0.0</td>\n",
       "      <td>...</td>\n",
       "      <td>0.0</td>\n",
       "      <td>0.0</td>\n",
       "      <td>0.0</td>\n",
       "      <td>0.0</td>\n",
       "      <td>0.0</td>\n",
       "      <td>0.000000</td>\n",
       "      <td>0.0</td>\n",
       "      <td>0.0</td>\n",
       "      <td>0.0</td>\n",
       "      <td>0.0</td>\n",
       "    </tr>\n",
       "    <tr>\n",
       "      <th>4</th>\n",
       "      <td>0.0</td>\n",
       "      <td>0.0</td>\n",
       "      <td>0.0</td>\n",
       "      <td>0.0</td>\n",
       "      <td>0.0</td>\n",
       "      <td>0.0</td>\n",
       "      <td>0.0</td>\n",
       "      <td>0.0</td>\n",
       "      <td>0.0</td>\n",
       "      <td>0.0</td>\n",
       "      <td>...</td>\n",
       "      <td>0.0</td>\n",
       "      <td>0.0</td>\n",
       "      <td>0.0</td>\n",
       "      <td>0.0</td>\n",
       "      <td>0.0</td>\n",
       "      <td>0.000000</td>\n",
       "      <td>0.0</td>\n",
       "      <td>0.0</td>\n",
       "      <td>0.0</td>\n",
       "      <td>0.0</td>\n",
       "    </tr>\n",
       "    <tr>\n",
       "      <th>...</th>\n",
       "      <td>...</td>\n",
       "      <td>...</td>\n",
       "      <td>...</td>\n",
       "      <td>...</td>\n",
       "      <td>...</td>\n",
       "      <td>...</td>\n",
       "      <td>...</td>\n",
       "      <td>...</td>\n",
       "      <td>...</td>\n",
       "      <td>...</td>\n",
       "      <td>...</td>\n",
       "      <td>...</td>\n",
       "      <td>...</td>\n",
       "      <td>...</td>\n",
       "      <td>...</td>\n",
       "      <td>...</td>\n",
       "      <td>...</td>\n",
       "      <td>...</td>\n",
       "      <td>...</td>\n",
       "      <td>...</td>\n",
       "      <td>...</td>\n",
       "    </tr>\n",
       "    <tr>\n",
       "      <th>21067</th>\n",
       "      <td>0.0</td>\n",
       "      <td>0.0</td>\n",
       "      <td>0.0</td>\n",
       "      <td>0.0</td>\n",
       "      <td>0.0</td>\n",
       "      <td>0.0</td>\n",
       "      <td>0.0</td>\n",
       "      <td>0.0</td>\n",
       "      <td>0.0</td>\n",
       "      <td>0.0</td>\n",
       "      <td>...</td>\n",
       "      <td>0.0</td>\n",
       "      <td>0.0</td>\n",
       "      <td>0.0</td>\n",
       "      <td>0.0</td>\n",
       "      <td>0.0</td>\n",
       "      <td>0.000000</td>\n",
       "      <td>0.0</td>\n",
       "      <td>0.0</td>\n",
       "      <td>0.0</td>\n",
       "      <td>0.0</td>\n",
       "    </tr>\n",
       "    <tr>\n",
       "      <th>21068</th>\n",
       "      <td>0.0</td>\n",
       "      <td>0.0</td>\n",
       "      <td>0.0</td>\n",
       "      <td>0.0</td>\n",
       "      <td>0.0</td>\n",
       "      <td>0.0</td>\n",
       "      <td>0.0</td>\n",
       "      <td>0.0</td>\n",
       "      <td>0.0</td>\n",
       "      <td>0.0</td>\n",
       "      <td>...</td>\n",
       "      <td>0.0</td>\n",
       "      <td>0.0</td>\n",
       "      <td>0.0</td>\n",
       "      <td>0.0</td>\n",
       "      <td>0.0</td>\n",
       "      <td>0.000000</td>\n",
       "      <td>0.0</td>\n",
       "      <td>0.0</td>\n",
       "      <td>0.0</td>\n",
       "      <td>0.0</td>\n",
       "    </tr>\n",
       "    <tr>\n",
       "      <th>21069</th>\n",
       "      <td>0.0</td>\n",
       "      <td>0.0</td>\n",
       "      <td>0.0</td>\n",
       "      <td>0.0</td>\n",
       "      <td>0.0</td>\n",
       "      <td>0.0</td>\n",
       "      <td>0.0</td>\n",
       "      <td>0.0</td>\n",
       "      <td>0.0</td>\n",
       "      <td>0.0</td>\n",
       "      <td>...</td>\n",
       "      <td>0.0</td>\n",
       "      <td>0.0</td>\n",
       "      <td>0.0</td>\n",
       "      <td>0.0</td>\n",
       "      <td>0.0</td>\n",
       "      <td>0.000000</td>\n",
       "      <td>0.0</td>\n",
       "      <td>0.0</td>\n",
       "      <td>0.0</td>\n",
       "      <td>0.0</td>\n",
       "    </tr>\n",
       "    <tr>\n",
       "      <th>21070</th>\n",
       "      <td>0.0</td>\n",
       "      <td>0.0</td>\n",
       "      <td>0.0</td>\n",
       "      <td>0.0</td>\n",
       "      <td>0.0</td>\n",
       "      <td>0.0</td>\n",
       "      <td>0.0</td>\n",
       "      <td>0.0</td>\n",
       "      <td>0.0</td>\n",
       "      <td>0.0</td>\n",
       "      <td>...</td>\n",
       "      <td>0.0</td>\n",
       "      <td>0.0</td>\n",
       "      <td>0.0</td>\n",
       "      <td>0.0</td>\n",
       "      <td>0.0</td>\n",
       "      <td>0.172789</td>\n",
       "      <td>0.0</td>\n",
       "      <td>0.0</td>\n",
       "      <td>0.0</td>\n",
       "      <td>0.0</td>\n",
       "    </tr>\n",
       "    <tr>\n",
       "      <th>21071</th>\n",
       "      <td>0.0</td>\n",
       "      <td>0.0</td>\n",
       "      <td>0.0</td>\n",
       "      <td>0.0</td>\n",
       "      <td>0.0</td>\n",
       "      <td>0.0</td>\n",
       "      <td>0.0</td>\n",
       "      <td>0.0</td>\n",
       "      <td>0.0</td>\n",
       "      <td>0.0</td>\n",
       "      <td>...</td>\n",
       "      <td>0.0</td>\n",
       "      <td>0.0</td>\n",
       "      <td>0.0</td>\n",
       "      <td>0.0</td>\n",
       "      <td>0.0</td>\n",
       "      <td>0.000000</td>\n",
       "      <td>0.0</td>\n",
       "      <td>0.0</td>\n",
       "      <td>0.0</td>\n",
       "      <td>0.0</td>\n",
       "    </tr>\n",
       "  </tbody>\n",
       "</table>\n",
       "<p>21072 rows × 6168 columns</p>\n",
       "</div>"
      ],
      "text/plain": [
       "       aarp  abandonment  abate  abatement  abbreviation  abhorrent  abide  \\\n",
       "0       0.0          0.0    0.0        0.0           0.0        0.0    0.0   \n",
       "1       0.0          0.0    0.0        0.0           0.0        0.0    0.0   \n",
       "2       0.0          0.0    0.0        0.0           0.0        0.0    0.0   \n",
       "3       0.0          0.0    0.0        0.0           0.0        0.0    0.0   \n",
       "4       0.0          0.0    0.0        0.0           0.0        0.0    0.0   \n",
       "...     ...          ...    ...        ...           ...        ...    ...   \n",
       "21067   0.0          0.0    0.0        0.0           0.0        0.0    0.0   \n",
       "21068   0.0          0.0    0.0        0.0           0.0        0.0    0.0   \n",
       "21069   0.0          0.0    0.0        0.0           0.0        0.0    0.0   \n",
       "21070   0.0          0.0    0.0        0.0           0.0        0.0    0.0   \n",
       "21071   0.0          0.0    0.0        0.0           0.0        0.0    0.0   \n",
       "\n",
       "       ability  abreast  absence  ...  yield  yoga  youth  youxxxx   yr  \\\n",
       "0          0.0      0.0      0.0  ...    0.0   0.0    0.0      0.0  0.0   \n",
       "1          0.0      0.0      0.0  ...    0.0   0.0    0.0      0.0  0.0   \n",
       "2          0.0      0.0      0.0  ...    0.0   0.0    0.0      0.0  0.0   \n",
       "3          0.0      0.0      0.0  ...    0.0   0.0    0.0      0.0  0.0   \n",
       "4          0.0      0.0      0.0  ...    0.0   0.0    0.0      0.0  0.0   \n",
       "...        ...      ...      ...  ...    ...   ...    ...      ...  ...   \n",
       "21067      0.0      0.0      0.0  ...    0.0   0.0    0.0      0.0  0.0   \n",
       "21068      0.0      0.0      0.0  ...    0.0   0.0    0.0      0.0  0.0   \n",
       "21069      0.0      0.0      0.0  ...    0.0   0.0    0.0      0.0  0.0   \n",
       "21070      0.0      0.0      0.0  ...    0.0   0.0    0.0      0.0  0.0   \n",
       "21071      0.0      0.0      0.0  ...    0.0   0.0    0.0      0.0  0.0   \n",
       "\n",
       "            yrs  zilch  zip  zombie  zone  \n",
       "0      0.000000    0.0  0.0     0.0   0.0  \n",
       "1      0.000000    0.0  0.0     0.0   0.0  \n",
       "2      0.000000    0.0  0.0     0.0   0.0  \n",
       "3      0.000000    0.0  0.0     0.0   0.0  \n",
       "4      0.000000    0.0  0.0     0.0   0.0  \n",
       "...         ...    ...  ...     ...   ...  \n",
       "21067  0.000000    0.0  0.0     0.0   0.0  \n",
       "21068  0.000000    0.0  0.0     0.0   0.0  \n",
       "21069  0.000000    0.0  0.0     0.0   0.0  \n",
       "21070  0.172789    0.0  0.0     0.0   0.0  \n",
       "21071  0.000000    0.0  0.0     0.0   0.0  \n",
       "\n",
       "[21072 rows x 6168 columns]"
      ]
     },
     "execution_count": 182,
     "metadata": {},
     "output_type": "execute_result"
    }
   ],
   "source": [
    "pd.DataFrame(tf_matrix.toarray(),columns = tf_vectorizer.get_feature_names_out())"
   ]
  },
  {
   "cell_type": "markdown",
   "metadata": {
    "id": "7Q9lwvNEJrGB"
   },
   "source": [
    "## Topic Modelling using NMF\n",
    "\n",
    "Non-Negative Matrix Factorization (NMF) is an unsupervised technique so there are no labeling of topics that the model will be trained on. The way it works is that, NMF decomposes (or factorizes) high-dimensional vectors into a lower-dimensional representation. These lower-dimensional vectors are non-negative which also means their coefficients are non-negative.\n",
    "\n",
    "Steps involved:\n",
    "\n",
    "* Find the best number of clusters \n",
    "* Apply the best number to create word clusters\n",
    "* Inspect & validate the correction of each cluster wrt the complaints \n",
    "* Correct the labels if needed \n",
    "* Map the clusters to topics/cluster names"
   ]
  },
  {
   "cell_type": "code",
   "execution_count": 183,
   "metadata": {
    "execution": {
     "iopub.execute_input": "2024-01-03T18:25:50.897337Z",
     "iopub.status.busy": "2024-01-03T18:25:50.897019Z",
     "iopub.status.idle": "2024-01-03T18:25:50.901747Z",
     "shell.execute_reply": "2024-01-03T18:25:50.900747Z",
     "shell.execute_reply.started": "2024-01-03T18:25:50.897310Z"
    },
    "id": "amLT4omWJrGB"
   },
   "outputs": [],
   "source": [
    "from sklearn.decomposition import NMF"
   ]
  },
  {
   "cell_type": "markdown",
   "metadata": {
    "id": "0wYR1xUTJrGD"
   },
   "source": [
    "## Manual Topic Modeling\n",
    "You need to do take the trial & error approach to find the best num of topics for your NMF model.\n",
    "\n",
    "The only parameter that is required is the number of components i.e. the number of topics we want. This is the most crucial step in the whole topic modeling process and will greatly affect how good your final topics are."
   ]
  },
  {
   "cell_type": "code",
   "execution_count": 184,
   "metadata": {
    "execution": {
     "iopub.execute_input": "2024-01-03T18:25:50.903796Z",
     "iopub.status.busy": "2024-01-03T18:25:50.903099Z",
     "iopub.status.idle": "2024-01-03T18:25:50.911779Z",
     "shell.execute_reply": "2024-01-03T18:25:50.910827Z",
     "shell.execute_reply.started": "2024-01-03T18:25:50.903759Z"
    },
    "id": "sgd2A6bhJrGD"
   },
   "outputs": [],
   "source": [
    "#Load your nmf_model with the n_components i.e 5\n",
    "num_topics = 5\n",
    "\n",
    "#keep the random_state =40\n",
    "nmf_model = NMF(num_topics,random_state=40)"
   ]
  },
  {
   "cell_type": "code",
   "execution_count": 185,
   "metadata": {
    "execution": {
     "iopub.execute_input": "2024-01-03T18:25:50.913671Z",
     "iopub.status.busy": "2024-01-03T18:25:50.912996Z",
     "iopub.status.idle": "2024-01-03T18:25:52.789933Z",
     "shell.execute_reply": "2024-01-03T18:25:52.788544Z",
     "shell.execute_reply.started": "2024-01-03T18:25:50.913634Z"
    },
    "id": "VPMDYbt_JrGE"
   },
   "outputs": [
    {
     "data": {
      "text/plain": [
       "6168"
      ]
     },
     "execution_count": 185,
     "metadata": {},
     "output_type": "execute_result"
    }
   ],
   "source": [
    "W = nmf_model.fit_transform(tf_matrix)\n",
    "H = nmf_model.components_\n",
    "len(tf_vectorizer.get_feature_names_out())"
   ]
  },
  {
   "cell_type": "code",
   "execution_count": 186,
   "metadata": {
    "execution": {
     "iopub.execute_input": "2024-01-03T18:25:52.792518Z",
     "iopub.status.busy": "2024-01-03T18:25:52.791788Z",
     "iopub.status.idle": "2024-01-03T18:25:52.802439Z",
     "shell.execute_reply": "2024-01-03T18:25:52.801232Z",
     "shell.execute_reply.started": "2024-01-03T18:25:52.792464Z"
    }
   },
   "outputs": [
    {
     "data": {
      "text/plain": [
       "array([[0.00287864, 0.01600331, 0.01919064, 0.02826655, 0.009593  ],\n",
       "       [0.01126424, 0.0003426 , 0.00132998, 0.00820624, 0.00279014],\n",
       "       [0.01868052, 0.03488639, 0.        , 0.        , 0.        ],\n",
       "       ...,\n",
       "       [0.01219836, 0.0103485 , 0.00643821, 0.02191509, 0.00018144],\n",
       "       [0.04077158, 0.01478208, 0.00026085, 0.        , 0.11340081],\n",
       "       [0.        , 0.06081368, 0.        , 0.01461958, 0.13421247]])"
      ]
     },
     "execution_count": 186,
     "metadata": {},
     "output_type": "execute_result"
    }
   ],
   "source": [
    "W"
   ]
  },
  {
   "cell_type": "code",
   "execution_count": 187,
   "metadata": {
    "execution": {
     "iopub.execute_input": "2024-01-03T18:25:52.804757Z",
     "iopub.status.busy": "2024-01-03T18:25:52.804162Z",
     "iopub.status.idle": "2024-01-03T18:25:52.814719Z",
     "shell.execute_reply": "2024-01-03T18:25:52.813464Z",
     "shell.execute_reply.started": "2024-01-03T18:25:52.804709Z"
    }
   },
   "outputs": [
    {
     "data": {
      "text/plain": [
       "array([[0.00920526, 0.        , 0.        , ..., 0.00806446, 0.        ,\n",
       "        0.00134465],\n",
       "       [0.00013861, 0.        , 0.        , ..., 0.00250023, 0.00183168,\n",
       "        0.        ],\n",
       "       [0.        , 0.0015743 , 0.00051742, ..., 0.00351094, 0.00082174,\n",
       "        0.00363648],\n",
       "       [0.        , 0.        , 0.        , ..., 0.00037112, 0.        ,\n",
       "        0.00166438],\n",
       "       [0.        , 0.        , 0.        , ..., 0.00721605, 0.        ,\n",
       "        0.00022698]])"
      ]
     },
     "execution_count": 187,
     "metadata": {},
     "output_type": "execute_result"
    }
   ],
   "source": [
    "H"
   ]
  },
  {
   "cell_type": "code",
   "execution_count": 188,
   "metadata": {
    "execution": {
     "iopub.execute_input": "2024-01-03T18:25:52.818339Z",
     "iopub.status.busy": "2024-01-03T18:25:52.816683Z",
     "iopub.status.idle": "2024-01-03T18:25:52.906033Z",
     "shell.execute_reply": "2024-01-03T18:25:52.904993Z",
     "shell.execute_reply.started": "2024-01-03T18:25:52.818274Z"
    },
    "id": "16kRfat5JrGE"
   },
   "outputs": [
    {
     "name": "stdout",
     "output_type": "stream",
     "text": [
      "        word1  word2  word3  word4  word5  word6  word7  word8  word9  word10  \\\n",
      "topic1    0.0    0.0    0.0    0.0    0.0    0.0    0.0    0.0    0.0     0.0   \n",
      "topic2    0.0    0.0    0.0    0.0    0.0    0.0    0.0    0.0    0.0     0.0   \n",
      "topic3    0.0    0.0    0.0    0.0    0.0    0.0    0.0    0.0    0.0     0.0   \n",
      "topic4    0.0    0.0    0.0    0.0    0.0    0.0    0.0    0.0    0.0     0.0   \n",
      "topic5    0.0    0.0    0.0    0.0    0.0    0.0    0.0    0.0    0.0     0.0   \n",
      "\n",
      "        word11  word12  word13  word14  word15  \n",
      "topic1     0.0     0.0     0.0     0.0     0.0  \n",
      "topic2     0.0     0.0     0.0     0.0     0.0  \n",
      "topic3     0.0     0.0     0.0     0.0     0.0  \n",
      "topic4     0.0     0.0     0.0     0.0     0.0  \n",
      "topic5     0.0     0.0     0.0     0.0     0.0  \n"
     ]
    },
    {
     "data": {
      "text/html": [
       "<div>\n",
       "<style scoped>\n",
       "    .dataframe tbody tr th:only-of-type {\n",
       "        vertical-align: middle;\n",
       "    }\n",
       "\n",
       "    .dataframe tbody tr th {\n",
       "        vertical-align: top;\n",
       "    }\n",
       "\n",
       "    .dataframe thead th {\n",
       "        text-align: right;\n",
       "    }\n",
       "</style>\n",
       "<table border=\"1\" class=\"dataframe\">\n",
       "  <thead>\n",
       "    <tr style=\"text-align: right;\">\n",
       "      <th></th>\n",
       "      <th>word1</th>\n",
       "      <th>word2</th>\n",
       "      <th>word3</th>\n",
       "      <th>word4</th>\n",
       "      <th>word5</th>\n",
       "      <th>word6</th>\n",
       "      <th>word7</th>\n",
       "      <th>word8</th>\n",
       "      <th>word9</th>\n",
       "      <th>word10</th>\n",
       "      <th>word11</th>\n",
       "      <th>word12</th>\n",
       "      <th>word13</th>\n",
       "      <th>word14</th>\n",
       "      <th>word15</th>\n",
       "    </tr>\n",
       "  </thead>\n",
       "  <tbody>\n",
       "    <tr>\n",
       "      <th>topic1</th>\n",
       "      <td>card</td>\n",
       "      <td>chase</td>\n",
       "      <td>credit</td>\n",
       "      <td>charge</td>\n",
       "      <td>dispute</td>\n",
       "      <td>fraud</td>\n",
       "      <td>merchant</td>\n",
       "      <td>company</td>\n",
       "      <td>purchase</td>\n",
       "      <td>fee</td>\n",
       "      <td>time</td>\n",
       "      <td>letter</td>\n",
       "      <td>phone</td>\n",
       "      <td>service</td>\n",
       "      <td>customer</td>\n",
       "    </tr>\n",
       "    <tr>\n",
       "      <th>topic2</th>\n",
       "      <td>credit</td>\n",
       "      <td>report</td>\n",
       "      <td>inquiry</td>\n",
       "      <td>score</td>\n",
       "      <td>debt</td>\n",
       "      <td>reporting</td>\n",
       "      <td>account</td>\n",
       "      <td>information</td>\n",
       "      <td>identity</td>\n",
       "      <td>limit</td>\n",
       "      <td>company</td>\n",
       "      <td>theft</td>\n",
       "      <td>bureaus</td>\n",
       "      <td>history</td>\n",
       "      <td>card</td>\n",
       "    </tr>\n",
       "    <tr>\n",
       "      <th>topic3</th>\n",
       "      <td>loan</td>\n",
       "      <td>mortgage</td>\n",
       "      <td>chase</td>\n",
       "      <td>modification</td>\n",
       "      <td>home</td>\n",
       "      <td>property</td>\n",
       "      <td>foreclosure</td>\n",
       "      <td>letter</td>\n",
       "      <td>rate</td>\n",
       "      <td>time</td>\n",
       "      <td>sale</td>\n",
       "      <td>process</td>\n",
       "      <td>information</td>\n",
       "      <td>house</td>\n",
       "      <td>refinance</td>\n",
       "    </tr>\n",
       "    <tr>\n",
       "      <th>topic4</th>\n",
       "      <td>account</td>\n",
       "      <td>bank</td>\n",
       "      <td>money</td>\n",
       "      <td>check</td>\n",
       "      <td>chase</td>\n",
       "      <td>deposit</td>\n",
       "      <td>branch</td>\n",
       "      <td>number</td>\n",
       "      <td>business</td>\n",
       "      <td>fraud</td>\n",
       "      <td>transaction</td>\n",
       "      <td>claim</td>\n",
       "      <td>information</td>\n",
       "      <td>day</td>\n",
       "      <td>customer</td>\n",
       "    </tr>\n",
       "    <tr>\n",
       "      <th>topic5</th>\n",
       "      <td>payment</td>\n",
       "      <td>balance</td>\n",
       "      <td>month</td>\n",
       "      <td>statement</td>\n",
       "      <td>fee</td>\n",
       "      <td>date</td>\n",
       "      <td>chase</td>\n",
       "      <td>pay</td>\n",
       "      <td>auto</td>\n",
       "      <td>time</td>\n",
       "      <td>day</td>\n",
       "      <td>car</td>\n",
       "      <td>error</td>\n",
       "      <td>account</td>\n",
       "      <td>history</td>\n",
       "    </tr>\n",
       "  </tbody>\n",
       "</table>\n",
       "</div>"
      ],
      "text/plain": [
       "          word1     word2    word3         word4    word5      word6  \\\n",
       "topic1     card     chase   credit        charge  dispute      fraud   \n",
       "topic2   credit    report  inquiry         score     debt  reporting   \n",
       "topic3     loan  mortgage    chase  modification     home   property   \n",
       "topic4  account      bank    money         check    chase    deposit   \n",
       "topic5  payment   balance    month     statement      fee       date   \n",
       "\n",
       "              word7        word8     word9 word10       word11   word12  \\\n",
       "topic1     merchant      company  purchase    fee         time   letter   \n",
       "topic2      account  information  identity  limit      company    theft   \n",
       "topic3  foreclosure       letter      rate   time         sale  process   \n",
       "topic4       branch       number  business  fraud  transaction    claim   \n",
       "topic5        chase          pay      auto   time          day      car   \n",
       "\n",
       "             word13   word14     word15  \n",
       "topic1        phone  service   customer  \n",
       "topic2      bureaus  history       card  \n",
       "topic3  information    house  refinance  \n",
       "topic4  information      day   customer  \n",
       "topic5        error  account    history  "
      ]
     },
     "execution_count": 188,
     "metadata": {},
     "output_type": "execute_result"
    }
   ],
   "source": [
    "#Print the Top15 words for each of the topics\n",
    "words = np.array(tf_vectorizer.get_feature_names_out())\n",
    "topic_model_df = pd.DataFrame(np.zeros((num_topics,15)),index = [f'topic{i + 1}' for i in range(num_topics)], columns= [f'word{i+1}' for i in range(15)])\n",
    "print(topic_model_df)\n",
    "\n",
    "for i in range(num_topics):\n",
    "    ix =  H[i].argsort()[::-1][:15]\n",
    "    topic_model_df.iloc[i] = words[ix]\n",
    "\n",
    "topic_model_df\n",
    "                                                                                "
   ]
  },
  {
   "cell_type": "code",
   "execution_count": 189,
   "metadata": {
    "execution": {
     "iopub.execute_input": "2024-01-03T18:25:52.908443Z",
     "iopub.status.busy": "2024-01-03T18:25:52.907762Z",
     "iopub.status.idle": "2024-01-03T18:25:52.913705Z",
     "shell.execute_reply": "2024-01-03T18:25:52.912665Z",
     "shell.execute_reply.started": "2024-01-03T18:25:52.908408Z"
    },
    "id": "0OIT7LmFJrGF"
   },
   "outputs": [],
   "source": [
    "#Create the best topic for each complaint in terms of integer value 0,1,2,3 & 4\n",
    "topic_int = {\n",
    "    'topic1' : 0,\n",
    "    'topic2' : 1,\n",
    "    'topic3' : 2,\n",
    "    'topic4' : 3,\n",
    "    'topic5' : 4,\n",
    "}\n"
   ]
  },
  {
   "cell_type": "code",
   "execution_count": 190,
   "metadata": {
    "execution": {
     "iopub.execute_input": "2024-01-03T18:25:52.916153Z",
     "iopub.status.busy": "2024-01-03T18:25:52.915444Z",
     "iopub.status.idle": "2024-01-03T18:25:53.755813Z",
     "shell.execute_reply": "2024-01-03T18:25:53.754994Z",
     "shell.execute_reply.started": "2024-01-03T18:25:52.916113Z"
    }
   },
   "outputs": [],
   "source": [
    "W = pd.DataFrame(W, columns = [f'topic{i+1}' for i in range(num_topics)])\n",
    "W['topic_int'] = W.apply(lambda x : topic_int.get(x.idxmax()),axis=1)"
   ]
  },
  {
   "cell_type": "code",
   "execution_count": 191,
   "metadata": {
    "execution": {
     "iopub.execute_input": "2024-01-03T18:25:53.757302Z",
     "iopub.status.busy": "2024-01-03T18:25:53.756988Z",
     "iopub.status.idle": "2024-01-03T18:25:53.774544Z",
     "shell.execute_reply": "2024-01-03T18:25:53.773568Z",
     "shell.execute_reply.started": "2024-01-03T18:25:53.757273Z"
    }
   },
   "outputs": [
    {
     "data": {
      "text/html": [
       "<div>\n",
       "<style scoped>\n",
       "    .dataframe tbody tr th:only-of-type {\n",
       "        vertical-align: middle;\n",
       "    }\n",
       "\n",
       "    .dataframe tbody tr th {\n",
       "        vertical-align: top;\n",
       "    }\n",
       "\n",
       "    .dataframe thead th {\n",
       "        text-align: right;\n",
       "    }\n",
       "</style>\n",
       "<table border=\"1\" class=\"dataframe\">\n",
       "  <thead>\n",
       "    <tr style=\"text-align: right;\">\n",
       "      <th></th>\n",
       "      <th>topic1</th>\n",
       "      <th>topic2</th>\n",
       "      <th>topic3</th>\n",
       "      <th>topic4</th>\n",
       "      <th>topic5</th>\n",
       "      <th>topic_int</th>\n",
       "    </tr>\n",
       "  </thead>\n",
       "  <tbody>\n",
       "    <tr>\n",
       "      <th>0</th>\n",
       "      <td>0.002879</td>\n",
       "      <td>0.016003</td>\n",
       "      <td>0.019191</td>\n",
       "      <td>0.028267</td>\n",
       "      <td>0.009593</td>\n",
       "      <td>3</td>\n",
       "    </tr>\n",
       "    <tr>\n",
       "      <th>1</th>\n",
       "      <td>0.011264</td>\n",
       "      <td>0.000343</td>\n",
       "      <td>0.001330</td>\n",
       "      <td>0.008206</td>\n",
       "      <td>0.002790</td>\n",
       "      <td>0</td>\n",
       "    </tr>\n",
       "    <tr>\n",
       "      <th>2</th>\n",
       "      <td>0.018681</td>\n",
       "      <td>0.034886</td>\n",
       "      <td>0.000000</td>\n",
       "      <td>0.000000</td>\n",
       "      <td>0.000000</td>\n",
       "      <td>1</td>\n",
       "    </tr>\n",
       "    <tr>\n",
       "      <th>3</th>\n",
       "      <td>0.020490</td>\n",
       "      <td>0.053152</td>\n",
       "      <td>0.016107</td>\n",
       "      <td>0.021612</td>\n",
       "      <td>0.000000</td>\n",
       "      <td>1</td>\n",
       "    </tr>\n",
       "    <tr>\n",
       "      <th>4</th>\n",
       "      <td>0.000213</td>\n",
       "      <td>0.000000</td>\n",
       "      <td>0.001098</td>\n",
       "      <td>0.070066</td>\n",
       "      <td>0.000000</td>\n",
       "      <td>3</td>\n",
       "    </tr>\n",
       "    <tr>\n",
       "      <th>...</th>\n",
       "      <td>...</td>\n",
       "      <td>...</td>\n",
       "      <td>...</td>\n",
       "      <td>...</td>\n",
       "      <td>...</td>\n",
       "      <td>...</td>\n",
       "    </tr>\n",
       "    <tr>\n",
       "      <th>21067</th>\n",
       "      <td>0.046044</td>\n",
       "      <td>0.071896</td>\n",
       "      <td>0.000343</td>\n",
       "      <td>0.008198</td>\n",
       "      <td>0.036916</td>\n",
       "      <td>1</td>\n",
       "    </tr>\n",
       "    <tr>\n",
       "      <th>21068</th>\n",
       "      <td>0.022377</td>\n",
       "      <td>0.008335</td>\n",
       "      <td>0.006370</td>\n",
       "      <td>0.010984</td>\n",
       "      <td>0.000000</td>\n",
       "      <td>0</td>\n",
       "    </tr>\n",
       "    <tr>\n",
       "      <th>21069</th>\n",
       "      <td>0.012198</td>\n",
       "      <td>0.010349</td>\n",
       "      <td>0.006438</td>\n",
       "      <td>0.021915</td>\n",
       "      <td>0.000181</td>\n",
       "      <td>3</td>\n",
       "    </tr>\n",
       "    <tr>\n",
       "      <th>21070</th>\n",
       "      <td>0.040772</td>\n",
       "      <td>0.014782</td>\n",
       "      <td>0.000261</td>\n",
       "      <td>0.000000</td>\n",
       "      <td>0.113401</td>\n",
       "      <td>4</td>\n",
       "    </tr>\n",
       "    <tr>\n",
       "      <th>21071</th>\n",
       "      <td>0.000000</td>\n",
       "      <td>0.060814</td>\n",
       "      <td>0.000000</td>\n",
       "      <td>0.014620</td>\n",
       "      <td>0.134212</td>\n",
       "      <td>4</td>\n",
       "    </tr>\n",
       "  </tbody>\n",
       "</table>\n",
       "<p>21072 rows × 6 columns</p>\n",
       "</div>"
      ],
      "text/plain": [
       "         topic1    topic2    topic3    topic4    topic5  topic_int\n",
       "0      0.002879  0.016003  0.019191  0.028267  0.009593          3\n",
       "1      0.011264  0.000343  0.001330  0.008206  0.002790          0\n",
       "2      0.018681  0.034886  0.000000  0.000000  0.000000          1\n",
       "3      0.020490  0.053152  0.016107  0.021612  0.000000          1\n",
       "4      0.000213  0.000000  0.001098  0.070066  0.000000          3\n",
       "...         ...       ...       ...       ...       ...        ...\n",
       "21067  0.046044  0.071896  0.000343  0.008198  0.036916          1\n",
       "21068  0.022377  0.008335  0.006370  0.010984  0.000000          0\n",
       "21069  0.012198  0.010349  0.006438  0.021915  0.000181          3\n",
       "21070  0.040772  0.014782  0.000261  0.000000  0.113401          4\n",
       "21071  0.000000  0.060814  0.000000  0.014620  0.134212          4\n",
       "\n",
       "[21072 rows x 6 columns]"
      ]
     },
     "execution_count": 191,
     "metadata": {},
     "output_type": "execute_result"
    }
   ],
   "source": [
    "W"
   ]
  },
  {
   "cell_type": "code",
   "execution_count": 192,
   "metadata": {
    "execution": {
     "iopub.execute_input": "2024-01-03T18:25:53.776311Z",
     "iopub.status.busy": "2024-01-03T18:25:53.775914Z",
     "iopub.status.idle": "2024-01-03T18:25:53.784701Z",
     "shell.execute_reply": "2024-01-03T18:25:53.783905Z",
     "shell.execute_reply.started": "2024-01-03T18:25:53.776282Z"
    },
    "id": "peyYv-ORJrGF"
   },
   "outputs": [],
   "source": [
    "#Assign the best topic to each of the cmplaints in Topic Column\n",
    "\n",
    "df_clean['Topic'] = W[\"topic_int\"]"
   ]
  },
  {
   "cell_type": "code",
   "execution_count": 193,
   "metadata": {
    "execution": {
     "iopub.execute_input": "2024-01-03T18:25:53.786046Z",
     "iopub.status.busy": "2024-01-03T18:25:53.785770Z",
     "iopub.status.idle": "2024-01-03T18:25:53.801846Z",
     "shell.execute_reply": "2024-01-03T18:25:53.800856Z",
     "shell.execute_reply.started": "2024-01-03T18:25:53.786022Z"
    },
    "id": "fLh_Gf3nJrGF"
   },
   "outputs": [
    {
     "data": {
      "text/html": [
       "<div>\n",
       "<style scoped>\n",
       "    .dataframe tbody tr th:only-of-type {\n",
       "        vertical-align: middle;\n",
       "    }\n",
       "\n",
       "    .dataframe tbody tr th {\n",
       "        vertical-align: top;\n",
       "    }\n",
       "\n",
       "    .dataframe thead th {\n",
       "        text-align: right;\n",
       "    }\n",
       "</style>\n",
       "<table border=\"1\" class=\"dataframe\">\n",
       "  <thead>\n",
       "    <tr style=\"text-align: right;\">\n",
       "      <th></th>\n",
       "      <th>complaints</th>\n",
       "      <th>lemma_complaints</th>\n",
       "      <th>complaint_POS_removed</th>\n",
       "      <th>complaint_length</th>\n",
       "      <th>Topic</th>\n",
       "    </tr>\n",
       "  </thead>\n",
       "  <tbody>\n",
       "    <tr>\n",
       "      <th>0</th>\n",
       "      <td>good morning name appreciate could help put stop chase bank cardmember services wrote chase asking debt verification sent statement acceptable asking bank validate debt instead receiving mail every month attempting collect debt right know information consumer chase account thanks advance help</td>\n",
       "      <td>good morning name appreciate could help put stop chase bank cardmember service write chase ask debt verification send statement acceptable ask bank validate debt instead receive mail every month attempt collect debt right know information consumer chase account thank advance help</td>\n",
       "      <td>morning name appreciate bank chase debt verification statement bank validate debt mail month collect debt information consumer chase account advance help</td>\n",
       "      <td>253</td>\n",
       "      <td>3</td>\n",
       "    </tr>\n",
       "    <tr>\n",
       "      <th>1</th>\n",
       "      <td>upgraded card told agent upgrade anniversary date would change turned agent giving wrong information order upgrade account changed anniversary date without consent recording agent misled</td>\n",
       "      <td>upgrade card tell agent upgrade anniversary date would change turn agent give wrong information order upgrade account change anniversary date without consent recording agent mislead</td>\n",
       "      <td>card agent upgrade anniversary date agent information order upgrade account anniversary date consent recording agent</td>\n",
       "      <td>162</td>\n",
       "      <td>0</td>\n",
       "    </tr>\n",
       "    <tr>\n",
       "      <th>2</th>\n",
       "      <td>chase card reported however fraudulent application submitted identity without consent fraudulently obtain services extend credit without verifying identity applicant</td>\n",
       "      <td>chase card report however fraudulent application submit identity without consent fraudulently obtain service extend credit without verify identity applicant</td>\n",
       "      <td>card application identity consent credit identity applicant</td>\n",
       "      <td>147</td>\n",
       "      <td>1</td>\n",
       "    </tr>\n",
       "    <tr>\n",
       "      <th>3</th>\n",
       "      <td>trying book ticket came across offer applied towards ticket applied rewards card put information offer within less minute notified via screen decision could made immediately contacted referred chase bank immediately contacted chase bank within getting notification screen told chase representative spoke application denied could state asked infor...</td>\n",
       "      <td>try book ticket come across offer apply towards ticket apply reward card put information offer within less minute notify via screen decision could make immediately contact refer chase bank immediately contact chase bank within get notification screen tell chase representative speak application deny could state ask information offer explain even...</td>\n",
       "      <td>book ticket offer ticket card information offer minute screen decision chase bank chase bank notification screen application state information offer credit offer account statement purchase ticket account application representative application request proceed application chase fact credit account name credit report chase information credit repor...</td>\n",
       "      <td>762</td>\n",
       "      <td>1</td>\n",
       "    </tr>\n",
       "    <tr>\n",
       "      <th>4</th>\n",
       "      <td>grand son give check deposit chase account fund clear chase bank closed account never paid money said need speek grand son check clear money taking chase bank refuse pay money grand son called chase times told call verify check owner country time date happen check number claim number chase</td>\n",
       "      <td>grand son give check deposit chase account fund clear chase bank closed account never pay money say need speek grand son check clear money take chase bank refuse pay money grand son call chase times tell call verify check owner country time date happen check number claim number chase</td>\n",
       "      <td>son check deposit chase account fund account money son money chase bank money son call verify check owner country check number claim number chase</td>\n",
       "      <td>242</td>\n",
       "      <td>3</td>\n",
       "    </tr>\n",
       "  </tbody>\n",
       "</table>\n",
       "</div>"
      ],
      "text/plain": [
       "                                                                                                                                                                                                                                                                                                                                                      complaints  \\\n",
       "0                                                          good morning name appreciate could help put stop chase bank cardmember services wrote chase asking debt verification sent statement acceptable asking bank validate debt instead receiving mail every month attempting collect debt right know information consumer chase account thanks advance help   \n",
       "1                                                                                                                                                                     upgraded card told agent upgrade anniversary date would change turned agent giving wrong information order upgrade account changed anniversary date without consent recording agent misled   \n",
       "2                                                                                                                                                                                          chase card reported however fraudulent application submitted identity without consent fraudulently obtain services extend credit without verifying identity applicant   \n",
       "3  trying book ticket came across offer applied towards ticket applied rewards card put information offer within less minute notified via screen decision could made immediately contacted referred chase bank immediately contacted chase bank within getting notification screen told chase representative spoke application denied could state asked infor...   \n",
       "4                                                             grand son give check deposit chase account fund clear chase bank closed account never paid money said need speek grand son check clear money taking chase bank refuse pay money grand son called chase times told call verify check owner country time date happen check number claim number chase   \n",
       "\n",
       "                                                                                                                                                                                                                                                                                                                                                lemma_complaints  \\\n",
       "0                                                                       good morning name appreciate could help put stop chase bank cardmember service write chase ask debt verification send statement acceptable ask bank validate debt instead receive mail every month attempt collect debt right know information consumer chase account thank advance help   \n",
       "1                                                                                                                                                                          upgrade card tell agent upgrade anniversary date would change turn agent give wrong information order upgrade account change anniversary date without consent recording agent mislead   \n",
       "2                                                                                                                                                                                                   chase card report however fraudulent application submit identity without consent fraudulently obtain service extend credit without verify identity applicant   \n",
       "3  try book ticket come across offer apply towards ticket apply reward card put information offer within less minute notify via screen decision could make immediately contact refer chase bank immediately contact chase bank within get notification screen tell chase representative speak application deny could state ask information offer explain even...   \n",
       "4                                                                   grand son give check deposit chase account fund clear chase bank closed account never pay money say need speek grand son check clear money take chase bank refuse pay money grand son call chase times tell call verify check owner country time date happen check number claim number chase   \n",
       "\n",
       "                                                                                                                                                                                                                                                                                                                                           complaint_POS_removed  \\\n",
       "0                                                                                                                                                                                                      morning name appreciate bank chase debt verification statement bank validate debt mail month collect debt information consumer chase account advance help   \n",
       "1                                                                                                                                                                                                                                           card agent upgrade anniversary date agent information order upgrade account anniversary date consent recording agent   \n",
       "2                                                                                                                                                                                                                                                                                                    card application identity consent credit identity applicant   \n",
       "3  book ticket offer ticket card information offer minute screen decision chase bank chase bank notification screen application state information offer credit offer account statement purchase ticket account application representative application request proceed application chase fact credit account name credit report chase information credit repor...   \n",
       "4                                                                                                                                                                                                              son check deposit chase account fund account money son money chase bank money son call verify check owner country check number claim number chase   \n",
       "\n",
       "   complaint_length  Topic  \n",
       "0               253      3  \n",
       "1               162      0  \n",
       "2               147      1  \n",
       "3               762      1  \n",
       "4               242      3  "
      ]
     },
     "execution_count": 193,
     "metadata": {},
     "output_type": "execute_result"
    }
   ],
   "source": [
    "df_clean.head()"
   ]
  },
  {
   "cell_type": "code",
   "execution_count": 194,
   "metadata": {
    "execution": {
     "iopub.execute_input": "2024-01-03T18:25:53.803298Z",
     "iopub.status.busy": "2024-01-03T18:25:53.802983Z",
     "iopub.status.idle": "2024-01-03T18:25:53.812050Z",
     "shell.execute_reply": "2024-01-03T18:25:53.811115Z",
     "shell.execute_reply.started": "2024-01-03T18:25:53.803273Z"
    }
   },
   "outputs": [
    {
     "data": {
      "text/plain": [
       "(21072, 5)"
      ]
     },
     "execution_count": 194,
     "metadata": {},
     "output_type": "execute_result"
    }
   ],
   "source": [
    "df_clean.shape"
   ]
  },
  {
   "cell_type": "code",
   "execution_count": 195,
   "metadata": {
    "execution": {
     "iopub.execute_input": "2024-01-03T18:25:53.813709Z",
     "iopub.status.busy": "2024-01-03T18:25:53.813422Z",
     "iopub.status.idle": "2024-01-03T18:25:53.821523Z",
     "shell.execute_reply": "2024-01-03T18:25:53.820640Z",
     "shell.execute_reply.started": "2024-01-03T18:25:53.813686Z"
    }
   },
   "outputs": [],
   "source": [
    "pd.set_option('display.max_colwidth', 350)"
   ]
  },
  {
   "cell_type": "code",
   "execution_count": 196,
   "metadata": {
    "execution": {
     "iopub.execute_input": "2024-01-03T18:25:53.823045Z",
     "iopub.status.busy": "2024-01-03T18:25:53.822725Z",
     "iopub.status.idle": "2024-01-03T18:25:53.847521Z",
     "shell.execute_reply": "2024-01-03T18:25:53.846538Z",
     "shell.execute_reply.started": "2024-01-03T18:25:53.823019Z"
    },
    "id": "aQKpufSPJrGG"
   },
   "outputs": [
    {
     "data": {
      "text/html": [
       "<div>\n",
       "<style scoped>\n",
       "    .dataframe tbody tr th:only-of-type {\n",
       "        vertical-align: middle;\n",
       "    }\n",
       "\n",
       "    .dataframe tbody tr th {\n",
       "        vertical-align: top;\n",
       "    }\n",
       "\n",
       "    .dataframe thead th {\n",
       "        text-align: right;\n",
       "    }\n",
       "</style>\n",
       "<table border=\"1\" class=\"dataframe\">\n",
       "  <thead>\n",
       "    <tr style=\"text-align: right;\">\n",
       "      <th></th>\n",
       "      <th>complaints</th>\n",
       "      <th>lemma_complaints</th>\n",
       "      <th>complaint_POS_removed</th>\n",
       "      <th>complaint_length</th>\n",
       "      <th>Topic</th>\n",
       "    </tr>\n",
       "  </thead>\n",
       "  <tbody>\n",
       "    <tr>\n",
       "      <th>21068</th>\n",
       "      <td>wednesday called chas visa credit card provider asked make claim purchase protection benefit purchased three high school textbooks year old daughter transferred new school three books damaged water bottle backpack broke chase representative assured textbooks would covered instructed file claim immediately went website filed claim including uplo...</td>\n",
       "      <td>wednesday call chas visa credit card provider ask make claim purchase protection benefit purchase three high school textbook year old daughter transfer new school three book damage water bottle backpack break chase representative assure textbook would cover instruct file claim immediately go website file claim include upload request paperwork i...</td>\n",
       "      <td>visa credit card provider claim purchase protection benefit school year daughter school water bottle backpack representative file claim website claim paperwork copy credit card statement evidence damage website type item cover claim claim insurance provider review information contact business outline process email claim submission claim informa...</td>\n",
       "      <td>1134</td>\n",
       "      <td>0</td>\n",
       "    </tr>\n",
       "    <tr>\n",
       "      <th>21064</th>\n",
       "      <td>filed dispute credit card company chase visa online purchase made chase visa kept closing dispute even though wasnt resolved acting upon misinformation vendor called discuss provide necessary documentation advised reopen another dispute four times since written disputes werent getting reviewed attempted phone resolution many times many chase as...</td>\n",
       "      <td>file dispute credit card company chase visa online purchase make chase visa keep closing dispute even though be not resolve act upon misinformation vendor call discuss provide necessary documentation advise reopen another dispute four time since write dispute be not getting review attempt phone resolution many time many chase associate foreign ...</td>\n",
       "      <td>dispute credit card company chase visa purchase chase visa closing dispute misinformation vendor documentation dispute phone resolution chase service chase branch assistance branch manager matter discover time chase visa research dispute followup fault chase responsibility failure resolve matter</td>\n",
       "      <td>583</td>\n",
       "      <td>0</td>\n",
       "    </tr>\n",
       "    <tr>\n",
       "      <th>21063</th>\n",
       "      <td>applied chase card using online portal chase clearly read terms conditions price terms apply card clearly mentioned like intro apr first months account open based creditworthiness aprs vary market based prime rate applied approved card apr didnt provide promotional apr mentioned online contacted chase customer care immediately computer mistake ...</td>\n",
       "      <td>apply chase card use online portal chase clearly read term condition price term apply card clearly mention like intro apr first month account open base creditworthiness aprs vary market base prime rate apply approve card apr do not provide promotional apr mention online contact chase customer care immediately computer mistake get apr please wai...</td>\n",
       "      <td>chase card chase price card aprs market rate card apr chase customer care computer mistake chase branch issue document website screenshot application change anything price card friend customer</td>\n",
       "      <td>590</td>\n",
       "      <td>0</td>\n",
       "    </tr>\n",
       "    <tr>\n",
       "      <th>21062</th>\n",
       "      <td>tried buy concert tickets someone know assume risk tried careful could asked lot questions asked ticket confirmation ultimately scammed dollars using chase quickpay ive tried remediate issue companies unwilling anything chase unwilling conduct sort investigation contact users bank account try remediate issue unwilling anything research done mad...</td>\n",
       "      <td>try buy concert ticket someone know assume risk try careful could ask lot question ask ticket confirmation ultimately scamme dollar use chase quickpay i ve try remediate issue company unwilling anything chase unwilling conduct sort investigation contact user bank account try remediate issue unwilling anything research done make transaction seem...</td>\n",
       "      <td>concert someone risk lot ticket confirmation chase quickpay issue anything conduct sort investigation contact issue anything research transaction company anything fix continue bank chase anything selfservice product use chase selfservice debit card offer demand bank partner</td>\n",
       "      <td>773</td>\n",
       "      <td>0</td>\n",
       "    </tr>\n",
       "    <tr>\n",
       "      <th>21060</th>\n",
       "      <td>account hacked notice received monday ordered someone used chase credit card saved account make order reported unauthorized transaction chase right found morning far solved chase decided responsible computer shipping billed first conversations chase told since item sold third party seller using platform responsible return suggest consult chase ...</td>\n",
       "      <td>account hack notice receive monday order someone use chase credit card save account make order report unauthorized transaction chase right find morning far solve chase decide responsible computer shipping bill first conversation chase tell since item sell third party seller use platform responsible return suggest consult chase action chase repl...</td>\n",
       "      <td>account notice someone chase credit card account order transaction chase morning chase computer shipping chase item party seller platform return chase action chase credit card package shipping receipt shipper information box person name name address phone number number nobody chase mailing address email address mine benefit transaction laptop h...</td>\n",
       "      <td>2339</td>\n",
       "      <td>0</td>\n",
       "    </tr>\n",
       "    <tr>\n",
       "      <th>21067</th>\n",
       "      <td>chase card customer well decade offered multiple solicitations acquiring new credit cards chase bonus airline miles hotel points approved new cards annual fee year less months payment always paid agreed chase closed cards one approved new cards never activated sent chase done harm credit charged annual fee even though cancelled account failed c...</td>\n",
       "      <td>chase card customer well decade offer multiple solicitation acquire new credit card chase bonus airline miles hotel point approve new card annual fee year less month payment always pay agree chase close card one approve new card never activate send chase do harm credit charge annual fee even though cancel account fail credit point airline hotel...</td>\n",
       "      <td>chase card customer decade credit chase fee year payment chase chase harm credit fee account credit credit enrollment credit airline charge</td>\n",
       "      <td>375</td>\n",
       "      <td>1</td>\n",
       "    </tr>\n",
       "    <tr>\n",
       "      <th>21049</th>\n",
       "      <td>following creditors chase bank charged debt irs confused discharged due bankruptcy listed attached credit report line item line item line item chase bank attached bankruptcy documents signed judge since creditors already charged debt prior settlement funds forwarded banks trustee need returned estate full closed addresses contact information in...</td>\n",
       "      <td>follow creditor chase bank charge debt irs confuse discharge due bankruptcy list attach credit report line item line item line item chase bank attach bankruptcy document sign judge since creditor already charge debt prior settlement fund forward bank trustee need return estate full closed address contact information include attach correspondenc...</td>\n",
       "      <td>bank debt bankruptcy credit report line item line item line item chase bank bankruptcy judge debt settlement trustee estate contact information correspondence advance help situation</td>\n",
       "      <td>360</td>\n",
       "      <td>1</td>\n",
       "    </tr>\n",
       "    <tr>\n",
       "      <th>21050</th>\n",
       "      <td>may concern checking recent credit report noticed credit inquiries authorize made chase credit card company called chase credit card company chase comply actions authorize anyone employed companies make inquiry view credit report violation fair credit reporting act section c serious breach privacy rights please validate information companies pr...</td>\n",
       "      <td>may concern check recent credit report notice credit inquiry authorize make chase credit card company call chase credit card company chase comply action authorize anyone employ company make inquiry view credit report violation fair credit reporting act section c serious breach privacy right please validate information company provide copy docum...</td>\n",
       "      <td>concern credit report credit credit card company chase credit card company chase anyone inquiry view credit report violation credit reporting section c breach privacy information documentation signature inquiry absence documentation signature credit file security number investigation credit reporting act section credit report</td>\n",
       "      <td>597</td>\n",
       "      <td>1</td>\n",
       "    </tr>\n",
       "    <tr>\n",
       "      <th>21052</th>\n",
       "      <td>received days late reporting credit reports chase bank late payment chase freedom unlimited credit card changing address via chase mobile app statements continued sent old address multiple months monthly payment amount changed receive statement bank believe chase still sending old address received late payment report address eventually changed ...</td>\n",
       "      <td>receive day late report credit report chase bank late payment chase freedom unlimited credit card change address via chase mobile app statement continue send old address multiple month monthly payment amount change receive statement bank believe chase still send old address receive late payment report address eventually change receive first sta...</td>\n",
       "      <td>credit payment chase freedom credit card address address payment amount statement bank address payment report address statement amount time bank inform error investigation bank error statement request address app credit card banking attach address change address today item faith filing complaint ruling bank error capacity payment bank error fac...</td>\n",
       "      <td>1127</td>\n",
       "      <td>1</td>\n",
       "    </tr>\n",
       "    <tr>\n",
       "      <th>21053</th>\n",
       "      <td>applied prequalify credit card chase bank said wouldnt put hard inquiry credit report put hard inquiry credit redicules said could see pre qualify said wouldnt hurt score made hard inquiry need taken immediately wanted improve credit score harm im collage student like response back call back thanks</td>\n",
       "      <td>apply prequalify credit card chase bank say would not put hard inquiry credit report put hard inquiry credit redicule say could see pre qualify say would not hurt score make hard inquiry need take immediately want improve credit score harm i m collage student like response back call back thank</td>\n",
       "      <td>prequalify credit card bank inquiry credit report inquiry credit score inquiry need credit score harm collage student response call</td>\n",
       "      <td>253</td>\n",
       "      <td>1</td>\n",
       "    </tr>\n",
       "    <tr>\n",
       "      <th>21041</th>\n",
       "      <td>dear cfpb trying modify mortgage loan chase bank issue dragged almost three years bank declined many exhausting attempts always overqualified qualified etc proposed alternative reinstate loan short sale effort reinstate loan went costly expenses since bring property code really upgrade house condition order put market attached mls page savings ...</td>\n",
       "      <td>dear cfpb try modify mortgage loan chase bank issue drag almost three year bank decline many exhausting attempt always overqualifie qualified etc propose alternative reinstate loan short sale effort reinstate loan go costly expense since bring property code really upgrade house condition order put market attach mls page saving dry give notice y...</td>\n",
       "      <td>cfpb mortgage loan chase bank issue bank reinstate loan sale effort reinstate loan property code house condition order market page notice way reinstate loan interest reason property sale sale action place sale foreclosure buyer purchase property send offer bank work property market chase property foreclosure auction bank want property</td>\n",
       "      <td>710</td>\n",
       "      <td>2</td>\n",
       "    </tr>\n",
       "    <tr>\n",
       "      <th>21043</th>\n",
       "      <td>heloc taken due failure notary appear signing document per bank manager loan went unsecured line credit took reverse mortgage different bank title escrow companies overlooked originally unsecured heloc somehow secured heloc home used collateral little year ago payment ballooned month per month able pay huge payments deed trust part heloc used f...</td>\n",
       "      <td>heloc take due failure notary appear sign document per bank manager loan went unsecured line credit take reverse mortgage different bank title escrow company overlook originally unsecured heloc somehow secure heloc home use collateral little year ago payment balloon month per month able pay huge payment deed trust part heloc use foreclose prope...</td>\n",
       "      <td>failure document bank manager loan line credit mortgage bank title escrow heloc home collateral year payment month month part property forgery county office affidavit evidence proof official trust title escrow report documentation deed trust bank manager line credit pay doubt forgery document document record document mail mail fraud case title ...</td>\n",
       "      <td>1724</td>\n",
       "      <td>2</td>\n",
       "    </tr>\n",
       "    <tr>\n",
       "      <th>21051</th>\n",
       "      <td>inquiry made loan secured vehicle purchased letter written try inquiry removed</td>\n",
       "      <td>inquiry make loan secure vehicle purchase letter write try inquiry remove</td>\n",
       "      <td>inquiry loan vehicle letter inquiry</td>\n",
       "      <td>68</td>\n",
       "      <td>2</td>\n",
       "    </tr>\n",
       "    <tr>\n",
       "      <th>21056</th>\n",
       "      <td>made multiple attempts retrieve documents loan file line credit agreement involving chase informally purchased straw man account made personage created borrow monies borrower straw man inflated value home concealed line credit loan benefited transaction leaving debt informally purchased chase</td>\n",
       "      <td>make multiple attempt retrieve document loan file line credit agreement involve chase informally purchase straw man account make personage create borrow monie borrower straw man inflate value home conceal line credit loan benefit transaction leave debt informally purchase chase</td>\n",
       "      <td>loan file line credit agreement chase straw man account personage borrow borrower straw man value line credit loan transaction debt chase</td>\n",
       "      <td>255</td>\n",
       "      <td>2</td>\n",
       "    </tr>\n",
       "    <tr>\n",
       "      <th>21061</th>\n",
       "      <td>hired local attorney help restructure personal corporate debts without filing bankruptcy attaching copy first cease desist letter mailed second cease desist letter mailed two weeks later however phone still flooded text messages calls several creditors therefore want end calls proper procedures followed process followed attorney fulfill final n...</td>\n",
       "      <td>hire local attorney help restructure personal corporate debt without file bankruptcy attach copy first cease desist letter mail second cease desist letter mail two week later however phone still flood text message call several creditor therefore want end call proper procedure follow process follow attorney fulfill final negotiation process cred...</td>\n",
       "      <td>attorney help bankruptcy copy letter cease desist letter phone text end process attorney fulfill process collection process party debt collection consumer collection collection text cell phone place business</td>\n",
       "      <td>634</td>\n",
       "      <td>2</td>\n",
       "    </tr>\n",
       "    <tr>\n",
       "      <th>21057</th>\n",
       "      <td>un approved charge chase checking account add offering free trials pills ordered free trial paid shipping cost pills dont work believe good contacted customer cancel receive email confirmation future charges account get charge additional product sent original free trial contacted bank added credit amount mid month received notice chase charge r...</td>\n",
       "      <td>un approve charge chase checking account add offer free trial pill order free trial pay shipping cost pill do not work believe good contact customer cancel receive email confirmation future charge account get charge additional product send original free trial contact bank add credit amount mid month receive notice chase charge receive additiona...</td>\n",
       "      <td>charge chase checking account trial shipping cost customer email confirmation charge product trial bank credit amount month notice chase charge product company charge account day cancelation notice</td>\n",
       "      <td>386</td>\n",
       "      <td>3</td>\n",
       "    </tr>\n",
       "    <tr>\n",
       "      <th>21058</th>\n",
       "      <td>chase bank release funds deposited check reason given deposited check told funds would available like always past today send email saying funds available could take longer reason given overdrawn fraud problems account never check bounce anything like gave call claimed twice two calls released funds false confirmed released funds chase cleared c...</td>\n",
       "      <td>chase bank release fund deposit check reason give deposit check tell fund would available like always past today send email say fund available could take long reason give overdrawn fraud problem account never check bounce anything like give call claim twice two call release fund false confirm release fund chase clear copy check fraud hold anyth...</td>\n",
       "      <td>bank release check reason check today email reason overdrawn fraud bounce anything call chase copy check fraud anything release business</td>\n",
       "      <td>430</td>\n",
       "      <td>3</td>\n",
       "    </tr>\n",
       "    <tr>\n",
       "      <th>21066</th>\n",
       "      <td>husband passed away chase bank put check hold paid rent car insurance said negative ask need said bring would negative deposit negative call phone two hours one could help went back bank said balance said withave witness daughter phone speaker listening ask money ok said yes said longer started bank chase bank said could get cashier check rent ...</td>\n",
       "      <td>husband pass away chase bank put check hold pay rent car insurance say negative ask need say bring would negative deposit negative call phone two hour one could help go back bank say balance say withave witness daughter phone speaker listening ask money ok say yes say long start bank chase bank say could get cashier check rent everything ok lef...</td>\n",
       "      <td>husband bank check hold rent car insurance ask need deposit call phone bank balance withave daughter phone speaker listening money ok cashier check everything bank everything ask charge anything card bank security bank fix income nothing team nothing branch branch computer branch husband call bank branch manger clue anything amount helpsince vi...</td>\n",
       "      <td>873</td>\n",
       "      <td>3</td>\n",
       "    </tr>\n",
       "    <tr>\n",
       "      <th>21048</th>\n",
       "      <td>yesterday received page mailing chase bank titled action needed make deposit keep overdrawn account open continuing dispute chase banks mismanagement account today chase repeatedly refused set personally set pin number back choosing today chase bank refused properly manage checking account owe chase bank dime overdrawn amount caused chase banks...</td>\n",
       "      <td>yesterday receive page mail chase bank title action need make deposit keep overdrawn account open continue dispute chase bank mismanagement account today chase repeatedly refuse set personally set pin number back choose today chase bank refuse properly manage check account owe chase bank dime overdrawn amount cause chase bank mismanagement acco...</td>\n",
       "      <td>yesterday page bank action deposit overdrawn account dispute chase mismanagement account today chase pin number today account dime overdrawn amount chase mismanagement account today adhere business today bank name account daughter bank month nothing checking account month nothing checking account bank discrimination checking account name checki...</td>\n",
       "      <td>980</td>\n",
       "      <td>3</td>\n",
       "    </tr>\n",
       "    <tr>\n",
       "      <th>21069</th>\n",
       "      <td>familiar pay understand great risk provides consumers believed safe chase bank app chase almost years trust mobile banking sadly regretful told deal merchant except merchant refused answer inquiries shut communication website said merchant looks entirely legitamite even using faces highly successful brands individuals linked social media withou...</td>\n",
       "      <td>familiar pay understand great risk provide consumer believe safe chase bank app chase almost year trust mobile banking sadly regretful tell deal merchant except merchant refuse answer inquiry shut communication website say merchant look entirely legitamite even use face highly successful brand individual link social medium without consent perfo...</td>\n",
       "      <td>pay risk bank chase trust mobile banking deal merchant merchant answer communication website merchant consent research phone number information merchant account title cycle fraud voip identity bank report file report recourse matter protocol place address issue app verbiage point app branch chase banking service degree entitlement customer serv...</td>\n",
       "      <td>1286</td>\n",
       "      <td>3</td>\n",
       "    </tr>\n",
       "    <tr>\n",
       "      <th>21024</th>\n",
       "      <td>informed chase credit card services im going hardship make payment amount per month chase wanted dollars per month want close account due payment situation chase reported late payments credit bureaus chase customer many many years thank</td>\n",
       "      <td>inform chase credit card service i m go hardship make payment amount per month chase want dollar per month want close account due payment situation chase report late payment credit bureaus chase customer many many year thank</td>\n",
       "      <td>chase credit card hardship payment amount month chase month account payment situation chase credit chase customer</td>\n",
       "      <td>201</td>\n",
       "      <td>4</td>\n",
       "    </tr>\n",
       "    <tr>\n",
       "      <th>21059</th>\n",
       "      <td>chase bank stopped sending mail without authorization bills sent option paper bills available according chase representative turn payment go missed chase claims sent email email file however received call made attempt collect payment additionally online account significant changes issues previous months short even though payment made late charg...</td>\n",
       "      <td>chase bank stop send mail without authorization bill send option paper bill available accord chase representative turn payment go miss chase claim send email email file however receive call make attempt collect payment additionally online account significant change issue previous month short even though payment make late charge reverse chase ad...</td>\n",
       "      <td>mail authorization option paper representative turn payment chase email email file call attempt payment account payment chase issue part credit report account fee</td>\n",
       "      <td>392</td>\n",
       "      <td>4</td>\n",
       "    </tr>\n",
       "    <tr>\n",
       "      <th>21070</th>\n",
       "      <td>flawless credit yrs ive chase credit cards chase freedom specifically since problems ever ive done many balance transfers life plenty experience recently balance transfer chase freedom many chase cards apparently freeedom got first bill minimum payment shocked immediately called representative told min payment high bc making pay balance transfe...</td>\n",
       "      <td>flawless credit yrs i ve chase credit card chase freedom specifically since problem ever i ve do many balance transfer life plenty experience recently balance transfer chase freedom many chase card apparently freeedom get first bill minimum payment shock immediately call representative tell min payment high bc make pay balance transfer fee fron...</td>\n",
       "      <td>credit yrs chase credit freedom balance life experience transfer chase freedom chase bill minimum payment min payment pay balance transfer fee balance rate advertise payment payment work chase wrong pay user agreement paperwork everyone world chase someone credit card payment percentage paperwork everyone payment transfer fee transfer balance c...</td>\n",
       "      <td>1081</td>\n",
       "      <td>4</td>\n",
       "    </tr>\n",
       "    <tr>\n",
       "      <th>21065</th>\n",
       "      <td>jpmorgan chase offered balance transfer promotional apr rut debtwise came godsend would help pay debt faster avoiding interest payments took offer however asked questions regarding transferring balance another card chase unlimited freedom card card would affect balance already card specifically repeatedly told minimum payment due go balance low...</td>\n",
       "      <td>jpmorgan chase offer balance transfer promotional apr rut debtwise come godsend would help pay debt fast avoid interest payment take offer however ask question regard transfer balance another card chase unlimited freedom card card would affect balance already card specifically repeatedly tell minimum payment due go balance low apr payment beyon...</td>\n",
       "      <td>balance transfer debtwise godsend debt interest offer balance card chase freedom card card balance card payment balance apr balance month interest reason advantage place balance interest transfer way timeperiod use card interest freedom card cash interest amount money interest rate rate balance interest purchase balance balance transfer balance...</td>\n",
       "      <td>937</td>\n",
       "      <td>4</td>\n",
       "    </tr>\n",
       "    <tr>\n",
       "      <th>21071</th>\n",
       "      <td>roughly years ago closed accounts jp morgan chase bank order close unsecured line credit pay close account roughly payment closed accounts get late payment showed credit report years stating owe close dollars never payment schedules notifications years paid upon calling told need show proof paid would like think indeed paid would immediately re...</td>\n",
       "      <td>roughly year ago close account jp morgan chase bank order close unsecured line credit pay close account roughly payment closed account get late payment show credit report year state owe close dollar never payment schedule notification year pay upon call tell need show proof pay would like think indeed pay would immediately receive late payment ...</td>\n",
       "      <td>order line credit account payment payment credit report payment need show proof payment bank customer service way line banking</td>\n",
       "      <td>389</td>\n",
       "      <td>4</td>\n",
       "    </tr>\n",
       "  </tbody>\n",
       "</table>\n",
       "</div>"
      ],
      "text/plain": [
       "                                                                                                                                                                                                                                                                                                                                                          complaints  \\\n",
       "21068  wednesday called chas visa credit card provider asked make claim purchase protection benefit purchased three high school textbooks year old daughter transferred new school three books damaged water bottle backpack broke chase representative assured textbooks would covered instructed file claim immediately went website filed claim including uplo...   \n",
       "21064  filed dispute credit card company chase visa online purchase made chase visa kept closing dispute even though wasnt resolved acting upon misinformation vendor called discuss provide necessary documentation advised reopen another dispute four times since written disputes werent getting reviewed attempted phone resolution many times many chase as...   \n",
       "21063  applied chase card using online portal chase clearly read terms conditions price terms apply card clearly mentioned like intro apr first months account open based creditworthiness aprs vary market based prime rate applied approved card apr didnt provide promotional apr mentioned online contacted chase customer care immediately computer mistake ...   \n",
       "21062  tried buy concert tickets someone know assume risk tried careful could asked lot questions asked ticket confirmation ultimately scammed dollars using chase quickpay ive tried remediate issue companies unwilling anything chase unwilling conduct sort investigation contact users bank account try remediate issue unwilling anything research done mad...   \n",
       "21060  account hacked notice received monday ordered someone used chase credit card saved account make order reported unauthorized transaction chase right found morning far solved chase decided responsible computer shipping billed first conversations chase told since item sold third party seller using platform responsible return suggest consult chase ...   \n",
       "21067  chase card customer well decade offered multiple solicitations acquiring new credit cards chase bonus airline miles hotel points approved new cards annual fee year less months payment always paid agreed chase closed cards one approved new cards never activated sent chase done harm credit charged annual fee even though cancelled account failed c...   \n",
       "21049  following creditors chase bank charged debt irs confused discharged due bankruptcy listed attached credit report line item line item line item chase bank attached bankruptcy documents signed judge since creditors already charged debt prior settlement funds forwarded banks trustee need returned estate full closed addresses contact information in...   \n",
       "21050  may concern checking recent credit report noticed credit inquiries authorize made chase credit card company called chase credit card company chase comply actions authorize anyone employed companies make inquiry view credit report violation fair credit reporting act section c serious breach privacy rights please validate information companies pr...   \n",
       "21052  received days late reporting credit reports chase bank late payment chase freedom unlimited credit card changing address via chase mobile app statements continued sent old address multiple months monthly payment amount changed receive statement bank believe chase still sending old address received late payment report address eventually changed ...   \n",
       "21053                                                    applied prequalify credit card chase bank said wouldnt put hard inquiry credit report put hard inquiry credit redicules said could see pre qualify said wouldnt hurt score made hard inquiry need taken immediately wanted improve credit score harm im collage student like response back call back thanks   \n",
       "21041  dear cfpb trying modify mortgage loan chase bank issue dragged almost three years bank declined many exhausting attempts always overqualified qualified etc proposed alternative reinstate loan short sale effort reinstate loan went costly expenses since bring property code really upgrade house condition order put market attached mls page savings ...   \n",
       "21043  heloc taken due failure notary appear signing document per bank manager loan went unsecured line credit took reverse mortgage different bank title escrow companies overlooked originally unsecured heloc somehow secured heloc home used collateral little year ago payment ballooned month per month able pay huge payments deed trust part heloc used f...   \n",
       "21051                                                                                                                                                                                                                                                                                 inquiry made loan secured vehicle purchased letter written try inquiry removed   \n",
       "21056                                                          made multiple attempts retrieve documents loan file line credit agreement involving chase informally purchased straw man account made personage created borrow monies borrower straw man inflated value home concealed line credit loan benefited transaction leaving debt informally purchased chase   \n",
       "21061  hired local attorney help restructure personal corporate debts without filing bankruptcy attaching copy first cease desist letter mailed second cease desist letter mailed two weeks later however phone still flooded text messages calls several creditors therefore want end calls proper procedures followed process followed attorney fulfill final n...   \n",
       "21057  un approved charge chase checking account add offering free trials pills ordered free trial paid shipping cost pills dont work believe good contacted customer cancel receive email confirmation future charges account get charge additional product sent original free trial contacted bank added credit amount mid month received notice chase charge r...   \n",
       "21058  chase bank release funds deposited check reason given deposited check told funds would available like always past today send email saying funds available could take longer reason given overdrawn fraud problems account never check bounce anything like gave call claimed twice two calls released funds false confirmed released funds chase cleared c...   \n",
       "21066  husband passed away chase bank put check hold paid rent car insurance said negative ask need said bring would negative deposit negative call phone two hours one could help went back bank said balance said withave witness daughter phone speaker listening ask money ok said yes said longer started bank chase bank said could get cashier check rent ...   \n",
       "21048  yesterday received page mailing chase bank titled action needed make deposit keep overdrawn account open continuing dispute chase banks mismanagement account today chase repeatedly refused set personally set pin number back choosing today chase bank refused properly manage checking account owe chase bank dime overdrawn amount caused chase banks...   \n",
       "21069  familiar pay understand great risk provides consumers believed safe chase bank app chase almost years trust mobile banking sadly regretful told deal merchant except merchant refused answer inquiries shut communication website said merchant looks entirely legitamite even using faces highly successful brands individuals linked social media withou...   \n",
       "21024                                                                                                                   informed chase credit card services im going hardship make payment amount per month chase wanted dollars per month want close account due payment situation chase reported late payments credit bureaus chase customer many many years thank   \n",
       "21059  chase bank stopped sending mail without authorization bills sent option paper bills available according chase representative turn payment go missed chase claims sent email email file however received call made attempt collect payment additionally online account significant changes issues previous months short even though payment made late charg...   \n",
       "21070  flawless credit yrs ive chase credit cards chase freedom specifically since problems ever ive done many balance transfers life plenty experience recently balance transfer chase freedom many chase cards apparently freeedom got first bill minimum payment shocked immediately called representative told min payment high bc making pay balance transfe...   \n",
       "21065  jpmorgan chase offered balance transfer promotional apr rut debtwise came godsend would help pay debt faster avoiding interest payments took offer however asked questions regarding transferring balance another card chase unlimited freedom card card would affect balance already card specifically repeatedly told minimum payment due go balance low...   \n",
       "21071  roughly years ago closed accounts jp morgan chase bank order close unsecured line credit pay close account roughly payment closed accounts get late payment showed credit report years stating owe close dollars never payment schedules notifications years paid upon calling told need show proof paid would like think indeed paid would immediately re...   \n",
       "\n",
       "                                                                                                                                                                                                                                                                                                                                                    lemma_complaints  \\\n",
       "21068  wednesday call chas visa credit card provider ask make claim purchase protection benefit purchase three high school textbook year old daughter transfer new school three book damage water bottle backpack break chase representative assure textbook would cover instruct file claim immediately go website file claim include upload request paperwork i...   \n",
       "21064  file dispute credit card company chase visa online purchase make chase visa keep closing dispute even though be not resolve act upon misinformation vendor call discuss provide necessary documentation advise reopen another dispute four time since write dispute be not getting review attempt phone resolution many time many chase associate foreign ...   \n",
       "21063  apply chase card use online portal chase clearly read term condition price term apply card clearly mention like intro apr first month account open base creditworthiness aprs vary market base prime rate apply approve card apr do not provide promotional apr mention online contact chase customer care immediately computer mistake get apr please wai...   \n",
       "21062  try buy concert ticket someone know assume risk try careful could ask lot question ask ticket confirmation ultimately scamme dollar use chase quickpay i ve try remediate issue company unwilling anything chase unwilling conduct sort investigation contact user bank account try remediate issue unwilling anything research done make transaction seem...   \n",
       "21060  account hack notice receive monday order someone use chase credit card save account make order report unauthorized transaction chase right find morning far solve chase decide responsible computer shipping bill first conversation chase tell since item sell third party seller use platform responsible return suggest consult chase action chase repl...   \n",
       "21067  chase card customer well decade offer multiple solicitation acquire new credit card chase bonus airline miles hotel point approve new card annual fee year less month payment always pay agree chase close card one approve new card never activate send chase do harm credit charge annual fee even though cancel account fail credit point airline hotel...   \n",
       "21049  follow creditor chase bank charge debt irs confuse discharge due bankruptcy list attach credit report line item line item line item chase bank attach bankruptcy document sign judge since creditor already charge debt prior settlement fund forward bank trustee need return estate full closed address contact information include attach correspondenc...   \n",
       "21050  may concern check recent credit report notice credit inquiry authorize make chase credit card company call chase credit card company chase comply action authorize anyone employ company make inquiry view credit report violation fair credit reporting act section c serious breach privacy right please validate information company provide copy docum...   \n",
       "21052  receive day late report credit report chase bank late payment chase freedom unlimited credit card change address via chase mobile app statement continue send old address multiple month monthly payment amount change receive statement bank believe chase still send old address receive late payment report address eventually change receive first sta...   \n",
       "21053                                                         apply prequalify credit card chase bank say would not put hard inquiry credit report put hard inquiry credit redicule say could see pre qualify say would not hurt score make hard inquiry need take immediately want improve credit score harm i m collage student like response back call back thank   \n",
       "21041  dear cfpb try modify mortgage loan chase bank issue drag almost three year bank decline many exhausting attempt always overqualifie qualified etc propose alternative reinstate loan short sale effort reinstate loan go costly expense since bring property code really upgrade house condition order put market attach mls page saving dry give notice y...   \n",
       "21043  heloc take due failure notary appear sign document per bank manager loan went unsecured line credit take reverse mortgage different bank title escrow company overlook originally unsecured heloc somehow secure heloc home use collateral little year ago payment balloon month per month able pay huge payment deed trust part heloc use foreclose prope...   \n",
       "21051                                                                                                                                                                                                                                                                                      inquiry make loan secure vehicle purchase letter write try inquiry remove   \n",
       "21056                                                                         make multiple attempt retrieve document loan file line credit agreement involve chase informally purchase straw man account make personage create borrow monie borrower straw man inflate value home conceal line credit loan benefit transaction leave debt informally purchase chase   \n",
       "21061  hire local attorney help restructure personal corporate debt without file bankruptcy attach copy first cease desist letter mail second cease desist letter mail two week later however phone still flood text message call several creditor therefore want end call proper procedure follow process follow attorney fulfill final negotiation process cred...   \n",
       "21057  un approve charge chase checking account add offer free trial pill order free trial pay shipping cost pill do not work believe good contact customer cancel receive email confirmation future charge account get charge additional product send original free trial contact bank add credit amount mid month receive notice chase charge receive additiona...   \n",
       "21058  chase bank release fund deposit check reason give deposit check tell fund would available like always past today send email say fund available could take long reason give overdrawn fraud problem account never check bounce anything like give call claim twice two call release fund false confirm release fund chase clear copy check fraud hold anyth...   \n",
       "21066  husband pass away chase bank put check hold pay rent car insurance say negative ask need say bring would negative deposit negative call phone two hour one could help go back bank say balance say withave witness daughter phone speaker listening ask money ok say yes say long start bank chase bank say could get cashier check rent everything ok lef...   \n",
       "21048  yesterday receive page mail chase bank title action need make deposit keep overdrawn account open continue dispute chase bank mismanagement account today chase repeatedly refuse set personally set pin number back choose today chase bank refuse properly manage check account owe chase bank dime overdrawn amount cause chase bank mismanagement acco...   \n",
       "21069  familiar pay understand great risk provide consumer believe safe chase bank app chase almost year trust mobile banking sadly regretful tell deal merchant except merchant refuse answer inquiry shut communication website say merchant look entirely legitamite even use face highly successful brand individual link social medium without consent perfo...   \n",
       "21024                                                                                                                               inform chase credit card service i m go hardship make payment amount per month chase want dollar per month want close account due payment situation chase report late payment credit bureaus chase customer many many year thank   \n",
       "21059  chase bank stop send mail without authorization bill send option paper bill available accord chase representative turn payment go miss chase claim send email email file however receive call make attempt collect payment additionally online account significant change issue previous month short even though payment make late charge reverse chase ad...   \n",
       "21070  flawless credit yrs i ve chase credit card chase freedom specifically since problem ever i ve do many balance transfer life plenty experience recently balance transfer chase freedom many chase card apparently freeedom get first bill minimum payment shock immediately call representative tell min payment high bc make pay balance transfer fee fron...   \n",
       "21065  jpmorgan chase offer balance transfer promotional apr rut debtwise come godsend would help pay debt fast avoid interest payment take offer however ask question regard transfer balance another card chase unlimited freedom card card would affect balance already card specifically repeatedly tell minimum payment due go balance low apr payment beyon...   \n",
       "21071  roughly year ago close account jp morgan chase bank order close unsecured line credit pay close account roughly payment closed account get late payment show credit report year state owe close dollar never payment schedule notification year pay upon call tell need show proof pay would like think indeed pay would immediately receive late payment ...   \n",
       "\n",
       "                                                                                                                                                                                                                                                                                                                                               complaint_POS_removed  \\\n",
       "21068  visa credit card provider claim purchase protection benefit school year daughter school water bottle backpack representative file claim website claim paperwork copy credit card statement evidence damage website type item cover claim claim insurance provider review information contact business outline process email claim submission claim informa...   \n",
       "21064                                                       dispute credit card company chase visa purchase chase visa closing dispute misinformation vendor documentation dispute phone resolution chase service chase branch assistance branch manager matter discover time chase visa research dispute followup fault chase responsibility failure resolve matter   \n",
       "21063                                                                                                                                                               chase card chase price card aprs market rate card apr chase customer care computer mistake chase branch issue document website screenshot application change anything price card friend customer   \n",
       "21062                                                                             concert someone risk lot ticket confirmation chase quickpay issue anything conduct sort investigation contact issue anything research transaction company anything fix continue bank chase anything selfservice product use chase selfservice debit card offer demand bank partner   \n",
       "21060  account notice someone chase credit card account order transaction chase morning chase computer shipping chase item party seller platform return chase action chase credit card package shipping receipt shipper information box person name name address phone number number nobody chase mailing address email address mine benefit transaction laptop h...   \n",
       "21067                                                                                                                                                                                                                    chase card customer decade credit chase fee year payment chase chase harm credit fee account credit credit enrollment credit airline charge   \n",
       "21049                                                                                                                                                                          bank debt bankruptcy credit report line item line item line item chase bank bankruptcy judge debt settlement trustee estate contact information correspondence advance help situation   \n",
       "21050                        concern credit report credit credit card company chase credit card company chase anyone inquiry view credit report violation credit reporting section c breach privacy information documentation signature inquiry absence documentation signature credit file security number investigation credit reporting act section credit report   \n",
       "21052  credit payment chase freedom credit card address address payment amount statement bank address payment report address statement amount time bank inform error investigation bank error statement request address app credit card banking attach address change address today item faith filing complaint ruling bank error capacity payment bank error fac...   \n",
       "21053                                                                                                                                                                                                                            prequalify credit card bank inquiry credit report inquiry credit score inquiry need credit score harm collage student response call   \n",
       "21041               cfpb mortgage loan chase bank issue bank reinstate loan sale effort reinstate loan property code house condition order market page notice way reinstate loan interest reason property sale sale action place sale foreclosure buyer purchase property send offer bank work property market chase property foreclosure auction bank want property   \n",
       "21043  failure document bank manager loan line credit mortgage bank title escrow heloc home collateral year payment month month part property forgery county office affidavit evidence proof official trust title escrow report documentation deed trust bank manager line credit pay doubt forgery document document record document mail mail fraud case title ...   \n",
       "21051                                                                                                                                                                                                                                                                                                                            inquiry loan vehicle letter inquiry   \n",
       "21056                                                                                                                                                                                                                      loan file line credit agreement chase straw man account personage borrow borrower straw man value line credit loan transaction debt chase   \n",
       "21061                                                                                                                                                attorney help bankruptcy copy letter cease desist letter phone text end process attorney fulfill process collection process party debt collection consumer collection collection text cell phone place business   \n",
       "21057                                                                                                                                                          charge chase checking account trial shipping cost customer email confirmation charge product trial bank credit amount month notice chase charge product company charge account day cancelation notice   \n",
       "21058                                                                                                                                                                                                                       bank release check reason check today email reason overdrawn fraud bounce anything call chase copy check fraud anything release business   \n",
       "21066  husband bank check hold rent car insurance ask need deposit call phone bank balance withave daughter phone speaker listening money ok cashier check everything bank everything ask charge anything card bank security bank fix income nothing team nothing branch branch computer branch husband call bank branch manger clue anything amount helpsince vi...   \n",
       "21048  yesterday page bank action deposit overdrawn account dispute chase mismanagement account today chase pin number today account dime overdrawn amount chase mismanagement account today adhere business today bank name account daughter bank month nothing checking account month nothing checking account bank discrimination checking account name checki...   \n",
       "21069  pay risk bank chase trust mobile banking deal merchant merchant answer communication website merchant consent research phone number information merchant account title cycle fraud voip identity bank report file report recourse matter protocol place address issue app verbiage point app branch chase banking service degree entitlement customer serv...   \n",
       "21024                                                                                                                                                                                                                                              chase credit card hardship payment amount month chase month account payment situation chase credit chase customer   \n",
       "21059                                                                                                                                                                                             mail authorization option paper representative turn payment chase email email file call attempt payment account payment chase issue part credit report account fee   \n",
       "21070  credit yrs chase credit freedom balance life experience transfer chase freedom chase bill minimum payment min payment pay balance transfer fee balance rate advertise payment payment work chase wrong pay user agreement paperwork everyone world chase someone credit card payment percentage paperwork everyone payment transfer fee transfer balance c...   \n",
       "21065  balance transfer debtwise godsend debt interest offer balance card chase freedom card card balance card payment balance apr balance month interest reason advantage place balance interest transfer way timeperiod use card interest freedom card cash interest amount money interest rate rate balance interest purchase balance balance transfer balance...   \n",
       "21071                                                                                                                                                                                                                                 order line credit account payment payment credit report payment need show proof payment bank customer service way line banking   \n",
       "\n",
       "       complaint_length  Topic  \n",
       "21068              1134      0  \n",
       "21064               583      0  \n",
       "21063               590      0  \n",
       "21062               773      0  \n",
       "21060              2339      0  \n",
       "21067               375      1  \n",
       "21049               360      1  \n",
       "21050               597      1  \n",
       "21052              1127      1  \n",
       "21053               253      1  \n",
       "21041               710      2  \n",
       "21043              1724      2  \n",
       "21051                68      2  \n",
       "21056               255      2  \n",
       "21061               634      2  \n",
       "21057               386      3  \n",
       "21058               430      3  \n",
       "21066               873      3  \n",
       "21048               980      3  \n",
       "21069              1286      3  \n",
       "21024               201      4  \n",
       "21059               392      4  \n",
       "21070              1081      4  \n",
       "21065               937      4  \n",
       "21071               389      4  "
      ]
     },
     "execution_count": 196,
     "metadata": {},
     "output_type": "execute_result"
    }
   ],
   "source": [
    "#Print the first 5 Complaint for each of the Topics\n",
    "df_clean_1=df_clean.groupby('Topic').tail(5)\n",
    "df_clean_1.sort_values('Topic')"
   ]
  },
  {
   "cell_type": "code",
   "execution_count": 197,
   "metadata": {
    "execution": {
     "iopub.execute_input": "2024-01-03T18:25:53.849018Z",
     "iopub.status.busy": "2024-01-03T18:25:53.848676Z",
     "iopub.status.idle": "2024-01-03T18:25:53.855378Z",
     "shell.execute_reply": "2024-01-03T18:25:53.854487Z",
     "shell.execute_reply.started": "2024-01-03T18:25:53.848986Z"
    }
   },
   "outputs": [
    {
     "data": {
      "text/plain": [
       "array([3, 0, 1, 4, 2])"
      ]
     },
     "execution_count": 197,
     "metadata": {},
     "output_type": "execute_result"
    }
   ],
   "source": [
    "df_clean['Topic'].unique()"
   ]
  },
  {
   "cell_type": "code",
   "execution_count": 198,
   "metadata": {
    "execution": {
     "iopub.execute_input": "2024-01-03T18:25:53.856763Z",
     "iopub.status.busy": "2024-01-03T18:25:53.856497Z",
     "iopub.status.idle": "2024-01-03T18:25:53.865445Z",
     "shell.execute_reply": "2024-01-03T18:25:53.864532Z",
     "shell.execute_reply.started": "2024-01-03T18:25:53.856739Z"
    }
   },
   "outputs": [],
   "source": [
    "topic_names_int = {  \n",
    "    0 : \"Theft/Dispute Reporting\",\n",
    "    1 : \"Credit card or prepaid card\",\n",
    "    2 : \"Mortgage/Loan\",\n",
    "    3 : \"Bank Account services\",\n",
    "    4 : \"Others\"}\n",
    "#Replace Topics with Topic Names\n",
    "df_clean['Topic'] = df_clean['Topic'].map(topic_names_int)"
   ]
  },
  {
   "cell_type": "markdown",
   "metadata": {
    "id": "piyLxzj6v07j"
   },
   "source": [
    "#### Topic identified:\n",
    "* Bank Account services\n",
    "* Credit card or prepaid card\n",
    "* Theft/Dispute Reporting\n",
    "* Mortgage/Loan\n",
    "* Others"
   ]
  },
  {
   "cell_type": "code",
   "execution_count": 199,
   "metadata": {
    "execution": {
     "iopub.execute_input": "2024-01-03T18:25:53.866769Z",
     "iopub.status.busy": "2024-01-03T18:25:53.866480Z",
     "iopub.status.idle": "2024-01-03T18:25:53.878346Z",
     "shell.execute_reply": "2024-01-03T18:25:53.877513Z",
     "shell.execute_reply.started": "2024-01-03T18:25:53.866744Z"
    },
    "id": "_U8J3J8wJrGH"
   },
   "outputs": [],
   "source": [
    "#Create the dictionary again of Topic names and Topics\n",
    "\n",
    "topic_names = {  \n",
    "    \"Theft/Dispute Reporting\" : 0,\n",
    "    \"Credit card or prepaid card\" : 1,\n",
    "    \"Mortgage/Loan\" : 2,\n",
    "    \"Bank Account services\" : 3,\n",
    "    \"Others\" : 4}\n",
    "#Replace Topics with Topic Names\n",
    "df_clean['Topic'] = df_clean['Topic'].map(topic_names)"
   ]
  },
  {
   "cell_type": "markdown",
   "metadata": {
    "id": "7Mu0QBOcJrGH"
   },
   "source": [
    "## Supervised model to predict any new complaints to the relevant Topics.\n"
   ]
  },
  {
   "cell_type": "code",
   "execution_count": 200,
   "metadata": {
    "execution": {
     "iopub.execute_input": "2024-01-03T18:25:53.879965Z",
     "iopub.status.busy": "2024-01-03T18:25:53.879664Z",
     "iopub.status.idle": "2024-01-03T18:25:53.899137Z",
     "shell.execute_reply": "2024-01-03T18:25:53.898225Z",
     "shell.execute_reply.started": "2024-01-03T18:25:53.879939Z"
    },
    "id": "BWIgJUkQJrGH"
   },
   "outputs": [
    {
     "data": {
      "text/html": [
       "<div>\n",
       "<style scoped>\n",
       "    .dataframe tbody tr th:only-of-type {\n",
       "        vertical-align: middle;\n",
       "    }\n",
       "\n",
       "    .dataframe tbody tr th {\n",
       "        vertical-align: top;\n",
       "    }\n",
       "\n",
       "    .dataframe thead th {\n",
       "        text-align: right;\n",
       "    }\n",
       "</style>\n",
       "<table border=\"1\" class=\"dataframe\">\n",
       "  <thead>\n",
       "    <tr style=\"text-align: right;\">\n",
       "      <th></th>\n",
       "      <th>complaints</th>\n",
       "      <th>lemma_complaints</th>\n",
       "      <th>complaint_POS_removed</th>\n",
       "      <th>complaint_length</th>\n",
       "      <th>Topic</th>\n",
       "    </tr>\n",
       "  </thead>\n",
       "  <tbody>\n",
       "    <tr>\n",
       "      <th>0</th>\n",
       "      <td>good morning name appreciate could help put stop chase bank cardmember services wrote chase asking debt verification sent statement acceptable asking bank validate debt instead receiving mail every month attempting collect debt right know information consumer chase account thanks advance help</td>\n",
       "      <td>good morning name appreciate could help put stop chase bank cardmember service write chase ask debt verification send statement acceptable ask bank validate debt instead receive mail every month attempt collect debt right know information consumer chase account thank advance help</td>\n",
       "      <td>morning name appreciate bank chase debt verification statement bank validate debt mail month collect debt information consumer chase account advance help</td>\n",
       "      <td>253</td>\n",
       "      <td>3</td>\n",
       "    </tr>\n",
       "    <tr>\n",
       "      <th>1</th>\n",
       "      <td>upgraded card told agent upgrade anniversary date would change turned agent giving wrong information order upgrade account changed anniversary date without consent recording agent misled</td>\n",
       "      <td>upgrade card tell agent upgrade anniversary date would change turn agent give wrong information order upgrade account change anniversary date without consent recording agent mislead</td>\n",
       "      <td>card agent upgrade anniversary date agent information order upgrade account anniversary date consent recording agent</td>\n",
       "      <td>162</td>\n",
       "      <td>0</td>\n",
       "    </tr>\n",
       "    <tr>\n",
       "      <th>2</th>\n",
       "      <td>chase card reported however fraudulent application submitted identity without consent fraudulently obtain services extend credit without verifying identity applicant</td>\n",
       "      <td>chase card report however fraudulent application submit identity without consent fraudulently obtain service extend credit without verify identity applicant</td>\n",
       "      <td>card application identity consent credit identity applicant</td>\n",
       "      <td>147</td>\n",
       "      <td>1</td>\n",
       "    </tr>\n",
       "    <tr>\n",
       "      <th>3</th>\n",
       "      <td>trying book ticket came across offer applied towards ticket applied rewards card put information offer within less minute notified via screen decision could made immediately contacted referred chase bank immediately contacted chase bank within getting notification screen told chase representative spoke application denied could state asked infor...</td>\n",
       "      <td>try book ticket come across offer apply towards ticket apply reward card put information offer within less minute notify via screen decision could make immediately contact refer chase bank immediately contact chase bank within get notification screen tell chase representative speak application deny could state ask information offer explain even...</td>\n",
       "      <td>book ticket offer ticket card information offer minute screen decision chase bank chase bank notification screen application state information offer credit offer account statement purchase ticket account application representative application request proceed application chase fact credit account name credit report chase information credit repor...</td>\n",
       "      <td>762</td>\n",
       "      <td>1</td>\n",
       "    </tr>\n",
       "    <tr>\n",
       "      <th>4</th>\n",
       "      <td>grand son give check deposit chase account fund clear chase bank closed account never paid money said need speek grand son check clear money taking chase bank refuse pay money grand son called chase times told call verify check owner country time date happen check number claim number chase</td>\n",
       "      <td>grand son give check deposit chase account fund clear chase bank closed account never pay money say need speek grand son check clear money take chase bank refuse pay money grand son call chase times tell call verify check owner country time date happen check number claim number chase</td>\n",
       "      <td>son check deposit chase account fund account money son money chase bank money son call verify check owner country check number claim number chase</td>\n",
       "      <td>242</td>\n",
       "      <td>3</td>\n",
       "    </tr>\n",
       "    <tr>\n",
       "      <th>...</th>\n",
       "      <td>...</td>\n",
       "      <td>...</td>\n",
       "      <td>...</td>\n",
       "      <td>...</td>\n",
       "      <td>...</td>\n",
       "    </tr>\n",
       "    <tr>\n",
       "      <th>21067</th>\n",
       "      <td>chase card customer well decade offered multiple solicitations acquiring new credit cards chase bonus airline miles hotel points approved new cards annual fee year less months payment always paid agreed chase closed cards one approved new cards never activated sent chase done harm credit charged annual fee even though cancelled account failed c...</td>\n",
       "      <td>chase card customer well decade offer multiple solicitation acquire new credit card chase bonus airline miles hotel point approve new card annual fee year less month payment always pay agree chase close card one approve new card never activate send chase do harm credit charge annual fee even though cancel account fail credit point airline hotel...</td>\n",
       "      <td>chase card customer decade credit chase fee year payment chase chase harm credit fee account credit credit enrollment credit airline charge</td>\n",
       "      <td>375</td>\n",
       "      <td>1</td>\n",
       "    </tr>\n",
       "    <tr>\n",
       "      <th>21068</th>\n",
       "      <td>wednesday called chas visa credit card provider asked make claim purchase protection benefit purchased three high school textbooks year old daughter transferred new school three books damaged water bottle backpack broke chase representative assured textbooks would covered instructed file claim immediately went website filed claim including uplo...</td>\n",
       "      <td>wednesday call chas visa credit card provider ask make claim purchase protection benefit purchase three high school textbook year old daughter transfer new school three book damage water bottle backpack break chase representative assure textbook would cover instruct file claim immediately go website file claim include upload request paperwork i...</td>\n",
       "      <td>visa credit card provider claim purchase protection benefit school year daughter school water bottle backpack representative file claim website claim paperwork copy credit card statement evidence damage website type item cover claim claim insurance provider review information contact business outline process email claim submission claim informa...</td>\n",
       "      <td>1134</td>\n",
       "      <td>0</td>\n",
       "    </tr>\n",
       "    <tr>\n",
       "      <th>21069</th>\n",
       "      <td>familiar pay understand great risk provides consumers believed safe chase bank app chase almost years trust mobile banking sadly regretful told deal merchant except merchant refused answer inquiries shut communication website said merchant looks entirely legitamite even using faces highly successful brands individuals linked social media withou...</td>\n",
       "      <td>familiar pay understand great risk provide consumer believe safe chase bank app chase almost year trust mobile banking sadly regretful tell deal merchant except merchant refuse answer inquiry shut communication website say merchant look entirely legitamite even use face highly successful brand individual link social medium without consent perfo...</td>\n",
       "      <td>pay risk bank chase trust mobile banking deal merchant merchant answer communication website merchant consent research phone number information merchant account title cycle fraud voip identity bank report file report recourse matter protocol place address issue app verbiage point app branch chase banking service degree entitlement customer serv...</td>\n",
       "      <td>1286</td>\n",
       "      <td>3</td>\n",
       "    </tr>\n",
       "    <tr>\n",
       "      <th>21070</th>\n",
       "      <td>flawless credit yrs ive chase credit cards chase freedom specifically since problems ever ive done many balance transfers life plenty experience recently balance transfer chase freedom many chase cards apparently freeedom got first bill minimum payment shocked immediately called representative told min payment high bc making pay balance transfe...</td>\n",
       "      <td>flawless credit yrs i ve chase credit card chase freedom specifically since problem ever i ve do many balance transfer life plenty experience recently balance transfer chase freedom many chase card apparently freeedom get first bill minimum payment shock immediately call representative tell min payment high bc make pay balance transfer fee fron...</td>\n",
       "      <td>credit yrs chase credit freedom balance life experience transfer chase freedom chase bill minimum payment min payment pay balance transfer fee balance rate advertise payment payment work chase wrong pay user agreement paperwork everyone world chase someone credit card payment percentage paperwork everyone payment transfer fee transfer balance c...</td>\n",
       "      <td>1081</td>\n",
       "      <td>4</td>\n",
       "    </tr>\n",
       "    <tr>\n",
       "      <th>21071</th>\n",
       "      <td>roughly years ago closed accounts jp morgan chase bank order close unsecured line credit pay close account roughly payment closed accounts get late payment showed credit report years stating owe close dollars never payment schedules notifications years paid upon calling told need show proof paid would like think indeed paid would immediately re...</td>\n",
       "      <td>roughly year ago close account jp morgan chase bank order close unsecured line credit pay close account roughly payment closed account get late payment show credit report year state owe close dollar never payment schedule notification year pay upon call tell need show proof pay would like think indeed pay would immediately receive late payment ...</td>\n",
       "      <td>order line credit account payment payment credit report payment need show proof payment bank customer service way line banking</td>\n",
       "      <td>389</td>\n",
       "      <td>4</td>\n",
       "    </tr>\n",
       "  </tbody>\n",
       "</table>\n",
       "<p>21072 rows × 5 columns</p>\n",
       "</div>"
      ],
      "text/plain": [
       "                                                                                                                                                                                                                                                                                                                                                          complaints  \\\n",
       "0                                                              good morning name appreciate could help put stop chase bank cardmember services wrote chase asking debt verification sent statement acceptable asking bank validate debt instead receiving mail every month attempting collect debt right know information consumer chase account thanks advance help   \n",
       "1                                                                                                                                                                         upgraded card told agent upgrade anniversary date would change turned agent giving wrong information order upgrade account changed anniversary date without consent recording agent misled   \n",
       "2                                                                                                                                                                                              chase card reported however fraudulent application submitted identity without consent fraudulently obtain services extend credit without verifying identity applicant   \n",
       "3      trying book ticket came across offer applied towards ticket applied rewards card put information offer within less minute notified via screen decision could made immediately contacted referred chase bank immediately contacted chase bank within getting notification screen told chase representative spoke application denied could state asked infor...   \n",
       "4                                                                 grand son give check deposit chase account fund clear chase bank closed account never paid money said need speek grand son check clear money taking chase bank refuse pay money grand son called chase times told call verify check owner country time date happen check number claim number chase   \n",
       "...                                                                                                                                                                                                                                                                                                                                                              ...   \n",
       "21067  chase card customer well decade offered multiple solicitations acquiring new credit cards chase bonus airline miles hotel points approved new cards annual fee year less months payment always paid agreed chase closed cards one approved new cards never activated sent chase done harm credit charged annual fee even though cancelled account failed c...   \n",
       "21068  wednesday called chas visa credit card provider asked make claim purchase protection benefit purchased three high school textbooks year old daughter transferred new school three books damaged water bottle backpack broke chase representative assured textbooks would covered instructed file claim immediately went website filed claim including uplo...   \n",
       "21069  familiar pay understand great risk provides consumers believed safe chase bank app chase almost years trust mobile banking sadly regretful told deal merchant except merchant refused answer inquiries shut communication website said merchant looks entirely legitamite even using faces highly successful brands individuals linked social media withou...   \n",
       "21070  flawless credit yrs ive chase credit cards chase freedom specifically since problems ever ive done many balance transfers life plenty experience recently balance transfer chase freedom many chase cards apparently freeedom got first bill minimum payment shocked immediately called representative told min payment high bc making pay balance transfe...   \n",
       "21071  roughly years ago closed accounts jp morgan chase bank order close unsecured line credit pay close account roughly payment closed accounts get late payment showed credit report years stating owe close dollars never payment schedules notifications years paid upon calling told need show proof paid would like think indeed paid would immediately re...   \n",
       "\n",
       "                                                                                                                                                                                                                                                                                                                                                    lemma_complaints  \\\n",
       "0                                                                           good morning name appreciate could help put stop chase bank cardmember service write chase ask debt verification send statement acceptable ask bank validate debt instead receive mail every month attempt collect debt right know information consumer chase account thank advance help   \n",
       "1                                                                                                                                                                              upgrade card tell agent upgrade anniversary date would change turn agent give wrong information order upgrade account change anniversary date without consent recording agent mislead   \n",
       "2                                                                                                                                                                                                       chase card report however fraudulent application submit identity without consent fraudulently obtain service extend credit without verify identity applicant   \n",
       "3      try book ticket come across offer apply towards ticket apply reward card put information offer within less minute notify via screen decision could make immediately contact refer chase bank immediately contact chase bank within get notification screen tell chase representative speak application deny could state ask information offer explain even...   \n",
       "4                                                                       grand son give check deposit chase account fund clear chase bank closed account never pay money say need speek grand son check clear money take chase bank refuse pay money grand son call chase times tell call verify check owner country time date happen check number claim number chase   \n",
       "...                                                                                                                                                                                                                                                                                                                                                              ...   \n",
       "21067  chase card customer well decade offer multiple solicitation acquire new credit card chase bonus airline miles hotel point approve new card annual fee year less month payment always pay agree chase close card one approve new card never activate send chase do harm credit charge annual fee even though cancel account fail credit point airline hotel...   \n",
       "21068  wednesday call chas visa credit card provider ask make claim purchase protection benefit purchase three high school textbook year old daughter transfer new school three book damage water bottle backpack break chase representative assure textbook would cover instruct file claim immediately go website file claim include upload request paperwork i...   \n",
       "21069  familiar pay understand great risk provide consumer believe safe chase bank app chase almost year trust mobile banking sadly regretful tell deal merchant except merchant refuse answer inquiry shut communication website say merchant look entirely legitamite even use face highly successful brand individual link social medium without consent perfo...   \n",
       "21070  flawless credit yrs i ve chase credit card chase freedom specifically since problem ever i ve do many balance transfer life plenty experience recently balance transfer chase freedom many chase card apparently freeedom get first bill minimum payment shock immediately call representative tell min payment high bc make pay balance transfer fee fron...   \n",
       "21071  roughly year ago close account jp morgan chase bank order close unsecured line credit pay close account roughly payment closed account get late payment show credit report year state owe close dollar never payment schedule notification year pay upon call tell need show proof pay would like think indeed pay would immediately receive late payment ...   \n",
       "\n",
       "                                                                                                                                                                                                                                                                                                                                               complaint_POS_removed  \\\n",
       "0                                                                                                                                                                                                          morning name appreciate bank chase debt verification statement bank validate debt mail month collect debt information consumer chase account advance help   \n",
       "1                                                                                                                                                                                                                                               card agent upgrade anniversary date agent information order upgrade account anniversary date consent recording agent   \n",
       "2                                                                                                                                                                                                                                                                                                        card application identity consent credit identity applicant   \n",
       "3      book ticket offer ticket card information offer minute screen decision chase bank chase bank notification screen application state information offer credit offer account statement purchase ticket account application representative application request proceed application chase fact credit account name credit report chase information credit repor...   \n",
       "4                                                                                                                                                                                                                  son check deposit chase account fund account money son money chase bank money son call verify check owner country check number claim number chase   \n",
       "...                                                                                                                                                                                                                                                                                                                                                              ...   \n",
       "21067                                                                                                                                                                                                                    chase card customer decade credit chase fee year payment chase chase harm credit fee account credit credit enrollment credit airline charge   \n",
       "21068  visa credit card provider claim purchase protection benefit school year daughter school water bottle backpack representative file claim website claim paperwork copy credit card statement evidence damage website type item cover claim claim insurance provider review information contact business outline process email claim submission claim informa...   \n",
       "21069  pay risk bank chase trust mobile banking deal merchant merchant answer communication website merchant consent research phone number information merchant account title cycle fraud voip identity bank report file report recourse matter protocol place address issue app verbiage point app branch chase banking service degree entitlement customer serv...   \n",
       "21070  credit yrs chase credit freedom balance life experience transfer chase freedom chase bill minimum payment min payment pay balance transfer fee balance rate advertise payment payment work chase wrong pay user agreement paperwork everyone world chase someone credit card payment percentage paperwork everyone payment transfer fee transfer balance c...   \n",
       "21071                                                                                                                                                                                                                                 order line credit account payment payment credit report payment need show proof payment bank customer service way line banking   \n",
       "\n",
       "       complaint_length  Topic  \n",
       "0                   253      3  \n",
       "1                   162      0  \n",
       "2                   147      1  \n",
       "3                   762      1  \n",
       "4                   242      3  \n",
       "...                 ...    ...  \n",
       "21067               375      1  \n",
       "21068              1134      0  \n",
       "21069              1286      3  \n",
       "21070              1081      4  \n",
       "21071               389      4  \n",
       "\n",
       "[21072 rows x 5 columns]"
      ]
     },
     "execution_count": 200,
     "metadata": {},
     "output_type": "execute_result"
    }
   ],
   "source": [
    "df_clean"
   ]
  },
  {
   "cell_type": "code",
   "execution_count": 201,
   "metadata": {
    "execution": {
     "iopub.execute_input": "2024-01-03T18:25:53.900759Z",
     "iopub.status.busy": "2024-01-03T18:25:53.900465Z",
     "iopub.status.idle": "2024-01-03T18:25:53.908145Z",
     "shell.execute_reply": "2024-01-03T18:25:53.907280Z",
     "shell.execute_reply.started": "2024-01-03T18:25:53.900734Z"
    },
    "id": "Xx-FrbkWJrGH"
   },
   "outputs": [],
   "source": [
    "#Keep the columns\"complaint_what_happened\" & \"Topic\" only in the new dataframe --> training_data\n",
    "training_data=df_clean[['complaints','Topic']]"
   ]
  },
  {
   "cell_type": "code",
   "execution_count": 202,
   "metadata": {
    "execution": {
     "iopub.execute_input": "2024-01-03T18:25:53.909751Z",
     "iopub.status.busy": "2024-01-03T18:25:53.909411Z",
     "iopub.status.idle": "2024-01-03T18:25:53.924047Z",
     "shell.execute_reply": "2024-01-03T18:25:53.923239Z",
     "shell.execute_reply.started": "2024-01-03T18:25:53.909724Z"
    },
    "id": "lVg2pa12JrGI"
   },
   "outputs": [
    {
     "data": {
      "text/html": [
       "<div>\n",
       "<style scoped>\n",
       "    .dataframe tbody tr th:only-of-type {\n",
       "        vertical-align: middle;\n",
       "    }\n",
       "\n",
       "    .dataframe tbody tr th {\n",
       "        vertical-align: top;\n",
       "    }\n",
       "\n",
       "    .dataframe thead th {\n",
       "        text-align: right;\n",
       "    }\n",
       "</style>\n",
       "<table border=\"1\" class=\"dataframe\">\n",
       "  <thead>\n",
       "    <tr style=\"text-align: right;\">\n",
       "      <th></th>\n",
       "      <th>complaints</th>\n",
       "      <th>Topic</th>\n",
       "    </tr>\n",
       "  </thead>\n",
       "  <tbody>\n",
       "    <tr>\n",
       "      <th>0</th>\n",
       "      <td>good morning name appreciate could help put stop chase bank cardmember services wrote chase asking debt verification sent statement acceptable asking bank validate debt instead receiving mail every month attempting collect debt right know information consumer chase account thanks advance help</td>\n",
       "      <td>3</td>\n",
       "    </tr>\n",
       "    <tr>\n",
       "      <th>1</th>\n",
       "      <td>upgraded card told agent upgrade anniversary date would change turned agent giving wrong information order upgrade account changed anniversary date without consent recording agent misled</td>\n",
       "      <td>0</td>\n",
       "    </tr>\n",
       "    <tr>\n",
       "      <th>2</th>\n",
       "      <td>chase card reported however fraudulent application submitted identity without consent fraudulently obtain services extend credit without verifying identity applicant</td>\n",
       "      <td>1</td>\n",
       "    </tr>\n",
       "    <tr>\n",
       "      <th>3</th>\n",
       "      <td>trying book ticket came across offer applied towards ticket applied rewards card put information offer within less minute notified via screen decision could made immediately contacted referred chase bank immediately contacted chase bank within getting notification screen told chase representative spoke application denied could state asked infor...</td>\n",
       "      <td>1</td>\n",
       "    </tr>\n",
       "    <tr>\n",
       "      <th>4</th>\n",
       "      <td>grand son give check deposit chase account fund clear chase bank closed account never paid money said need speek grand son check clear money taking chase bank refuse pay money grand son called chase times told call verify check owner country time date happen check number claim number chase</td>\n",
       "      <td>3</td>\n",
       "    </tr>\n",
       "    <tr>\n",
       "      <th>...</th>\n",
       "      <td>...</td>\n",
       "      <td>...</td>\n",
       "    </tr>\n",
       "    <tr>\n",
       "      <th>21067</th>\n",
       "      <td>chase card customer well decade offered multiple solicitations acquiring new credit cards chase bonus airline miles hotel points approved new cards annual fee year less months payment always paid agreed chase closed cards one approved new cards never activated sent chase done harm credit charged annual fee even though cancelled account failed c...</td>\n",
       "      <td>1</td>\n",
       "    </tr>\n",
       "    <tr>\n",
       "      <th>21068</th>\n",
       "      <td>wednesday called chas visa credit card provider asked make claim purchase protection benefit purchased three high school textbooks year old daughter transferred new school three books damaged water bottle backpack broke chase representative assured textbooks would covered instructed file claim immediately went website filed claim including uplo...</td>\n",
       "      <td>0</td>\n",
       "    </tr>\n",
       "    <tr>\n",
       "      <th>21069</th>\n",
       "      <td>familiar pay understand great risk provides consumers believed safe chase bank app chase almost years trust mobile banking sadly regretful told deal merchant except merchant refused answer inquiries shut communication website said merchant looks entirely legitamite even using faces highly successful brands individuals linked social media withou...</td>\n",
       "      <td>3</td>\n",
       "    </tr>\n",
       "    <tr>\n",
       "      <th>21070</th>\n",
       "      <td>flawless credit yrs ive chase credit cards chase freedom specifically since problems ever ive done many balance transfers life plenty experience recently balance transfer chase freedom many chase cards apparently freeedom got first bill minimum payment shocked immediately called representative told min payment high bc making pay balance transfe...</td>\n",
       "      <td>4</td>\n",
       "    </tr>\n",
       "    <tr>\n",
       "      <th>21071</th>\n",
       "      <td>roughly years ago closed accounts jp morgan chase bank order close unsecured line credit pay close account roughly payment closed accounts get late payment showed credit report years stating owe close dollars never payment schedules notifications years paid upon calling told need show proof paid would like think indeed paid would immediately re...</td>\n",
       "      <td>4</td>\n",
       "    </tr>\n",
       "  </tbody>\n",
       "</table>\n",
       "<p>21072 rows × 2 columns</p>\n",
       "</div>"
      ],
      "text/plain": [
       "                                                                                                                                                                                                                                                                                                                                                          complaints  \\\n",
       "0                                                              good morning name appreciate could help put stop chase bank cardmember services wrote chase asking debt verification sent statement acceptable asking bank validate debt instead receiving mail every month attempting collect debt right know information consumer chase account thanks advance help   \n",
       "1                                                                                                                                                                         upgraded card told agent upgrade anniversary date would change turned agent giving wrong information order upgrade account changed anniversary date without consent recording agent misled   \n",
       "2                                                                                                                                                                                              chase card reported however fraudulent application submitted identity without consent fraudulently obtain services extend credit without verifying identity applicant   \n",
       "3      trying book ticket came across offer applied towards ticket applied rewards card put information offer within less minute notified via screen decision could made immediately contacted referred chase bank immediately contacted chase bank within getting notification screen told chase representative spoke application denied could state asked infor...   \n",
       "4                                                                 grand son give check deposit chase account fund clear chase bank closed account never paid money said need speek grand son check clear money taking chase bank refuse pay money grand son called chase times told call verify check owner country time date happen check number claim number chase   \n",
       "...                                                                                                                                                                                                                                                                                                                                                              ...   \n",
       "21067  chase card customer well decade offered multiple solicitations acquiring new credit cards chase bonus airline miles hotel points approved new cards annual fee year less months payment always paid agreed chase closed cards one approved new cards never activated sent chase done harm credit charged annual fee even though cancelled account failed c...   \n",
       "21068  wednesday called chas visa credit card provider asked make claim purchase protection benefit purchased three high school textbooks year old daughter transferred new school three books damaged water bottle backpack broke chase representative assured textbooks would covered instructed file claim immediately went website filed claim including uplo...   \n",
       "21069  familiar pay understand great risk provides consumers believed safe chase bank app chase almost years trust mobile banking sadly regretful told deal merchant except merchant refused answer inquiries shut communication website said merchant looks entirely legitamite even using faces highly successful brands individuals linked social media withou...   \n",
       "21070  flawless credit yrs ive chase credit cards chase freedom specifically since problems ever ive done many balance transfers life plenty experience recently balance transfer chase freedom many chase cards apparently freeedom got first bill minimum payment shocked immediately called representative told min payment high bc making pay balance transfe...   \n",
       "21071  roughly years ago closed accounts jp morgan chase bank order close unsecured line credit pay close account roughly payment closed accounts get late payment showed credit report years stating owe close dollars never payment schedules notifications years paid upon calling told need show proof paid would like think indeed paid would immediately re...   \n",
       "\n",
       "       Topic  \n",
       "0          3  \n",
       "1          0  \n",
       "2          1  \n",
       "3          1  \n",
       "4          3  \n",
       "...      ...  \n",
       "21067      1  \n",
       "21068      0  \n",
       "21069      3  \n",
       "21070      4  \n",
       "21071      4  \n",
       "\n",
       "[21072 rows x 2 columns]"
      ]
     },
     "execution_count": 202,
     "metadata": {},
     "output_type": "execute_result"
    }
   ],
   "source": [
    "training_data"
   ]
  },
  {
   "cell_type": "markdown",
   "metadata": {
    "id": "280Vbqk-7a8M"
   },
   "source": [
    "#### Apply the supervised models on the training data created.\n",
    "* Create the vector counts using Count Vectoriser\n",
    "* Transform the word vecotr to tf-idf\n",
    "* Create the train & test data using the train_test_split on the tf-idf & topics\n"
   ]
  },
  {
   "cell_type": "code",
   "execution_count": 203,
   "metadata": {
    "execution": {
     "iopub.execute_input": "2024-01-03T18:25:53.925510Z",
     "iopub.status.busy": "2024-01-03T18:25:53.925176Z",
     "iopub.status.idle": "2024-01-03T18:25:53.932815Z",
     "shell.execute_reply": "2024-01-03T18:25:53.932022Z",
     "shell.execute_reply.started": "2024-01-03T18:25:53.925485Z"
    }
   },
   "outputs": [],
   "source": [
    "X = training_data['complaints']\n",
    "y = training_data['Topic']"
   ]
  },
  {
   "cell_type": "code",
   "execution_count": 204,
   "metadata": {
    "execution": {
     "iopub.execute_input": "2024-01-03T18:25:53.934276Z",
     "iopub.status.busy": "2024-01-03T18:25:53.933919Z",
     "iopub.status.idle": "2024-01-03T18:25:56.653570Z",
     "shell.execute_reply": "2024-01-03T18:25:56.652712Z",
     "shell.execute_reply.started": "2024-01-03T18:25:53.934243Z"
    },
    "id": "oUlQpgkzJrGI"
   },
   "outputs": [],
   "source": [
    "#Write your code to get the Vector count\n",
    "count_vectoriser = CountVectorizer()\n",
    "X_matrix = count_vectoriser.fit_transform(X)\n",
    "\n",
    "\n",
    "#Write your code here to transform the word vector to tf-idf\n",
    "from sklearn.feature_extraction.text import TfidfTransformer\n",
    "tf_tranformer = TfidfTransformer()\n",
    "tf_matrix = tf_tranformer.fit_transform(X_matrix)\n"
   ]
  },
  {
   "cell_type": "code",
   "execution_count": 205,
   "metadata": {
    "execution": {
     "iopub.execute_input": "2024-01-03T18:25:56.655063Z",
     "iopub.status.busy": "2024-01-03T18:25:56.654752Z",
     "iopub.status.idle": "2024-01-03T18:26:00.539486Z",
     "shell.execute_reply": "2024-01-03T18:26:00.538364Z",
     "shell.execute_reply.started": "2024-01-03T18:25:56.655037Z"
    }
   },
   "outputs": [
    {
     "data": {
      "text/plain": [
       "array([[0., 0., 0., ..., 0., 0., 0.],\n",
       "       [0., 0., 0., ..., 0., 0., 0.],\n",
       "       [0., 0., 0., ..., 0., 0., 0.],\n",
       "       ...,\n",
       "       [0., 0., 0., ..., 0., 0., 0.],\n",
       "       [0., 0., 0., ..., 0., 0., 0.],\n",
       "       [0., 0., 0., ..., 0., 0., 0.]])"
      ]
     },
     "execution_count": 205,
     "metadata": {},
     "output_type": "execute_result"
    }
   ],
   "source": [
    "tf_matrix.toarray()"
   ]
  },
  {
   "cell_type": "code",
   "execution_count": 206,
   "metadata": {
    "execution": {
     "iopub.execute_input": "2024-01-03T18:26:00.541179Z",
     "iopub.status.busy": "2024-01-03T18:26:00.540794Z",
     "iopub.status.idle": "2024-01-03T18:26:00.558376Z",
     "shell.execute_reply": "2024-01-03T18:26:00.557218Z",
     "shell.execute_reply.started": "2024-01-03T18:26:00.541144Z"
    }
   },
   "outputs": [],
   "source": [
    "from sklearn.model_selection import train_test_split\n",
    "X_train,X_test,y_train,y_test = train_test_split(tf_matrix,y,test_size=0.2,random_state=42)"
   ]
  },
  {
   "cell_type": "markdown",
   "metadata": {
    "id": "uMU3vj6w-wqL"
   },
   "source": [
    "Lets try following models on the train & test data from these options:\n",
    "* Logistic regression\n",
    "* Decision Tree\n",
    "* Random Forest\n",
    "* Naive Bayes\n",
    "\n",
    "**Using the required evaluation metrics lets judge the tried models and select the ones performing the best**"
   ]
  },
  {
   "cell_type": "code",
   "execution_count": 207,
   "metadata": {
    "execution": {
     "iopub.execute_input": "2024-01-03T18:26:00.560475Z",
     "iopub.status.busy": "2024-01-03T18:26:00.560075Z",
     "iopub.status.idle": "2024-01-03T18:26:00.567076Z",
     "shell.execute_reply": "2024-01-03T18:26:00.566063Z",
     "shell.execute_reply.started": "2024-01-03T18:26:00.560441Z"
    }
   },
   "outputs": [],
   "source": [
    "from sklearn.linear_model import LogisticRegression\n",
    "from sklearn.tree import DecisionTreeClassifier\n",
    "from sklearn.ensemble import RandomForestClassifier\n",
    "from sklearn.naive_bayes import MultinomialNB\n",
    "\n",
    "\n",
    "from sklearn.model_selection import GridSearchCV\n",
    "from sklearn.model_selection import cross_val_score\n",
    "from sklearn.model_selection import StratifiedKFold\n",
    "\n",
    "from sklearn import metrics\n",
    "from sklearn.metrics import roc_auc_score\n",
    "from sklearn.metrics import classification_report\n",
    "from sklearn.metrics import confusion_matrix\n",
    "from sklearn.metrics import accuracy_score\n",
    "from sklearn.metrics import precision_recall_fscore_support"
   ]
  },
  {
   "cell_type": "code",
   "execution_count": 236,
   "metadata": {
    "execution": {
     "iopub.execute_input": "2024-01-03T19:17:01.100969Z",
     "iopub.status.busy": "2024-01-03T19:17:01.100564Z",
     "iopub.status.idle": "2024-01-03T19:17:01.112018Z",
     "shell.execute_reply": "2024-01-03T19:17:01.110993Z",
     "shell.execute_reply.started": "2024-01-03T19:17:01.100938Z"
    },
    "id": "udLHpPsZJrGI"
   },
   "outputs": [],
   "source": [
    "# custom metrics evalutation report\n",
    "def metrics_report(model):\n",
    "    metrics = []\n",
    "    \n",
    "    y_train_pred = model.predict(X_train)\n",
    "    y_train_pred_prob = model.predict_proba(X_train)\n",
    "    \n",
    "    y_test_pred = model.predict(X_test)\n",
    "    y_test_pred_prob = model.predict_proba(X_test)    \n",
    "   \n",
    "    \n",
    "    precision_train,recall_train,fscore_train,support_train = precision_recall_fscore_support(y_train,y_train_pred,average='weighted')\n",
    "    precision_test,recall_test,fscore_test,support_test = precision_recall_fscore_support(y_test,y_test_pred,average='weighted')\n",
    "    \n",
    "    train_accuracy = accuracy_score(y_train,y_train_pred)\n",
    "    test_accuracy = accuracy_score(y_test,y_test_pred)\n",
    "    print(\"train accuracy score: {}\".format(train_accuracy))\n",
    "    print(\"test accuracy score: {}\".format(test_accuracy))\n",
    "    \n",
    "    \n",
    "    print(\"classification report on train data: {}\".format(classification_report(y_train,y_train_pred),labels=[0,1,2,3,4]))\n",
    "    print(\"classification report on test data: {}\".format(classification_report(y_test,y_test_pred),labels=[0,1,2,3,4]))\n",
    "    \n",
    "    roc_curve_score = roc_auc_score(y_test,y_test_pred_prob,average='weighted',multi_class='ovr')\n",
    "    print(\"roc_curve_score: {}\".format(roc_curve_score))\n",
    "    \n",
    "    cm = confusion_matrix(y_test,y_test_pred,labels=[0,1,2,3,4])\n",
    "    sns.heatmap(cm,annot=True,cmap='Greens',fmt='d')\n",
    "    plt.show()\n",
    "    \n",
    "    metrics += [train_accuracy,test_accuracy,roc_curve_score,\n",
    "                   precision_train,precision_test,\n",
    "                   recall_train,recall_test,\n",
    "                   fscore_train,fscore_test]\n",
    "    return metrics"
   ]
  },
  {
   "cell_type": "markdown",
   "metadata": {},
   "source": [
    "# **Logistic regression**"
   ]
  },
  {
   "cell_type": "code",
   "execution_count": 215,
   "metadata": {
    "execution": {
     "iopub.execute_input": "2024-01-03T18:31:02.961260Z",
     "iopub.status.busy": "2024-01-03T18:31:02.960144Z",
     "iopub.status.idle": "2024-01-03T18:31:13.841806Z",
     "shell.execute_reply": "2024-01-03T18:31:13.840343Z",
     "shell.execute_reply.started": "2024-01-03T18:31:02.961208Z"
    }
   },
   "outputs": [],
   "source": [
    "lgr = LogisticRegression()\n",
    "lgr_model = lgr.fit(X_train,y_train)"
   ]
  },
  {
   "cell_type": "code",
   "execution_count": 237,
   "metadata": {
    "execution": {
     "iopub.execute_input": "2024-01-03T19:17:08.168964Z",
     "iopub.status.busy": "2024-01-03T19:17:08.168363Z",
     "iopub.status.idle": "2024-01-03T19:17:08.554220Z",
     "shell.execute_reply": "2024-01-03T19:17:08.553235Z",
     "shell.execute_reply.started": "2024-01-03T19:17:08.168931Z"
    }
   },
   "outputs": [
    {
     "name": "stdout",
     "output_type": "stream",
     "text": [
      "train accuracy score: 0.9710506021237468\n",
      "test accuracy score: 0.9212336892052194\n",
      "classification report on train data:               precision    recall  f1-score   support\n",
      "\n",
      "           0       0.96      0.98      0.97      3941\n",
      "           1       0.98      0.95      0.97      2861\n",
      "           2       0.98      0.98      0.98      3076\n",
      "           3       0.96      0.99      0.98      5213\n",
      "           4       0.98      0.93      0.96      1766\n",
      "\n",
      "    accuracy                           0.97     16857\n",
      "   macro avg       0.97      0.96      0.97     16857\n",
      "weighted avg       0.97      0.97      0.97     16857\n",
      "\n",
      "classification report on test data:               precision    recall  f1-score   support\n",
      "\n",
      "           0       0.90      0.93      0.91       995\n",
      "           1       0.94      0.90      0.92       736\n",
      "           2       0.94      0.93      0.93       722\n",
      "           3       0.91      0.95      0.93      1315\n",
      "           4       0.95      0.84      0.89       447\n",
      "\n",
      "    accuracy                           0.92      4215\n",
      "   macro avg       0.93      0.91      0.92      4215\n",
      "weighted avg       0.92      0.92      0.92      4215\n",
      "\n",
      "roc_curve_score: 0.9942509998512927\n"
     ]
    },
    {
     "data": {
      "image/png": "[encoded data removed]",
      "text/plain": [
       "<Figure size 640x480 with 2 Axes>"
      ]
     },
     "metadata": {},
     "output_type": "display_data"
    }
   ],
   "source": [
    "metrics_lgr = metrics_report(lgr_model)"
   ]
  },
  {
   "cell_type": "markdown",
   "metadata": {},
   "source": [
    "# **Decision Tree Algorithm**"
   ]
  },
  {
   "cell_type": "code",
   "execution_count": 217,
   "metadata": {
    "execution": {
     "iopub.execute_input": "2024-01-03T18:31:16.991491Z",
     "iopub.status.busy": "2024-01-03T18:31:16.991108Z",
     "iopub.status.idle": "2024-01-03T18:31:16.996880Z",
     "shell.execute_reply": "2024-01-03T18:31:16.995804Z",
     "shell.execute_reply.started": "2024-01-03T18:31:16.991461Z"
    }
   },
   "outputs": [],
   "source": [
    "# common method to aply gridsearch cross validation\n",
    "def gridsearchcv_model(model,params,cv,scoring):\n",
    "    grid_model = GridSearchCV(model,params,cv=cv,n_jobs=-1,scoring=scoring,verbose=1)\n",
    "    grid_mode = grid_model.fit(X_train,y_train)\n",
    "    return grid_model\n",
    "    "
   ]
  },
  {
   "cell_type": "code",
   "execution_count": 218,
   "metadata": {
    "execution": {
     "iopub.execute_input": "2024-01-03T18:31:17.962848Z",
     "iopub.status.busy": "2024-01-03T18:31:17.962481Z",
     "iopub.status.idle": "2024-01-03T18:36:47.553859Z",
     "shell.execute_reply": "2024-01-03T18:36:47.552618Z",
     "shell.execute_reply.started": "2024-01-03T18:31:17.962820Z"
    }
   },
   "outputs": [
    {
     "name": "stdout",
     "output_type": "stream",
     "text": [
      "Fitting 5 folds for each of 72 candidates, totalling 360 fits\n"
     ]
    },
    {
     "name": "stderr",
     "output_type": "stream",
     "text": [
      "/opt/conda/lib/python3.10/site-packages/scipy/__init__.py:146: UserWarning: A NumPy version >=1.16.5 and <1.23.0 is required for this version of SciPy (detected version 1.24.3\n",
      "  warnings.warn(f\"A NumPy version >={np_minversion} and <{np_maxversion}\"\n",
      "/opt/conda/lib/python3.10/site-packages/scipy/__init__.py:146: UserWarning: A NumPy version >=1.16.5 and <1.23.0 is required for this version of SciPy (detected version 1.24.3\n",
      "  warnings.warn(f\"A NumPy version >={np_minversion} and <{np_maxversion}\"\n",
      "/opt/conda/lib/python3.10/site-packages/scipy/__init__.py:146: UserWarning: A NumPy version >=1.16.5 and <1.23.0 is required for this version of SciPy (detected version 1.24.3\n",
      "  warnings.warn(f\"A NumPy version >={np_minversion} and <{np_maxversion}\"\n",
      "/opt/conda/lib/python3.10/site-packages/scipy/__init__.py:146: UserWarning: A NumPy version >=1.16.5 and <1.23.0 is required for this version of SciPy (detected version 1.24.3\n",
      "  warnings.warn(f\"A NumPy version >={np_minversion} and <{np_maxversion}\"\n"
     ]
    }
   ],
   "source": [
    "# instatiate decision tree and provide params for gridsearch cv\n",
    "dt = DecisionTreeClassifier(random_state=42)\n",
    "folds=5\n",
    "params = {\n",
    "    'criterion' : ['gini','entropy'],\n",
    "    'max_depth' : [5,10,20,50],\n",
    "    'min_samples_split' : [10,20,50],\n",
    "    'min_samples_leaf' : [10,20,50]\n",
    "}\n",
    "\n",
    "dt_grid_model = gridsearchcv_model(dt,params,folds,'roc_auc_ovr')"
   ]
  },
  {
   "cell_type": "code",
   "execution_count": 219,
   "metadata": {
    "execution": {
     "iopub.execute_input": "2024-01-03T18:36:47.556513Z",
     "iopub.status.busy": "2024-01-03T18:36:47.556183Z",
     "iopub.status.idle": "2024-01-03T18:36:47.565940Z",
     "shell.execute_reply": "2024-01-03T18:36:47.565043Z",
     "shell.execute_reply.started": "2024-01-03T18:36:47.556483Z"
    }
   },
   "outputs": [
    {
     "name": "stdout",
     "output_type": "stream",
     "text": [
      "0.9572043299828268\n"
     ]
    },
    {
     "data": {
      "text/html": [
       "<style>#sk-container-id-3 {color: black;background-color: white;}#sk-container-id-3 pre{padding: 0;}#sk-container-id-3 div.sk-toggleable {background-color: white;}#sk-container-id-3 label.sk-toggleable__label {cursor: pointer;display: block;width: 100%;margin-bottom: 0;padding: 0.3em;box-sizing: border-box;text-align: center;}#sk-container-id-3 label.sk-toggleable__label-arrow:before {content: \"▸\";float: left;margin-right: 0.25em;color: #696969;}#sk-container-id-3 label.sk-toggleable__label-arrow:hover:before {color: black;}#sk-container-id-3 div.sk-estimator:hover label.sk-toggleable__label-arrow:before {color: black;}#sk-container-id-3 div.sk-toggleable__content {max-height: 0;max-width: 0;overflow: hidden;text-align: left;background-color: #f0f8ff;}#sk-container-id-3 div.sk-toggleable__content pre {margin: 0.2em;color: black;border-radius: 0.25em;background-color: #f0f8ff;}#sk-container-id-3 input.sk-toggleable__control:checked~div.sk-toggleable__content {max-height: 200px;max-width: 100%;overflow: auto;}#sk-container-id-3 input.sk-toggleable__control:checked~label.sk-toggleable__label-arrow:before {content: \"▾\";}#sk-container-id-3 div.sk-estimator input.sk-toggleable__control:checked~label.sk-toggleable__label {background-color: #d4ebff;}#sk-container-id-3 div.sk-label input.sk-toggleable__control:checked~label.sk-toggleable__label {background-color: #d4ebff;}#sk-container-id-3 input.sk-hidden--visually {border: 0;clip: rect(1px 1px 1px 1px);clip: rect(1px, 1px, 1px, 1px);height: 1px;margin: -1px;overflow: hidden;padding: 0;position: absolute;width: 1px;}#sk-container-id-3 div.sk-estimator {font-family: monospace;background-color: #f0f8ff;border: 1px dotted black;border-radius: 0.25em;box-sizing: border-box;margin-bottom: 0.5em;}#sk-container-id-3 div.sk-estimator:hover {background-color: #d4ebff;}#sk-container-id-3 div.sk-parallel-item::after {content: \"\";width: 100%;border-bottom: 1px solid gray;flex-grow: 1;}#sk-container-id-3 div.sk-label:hover label.sk-toggleable__label {background-color: #d4ebff;}#sk-container-id-3 div.sk-serial::before {content: \"\";position: absolute;border-left: 1px solid gray;box-sizing: border-box;top: 0;bottom: 0;left: 50%;z-index: 0;}#sk-container-id-3 div.sk-serial {display: flex;flex-direction: column;align-items: center;background-color: white;padding-right: 0.2em;padding-left: 0.2em;position: relative;}#sk-container-id-3 div.sk-item {position: relative;z-index: 1;}#sk-container-id-3 div.sk-parallel {display: flex;align-items: stretch;justify-content: center;background-color: white;position: relative;}#sk-container-id-3 div.sk-item::before, #sk-container-id-3 div.sk-parallel-item::before {content: \"\";position: absolute;border-left: 1px solid gray;box-sizing: border-box;top: 0;bottom: 0;left: 50%;z-index: -1;}#sk-container-id-3 div.sk-parallel-item {display: flex;flex-direction: column;z-index: 1;position: relative;background-color: white;}#sk-container-id-3 div.sk-parallel-item:first-child::after {align-self: flex-end;width: 50%;}#sk-container-id-3 div.sk-parallel-item:last-child::after {align-self: flex-start;width: 50%;}#sk-container-id-3 div.sk-parallel-item:only-child::after {width: 0;}#sk-container-id-3 div.sk-dashed-wrapped {border: 1px dashed gray;margin: 0 0.4em 0.5em 0.4em;box-sizing: border-box;padding-bottom: 0.4em;background-color: white;}#sk-container-id-3 div.sk-label label {font-family: monospace;font-weight: bold;display: inline-block;line-height: 1.2em;}#sk-container-id-3 div.sk-label-container {text-align: center;}#sk-container-id-3 div.sk-container {/* jupyter's `normalize.less` sets `[hidden] { display: none; }` but bootstrap.min.css set `[hidden] { display: none !important; }` so we also need the `!important` here to be able to override the default hidden behavior on the sphinx rendered scikit-learn.org. See: https://github.com/scikit-learn/scikit-learn/issues/21755 */display: inline-block !important;position: relative;}#sk-container-id-3 div.sk-text-repr-fallback {display: none;}</style><div id=\"sk-container-id-3\" class=\"sk-top-container\"><div class=\"sk-text-repr-fallback\"><pre>DecisionTreeClassifier(criterion=&#x27;entropy&#x27;, max_depth=20, min_samples_leaf=50,\n",
       "                       min_samples_split=10, random_state=42)</pre><b>In a Jupyter environment, please rerun this cell to show the HTML representation or trust the notebook. <br />On GitHub, the HTML representation is unable to render, please try loading this page with nbviewer.org.</b></div><div class=\"sk-container\" hidden><div class=\"sk-item\"><div class=\"sk-estimator sk-toggleable\"><input class=\"sk-toggleable__control sk-hidden--visually\" id=\"sk-estimator-id-3\" type=\"checkbox\" checked><label for=\"sk-estimator-id-3\" class=\"sk-toggleable__label sk-toggleable__label-arrow\">DecisionTreeClassifier</label><div class=\"sk-toggleable__content\"><pre>DecisionTreeClassifier(criterion=&#x27;entropy&#x27;, max_depth=20, min_samples_leaf=50,\n",
       "                       min_samples_split=10, random_state=42)</pre></div></div></div></div></div>"
      ],
      "text/plain": [
       "DecisionTreeClassifier(criterion='entropy', max_depth=20, min_samples_leaf=50,\n",
       "                       min_samples_split=10, random_state=42)"
      ]
     },
     "execution_count": 219,
     "metadata": {},
     "output_type": "execute_result"
    }
   ],
   "source": [
    "# select the best performing model\n",
    "print(dt_grid_model.best_score_)\n",
    "dt_grid_model.best_estimator_"
   ]
  },
  {
   "cell_type": "code",
   "execution_count": 240,
   "metadata": {
    "execution": {
     "iopub.execute_input": "2024-01-03T19:18:05.349243Z",
     "iopub.status.busy": "2024-01-03T19:18:05.348565Z",
     "iopub.status.idle": "2024-01-03T19:18:09.295435Z",
     "shell.execute_reply": "2024-01-03T19:18:09.294428Z",
     "shell.execute_reply.started": "2024-01-03T19:18:05.349208Z"
    }
   },
   "outputs": [
    {
     "name": "stdout",
     "output_type": "stream",
     "text": [
      "train accuracy score: 0.8409562792905024\n",
      "test accuracy score: 0.8196915776986952\n",
      "classification report on train data:               precision    recall  f1-score   support\n",
      "\n",
      "           0       0.84      0.84      0.84      3941\n",
      "           1       0.81      0.81      0.81      2861\n",
      "           2       0.83      0.85      0.84      3076\n",
      "           3       0.87      0.87      0.87      5213\n",
      "           4       0.83      0.80      0.81      1766\n",
      "\n",
      "    accuracy                           0.84     16857\n",
      "   macro avg       0.84      0.83      0.83     16857\n",
      "weighted avg       0.84      0.84      0.84     16857\n",
      "\n",
      "classification report on test data:               precision    recall  f1-score   support\n",
      "\n",
      "           0       0.80      0.81      0.80       995\n",
      "           1       0.80      0.80      0.80       736\n",
      "           2       0.82      0.82      0.82       722\n",
      "           3       0.85      0.86      0.85      1315\n",
      "           4       0.80      0.77      0.78       447\n",
      "\n",
      "    accuracy                           0.82      4215\n",
      "   macro avg       0.82      0.81      0.81      4215\n",
      "weighted avg       0.82      0.82      0.82      4215\n",
      "\n",
      "roc_curve_score: 0.9595493222402842\n"
     ]
    },
    {
     "data": {
      "image/png": "[encoded data removed]",
      "text/plain": [
       "<Figure size 640x480 with 2 Axes>"
      ]
     },
     "metadata": {},
     "output_type": "display_data"
    }
   ],
   "source": [
    "dt = DecisionTreeClassifier(criterion='entropy', max_depth=20, min_samples_leaf=50,\n",
    "                       min_samples_split=10, random_state=42)\n",
    "dt = dt.fit(X_train,y_train)\n",
    "\n",
    "metrics_dt = metrics_report(dt)"
   ]
  },
  {
   "cell_type": "markdown",
   "metadata": {},
   "source": [
    "# **Random Forest Algorithm**"
   ]
  },
  {
   "cell_type": "code",
   "execution_count": 221,
   "metadata": {
    "execution": {
     "iopub.execute_input": "2024-01-03T18:36:51.653463Z",
     "iopub.status.busy": "2024-01-03T18:36:51.653089Z",
     "iopub.status.idle": "2024-01-03T19:10:06.649556Z",
     "shell.execute_reply": "2024-01-03T19:10:06.648609Z",
     "shell.execute_reply.started": "2024-01-03T18:36:51.653436Z"
    }
   },
   "outputs": [
    {
     "name": "stdout",
     "output_type": "stream",
     "text": [
      "Fitting 5 folds for each of 216 candidates, totalling 1080 fits\n"
     ]
    }
   ],
   "source": [
    "# instatiate random forest and provide params for gridsearch cv\n",
    "rf_model = RandomForestClassifier(random_state=42,n_jobs=-1,oob_score=True)\n",
    "folds = 5\n",
    "params = {\n",
    "    'n_estimators' : [50,100,200],\n",
    "    'criterion' : ['gini','entropy'],\n",
    "    'max_depth' : [5,10,20,50],\n",
    "    'min_samples_split' : [10,20,50],\n",
    "    'min_samples_leaf' : [10,20,50]\n",
    "}\n",
    "\n",
    "rf_grid_model = gridsearchcv_model(rf_model,params,folds,'roc_auc_ovr')"
   ]
  },
  {
   "cell_type": "code",
   "execution_count": 222,
   "metadata": {
    "execution": {
     "iopub.execute_input": "2024-01-03T19:10:06.650999Z",
     "iopub.status.busy": "2024-01-03T19:10:06.650720Z",
     "iopub.status.idle": "2024-01-03T19:10:06.659608Z",
     "shell.execute_reply": "2024-01-03T19:10:06.658698Z",
     "shell.execute_reply.started": "2024-01-03T19:10:06.650974Z"
    }
   },
   "outputs": [
    {
     "data": {
      "text/html": [
       "<style>#sk-container-id-4 {color: black;background-color: white;}#sk-container-id-4 pre{padding: 0;}#sk-container-id-4 div.sk-toggleable {background-color: white;}#sk-container-id-4 label.sk-toggleable__label {cursor: pointer;display: block;width: 100%;margin-bottom: 0;padding: 0.3em;box-sizing: border-box;text-align: center;}#sk-container-id-4 label.sk-toggleable__label-arrow:before {content: \"▸\";float: left;margin-right: 0.25em;color: #696969;}#sk-container-id-4 label.sk-toggleable__label-arrow:hover:before {color: black;}#sk-container-id-4 div.sk-estimator:hover label.sk-toggleable__label-arrow:before {color: black;}#sk-container-id-4 div.sk-toggleable__content {max-height: 0;max-width: 0;overflow: hidden;text-align: left;background-color: #f0f8ff;}#sk-container-id-4 div.sk-toggleable__content pre {margin: 0.2em;color: black;border-radius: 0.25em;background-color: #f0f8ff;}#sk-container-id-4 input.sk-toggleable__control:checked~div.sk-toggleable__content {max-height: 200px;max-width: 100%;overflow: auto;}#sk-container-id-4 input.sk-toggleable__control:checked~label.sk-toggleable__label-arrow:before {content: \"▾\";}#sk-container-id-4 div.sk-estimator input.sk-toggleable__control:checked~label.sk-toggleable__label {background-color: #d4ebff;}#sk-container-id-4 div.sk-label input.sk-toggleable__control:checked~label.sk-toggleable__label {background-color: #d4ebff;}#sk-container-id-4 input.sk-hidden--visually {border: 0;clip: rect(1px 1px 1px 1px);clip: rect(1px, 1px, 1px, 1px);height: 1px;margin: -1px;overflow: hidden;padding: 0;position: absolute;width: 1px;}#sk-container-id-4 div.sk-estimator {font-family: monospace;background-color: #f0f8ff;border: 1px dotted black;border-radius: 0.25em;box-sizing: border-box;margin-bottom: 0.5em;}#sk-container-id-4 div.sk-estimator:hover {background-color: #d4ebff;}#sk-container-id-4 div.sk-parallel-item::after {content: \"\";width: 100%;border-bottom: 1px solid gray;flex-grow: 1;}#sk-container-id-4 div.sk-label:hover label.sk-toggleable__label {background-color: #d4ebff;}#sk-container-id-4 div.sk-serial::before {content: \"\";position: absolute;border-left: 1px solid gray;box-sizing: border-box;top: 0;bottom: 0;left: 50%;z-index: 0;}#sk-container-id-4 div.sk-serial {display: flex;flex-direction: column;align-items: center;background-color: white;padding-right: 0.2em;padding-left: 0.2em;position: relative;}#sk-container-id-4 div.sk-item {position: relative;z-index: 1;}#sk-container-id-4 div.sk-parallel {display: flex;align-items: stretch;justify-content: center;background-color: white;position: relative;}#sk-container-id-4 div.sk-item::before, #sk-container-id-4 div.sk-parallel-item::before {content: \"\";position: absolute;border-left: 1px solid gray;box-sizing: border-box;top: 0;bottom: 0;left: 50%;z-index: -1;}#sk-container-id-4 div.sk-parallel-item {display: flex;flex-direction: column;z-index: 1;position: relative;background-color: white;}#sk-container-id-4 div.sk-parallel-item:first-child::after {align-self: flex-end;width: 50%;}#sk-container-id-4 div.sk-parallel-item:last-child::after {align-self: flex-start;width: 50%;}#sk-container-id-4 div.sk-parallel-item:only-child::after {width: 0;}#sk-container-id-4 div.sk-dashed-wrapped {border: 1px dashed gray;margin: 0 0.4em 0.5em 0.4em;box-sizing: border-box;padding-bottom: 0.4em;background-color: white;}#sk-container-id-4 div.sk-label label {font-family: monospace;font-weight: bold;display: inline-block;line-height: 1.2em;}#sk-container-id-4 div.sk-label-container {text-align: center;}#sk-container-id-4 div.sk-container {/* jupyter's `normalize.less` sets `[hidden] { display: none; }` but bootstrap.min.css set `[hidden] { display: none !important; }` so we also need the `!important` here to be able to override the default hidden behavior on the sphinx rendered scikit-learn.org. See: https://github.com/scikit-learn/scikit-learn/issues/21755 */display: inline-block !important;position: relative;}#sk-container-id-4 div.sk-text-repr-fallback {display: none;}</style><div id=\"sk-container-id-4\" class=\"sk-top-container\"><div class=\"sk-text-repr-fallback\"><pre>RandomForestClassifier(max_depth=50, min_samples_leaf=10, min_samples_split=50,\n",
       "                       n_estimators=200, n_jobs=-1, oob_score=True,\n",
       "                       random_state=42)</pre><b>In a Jupyter environment, please rerun this cell to show the HTML representation or trust the notebook. <br />On GitHub, the HTML representation is unable to render, please try loading this page with nbviewer.org.</b></div><div class=\"sk-container\" hidden><div class=\"sk-item\"><div class=\"sk-estimator sk-toggleable\"><input class=\"sk-toggleable__control sk-hidden--visually\" id=\"sk-estimator-id-4\" type=\"checkbox\" checked><label for=\"sk-estimator-id-4\" class=\"sk-toggleable__label sk-toggleable__label-arrow\">RandomForestClassifier</label><div class=\"sk-toggleable__content\"><pre>RandomForestClassifier(max_depth=50, min_samples_leaf=10, min_samples_split=50,\n",
       "                       n_estimators=200, n_jobs=-1, oob_score=True,\n",
       "                       random_state=42)</pre></div></div></div></div></div>"
      ],
      "text/plain": [
       "RandomForestClassifier(max_depth=50, min_samples_leaf=10, min_samples_split=50,\n",
       "                       n_estimators=200, n_jobs=-1, oob_score=True,\n",
       "                       random_state=42)"
      ]
     },
     "execution_count": 222,
     "metadata": {},
     "output_type": "execute_result"
    }
   ],
   "source": [
    "rf_grid_model.best_estimator_"
   ]
  },
  {
   "cell_type": "code",
   "execution_count": 223,
   "metadata": {
    "execution": {
     "iopub.execute_input": "2024-01-03T19:10:06.661704Z",
     "iopub.status.busy": "2024-01-03T19:10:06.661040Z",
     "iopub.status.idle": "2024-01-03T19:10:15.921426Z",
     "shell.execute_reply": "2024-01-03T19:10:15.920456Z",
     "shell.execute_reply.started": "2024-01-03T19:10:06.661666Z"
    }
   },
   "outputs": [
    {
     "data": {
      "text/html": [
       "<style>#sk-container-id-5 {color: black;background-color: white;}#sk-container-id-5 pre{padding: 0;}#sk-container-id-5 div.sk-toggleable {background-color: white;}#sk-container-id-5 label.sk-toggleable__label {cursor: pointer;display: block;width: 100%;margin-bottom: 0;padding: 0.3em;box-sizing: border-box;text-align: center;}#sk-container-id-5 label.sk-toggleable__label-arrow:before {content: \"▸\";float: left;margin-right: 0.25em;color: #696969;}#sk-container-id-5 label.sk-toggleable__label-arrow:hover:before {color: black;}#sk-container-id-5 div.sk-estimator:hover label.sk-toggleable__label-arrow:before {color: black;}#sk-container-id-5 div.sk-toggleable__content {max-height: 0;max-width: 0;overflow: hidden;text-align: left;background-color: #f0f8ff;}#sk-container-id-5 div.sk-toggleable__content pre {margin: 0.2em;color: black;border-radius: 0.25em;background-color: #f0f8ff;}#sk-container-id-5 input.sk-toggleable__control:checked~div.sk-toggleable__content {max-height: 200px;max-width: 100%;overflow: auto;}#sk-container-id-5 input.sk-toggleable__control:checked~label.sk-toggleable__label-arrow:before {content: \"▾\";}#sk-container-id-5 div.sk-estimator input.sk-toggleable__control:checked~label.sk-toggleable__label {background-color: #d4ebff;}#sk-container-id-5 div.sk-label input.sk-toggleable__control:checked~label.sk-toggleable__label {background-color: #d4ebff;}#sk-container-id-5 input.sk-hidden--visually {border: 0;clip: rect(1px 1px 1px 1px);clip: rect(1px, 1px, 1px, 1px);height: 1px;margin: -1px;overflow: hidden;padding: 0;position: absolute;width: 1px;}#sk-container-id-5 div.sk-estimator {font-family: monospace;background-color: #f0f8ff;border: 1px dotted black;border-radius: 0.25em;box-sizing: border-box;margin-bottom: 0.5em;}#sk-container-id-5 div.sk-estimator:hover {background-color: #d4ebff;}#sk-container-id-5 div.sk-parallel-item::after {content: \"\";width: 100%;border-bottom: 1px solid gray;flex-grow: 1;}#sk-container-id-5 div.sk-label:hover label.sk-toggleable__label {background-color: #d4ebff;}#sk-container-id-5 div.sk-serial::before {content: \"\";position: absolute;border-left: 1px solid gray;box-sizing: border-box;top: 0;bottom: 0;left: 50%;z-index: 0;}#sk-container-id-5 div.sk-serial {display: flex;flex-direction: column;align-items: center;background-color: white;padding-right: 0.2em;padding-left: 0.2em;position: relative;}#sk-container-id-5 div.sk-item {position: relative;z-index: 1;}#sk-container-id-5 div.sk-parallel {display: flex;align-items: stretch;justify-content: center;background-color: white;position: relative;}#sk-container-id-5 div.sk-item::before, #sk-container-id-5 div.sk-parallel-item::before {content: \"\";position: absolute;border-left: 1px solid gray;box-sizing: border-box;top: 0;bottom: 0;left: 50%;z-index: -1;}#sk-container-id-5 div.sk-parallel-item {display: flex;flex-direction: column;z-index: 1;position: relative;background-color: white;}#sk-container-id-5 div.sk-parallel-item:first-child::after {align-self: flex-end;width: 50%;}#sk-container-id-5 div.sk-parallel-item:last-child::after {align-self: flex-start;width: 50%;}#sk-container-id-5 div.sk-parallel-item:only-child::after {width: 0;}#sk-container-id-5 div.sk-dashed-wrapped {border: 1px dashed gray;margin: 0 0.4em 0.5em 0.4em;box-sizing: border-box;padding-bottom: 0.4em;background-color: white;}#sk-container-id-5 div.sk-label label {font-family: monospace;font-weight: bold;display: inline-block;line-height: 1.2em;}#sk-container-id-5 div.sk-label-container {text-align: center;}#sk-container-id-5 div.sk-container {/* jupyter's `normalize.less` sets `[hidden] { display: none; }` but bootstrap.min.css set `[hidden] { display: none !important; }` so we also need the `!important` here to be able to override the default hidden behavior on the sphinx rendered scikit-learn.org. See: https://github.com/scikit-learn/scikit-learn/issues/21755 */display: inline-block !important;position: relative;}#sk-container-id-5 div.sk-text-repr-fallback {display: none;}</style><div id=\"sk-container-id-5\" class=\"sk-top-container\"><div class=\"sk-text-repr-fallback\"><pre>RandomForestClassifier(max_depth=50, min_samples_leaf=10, min_samples_split=50,\n",
       "                       n_estimators=200, n_jobs=-1, oob_score=True,\n",
       "                       random_state=42)</pre><b>In a Jupyter environment, please rerun this cell to show the HTML representation or trust the notebook. <br />On GitHub, the HTML representation is unable to render, please try loading this page with nbviewer.org.</b></div><div class=\"sk-container\" hidden><div class=\"sk-item\"><div class=\"sk-estimator sk-toggleable\"><input class=\"sk-toggleable__control sk-hidden--visually\" id=\"sk-estimator-id-5\" type=\"checkbox\" checked><label for=\"sk-estimator-id-5\" class=\"sk-toggleable__label sk-toggleable__label-arrow\">RandomForestClassifier</label><div class=\"sk-toggleable__content\"><pre>RandomForestClassifier(max_depth=50, min_samples_leaf=10, min_samples_split=50,\n",
       "                       n_estimators=200, n_jobs=-1, oob_score=True,\n",
       "                       random_state=42)</pre></div></div></div></div></div>"
      ],
      "text/plain": [
       "RandomForestClassifier(max_depth=50, min_samples_leaf=10, min_samples_split=50,\n",
       "                       n_estimators=200, n_jobs=-1, oob_score=True,\n",
       "                       random_state=42)"
      ]
     },
     "execution_count": 223,
     "metadata": {},
     "output_type": "execute_result"
    }
   ],
   "source": [
    "# select the best estimation and fit the training data\n",
    "rf_model = rf_grid_model.best_estimator_\n",
    "\n",
    "rf_model.fit(X_train,y_train)"
   ]
  },
  {
   "cell_type": "code",
   "execution_count": 241,
   "metadata": {
    "execution": {
     "iopub.execute_input": "2024-01-03T19:18:28.461560Z",
     "iopub.status.busy": "2024-01-03T19:18:28.461170Z",
     "iopub.status.idle": "2024-01-03T19:18:30.089852Z",
     "shell.execute_reply": "2024-01-03T19:18:30.088870Z",
     "shell.execute_reply.started": "2024-01-03T19:18:28.461532Z"
    }
   },
   "outputs": [
    {
     "name": "stdout",
     "output_type": "stream",
     "text": [
      "train accuracy score: 0.8163967491249926\n",
      "test accuracy score: 0.7710557532621589\n",
      "classification report on train data:               precision    recall  f1-score   support\n",
      "\n",
      "           0       0.82      0.85      0.83      3941\n",
      "           1       0.85      0.77      0.81      2861\n",
      "           2       0.88      0.86      0.87      3076\n",
      "           3       0.76      0.96      0.85      5213\n",
      "           4       0.98      0.33      0.50      1766\n",
      "\n",
      "    accuracy                           0.82     16857\n",
      "   macro avg       0.86      0.75      0.77     16857\n",
      "weighted avg       0.83      0.82      0.80     16857\n",
      "\n",
      "classification report on test data:               precision    recall  f1-score   support\n",
      "\n",
      "           0       0.76      0.78      0.77       995\n",
      "           1       0.81      0.72      0.76       736\n",
      "           2       0.86      0.83      0.84       722\n",
      "           3       0.72      0.94      0.81      1315\n",
      "           4       0.95      0.24      0.38       447\n",
      "\n",
      "    accuracy                           0.77      4215\n",
      "   macro avg       0.82      0.70      0.71      4215\n",
      "weighted avg       0.79      0.77      0.75      4215\n",
      "\n",
      "roc_curve_score: 0.96432646396867\n"
     ]
    },
    {
     "data": {
      "image/png": "[encoded data removed]",
      "text/plain": [
       "<Figure size 640x480 with 2 Axes>"
      ]
     },
     "metadata": {},
     "output_type": "display_data"
    }
   ],
   "source": [
    "metrics_rf = metrics_report(rf_model)"
   ]
  },
  {
   "cell_type": "markdown",
   "metadata": {},
   "source": [
    "# **Naive Bayes Algorithm**"
   ]
  },
  {
   "cell_type": "code",
   "execution_count": 242,
   "metadata": {
    "execution": {
     "iopub.execute_input": "2024-01-03T19:18:34.228737Z",
     "iopub.status.busy": "2024-01-03T19:18:34.227954Z",
     "iopub.status.idle": "2024-01-03T19:18:37.945602Z",
     "shell.execute_reply": "2024-01-03T19:18:37.944347Z",
     "shell.execute_reply.started": "2024-01-03T19:18:34.228701Z"
    }
   },
   "outputs": [
    {
     "name": "stdout",
     "output_type": "stream",
     "text": [
      "Fitting 5 folds for each of 5 candidates, totalling 25 fits\n"
     ]
    },
    {
     "name": "stderr",
     "output_type": "stream",
     "text": [
      "/opt/conda/lib/python3.10/site-packages/scipy/__init__.py:146: UserWarning: A NumPy version >=1.16.5 and <1.23.0 is required for this version of SciPy (detected version 1.24.3\n",
      "  warnings.warn(f\"A NumPy version >={np_minversion} and <{np_maxversion}\"\n",
      "/opt/conda/lib/python3.10/site-packages/scipy/__init__.py:146: UserWarning: A NumPy version >=1.16.5 and <1.23.0 is required for this version of SciPy (detected version 1.24.3\n",
      "  warnings.warn(f\"A NumPy version >={np_minversion} and <{np_maxversion}\"\n",
      "/opt/conda/lib/python3.10/site-packages/scipy/__init__.py:146: UserWarning: A NumPy version >=1.16.5 and <1.23.0 is required for this version of SciPy (detected version 1.24.3\n",
      "  warnings.warn(f\"A NumPy version >={np_minversion} and <{np_maxversion}\"\n",
      "/opt/conda/lib/python3.10/site-packages/scipy/__init__.py:146: UserWarning: A NumPy version >=1.16.5 and <1.23.0 is required for this version of SciPy (detected version 1.24.3\n",
      "  warnings.warn(f\"A NumPy version >={np_minversion} and <{np_maxversion}\"\n"
     ]
    },
    {
     "name": "stdout",
     "output_type": "stream",
     "text": [
      "Fitting 5 folds for each of 5 candidates, totalling 25 fits\n",
      "train accuracy score: 0.8462953075873524\n",
      "test accuracy score: 0.7527876631079478\n",
      "classification report on train data:               precision    recall  f1-score   support\n",
      "\n",
      "           0       0.85      0.85      0.85      3941\n",
      "           1       0.84      0.81      0.83      2861\n",
      "           2       0.89      0.89      0.89      3076\n",
      "           3       0.82      0.92      0.87      5213\n",
      "           4       0.86      0.59      0.70      1766\n",
      "\n",
      "    accuracy                           0.85     16857\n",
      "   macro avg       0.85      0.81      0.83     16857\n",
      "weighted avg       0.85      0.85      0.84     16857\n",
      "\n",
      "classification report on test data:               precision    recall  f1-score   support\n",
      "\n",
      "           0       0.74      0.73      0.73       995\n",
      "           1       0.74      0.71      0.72       736\n",
      "           2       0.82      0.84      0.83       722\n",
      "           3       0.73      0.86      0.79      1315\n",
      "           4       0.75      0.43      0.55       447\n",
      "\n",
      "    accuracy                           0.75      4215\n",
      "   macro avg       0.76      0.71      0.73      4215\n",
      "weighted avg       0.75      0.75      0.75      4215\n",
      "\n",
      "roc_curve_score: 0.9372106966673137\n"
     ]
    },
    {
     "data": {
      "image/png": "[encoded data removed]",
      "text/plain": [
       "<Figure size 640x480 with 2 Axes>"
      ]
     },
     "metadata": {},
     "output_type": "display_data"
    }
   ],
   "source": [
    "# using multinomial naive bayes version\n",
    "navie_bayes = MultinomialNB()\n",
    "folds = 5\n",
    "params = {\n",
    "    'alpha' : [0.001,0.01,0.02,0.05,0.1]\n",
    "}\n",
    "nb_grid_model = gridsearchcv_model(navie_bayes,params,folds,'roc_auc_ovr')\n",
    "nb_grid_model.fit(X_train,y_train)\n",
    "\n",
    "metrics_nb = metrics_report(nb_grid_model)"
   ]
  },
  {
   "cell_type": "markdown",
   "metadata": {},
   "source": [
    "# **Analysis on results**"
   ]
  },
  {
   "cell_type": "code",
   "execution_count": 250,
   "metadata": {
    "execution": {
     "iopub.execute_input": "2024-01-03T19:20:27.371840Z",
     "iopub.status.busy": "2024-01-03T19:20:27.371036Z",
     "iopub.status.idle": "2024-01-03T19:20:27.388532Z",
     "shell.execute_reply": "2024-01-03T19:20:27.387597Z",
     "shell.execute_reply.started": "2024-01-03T19:20:27.371806Z"
    }
   },
   "outputs": [
    {
     "data": {
      "text/html": [
       "<div>\n",
       "<style scoped>\n",
       "    .dataframe tbody tr th:only-of-type {\n",
       "        vertical-align: middle;\n",
       "    }\n",
       "\n",
       "    .dataframe tbody tr th {\n",
       "        vertical-align: top;\n",
       "    }\n",
       "\n",
       "    .dataframe thead th {\n",
       "        text-align: right;\n",
       "    }\n",
       "</style>\n",
       "<table border=\"1\" class=\"dataframe\">\n",
       "  <thead>\n",
       "    <tr style=\"text-align: right;\">\n",
       "      <th></th>\n",
       "      <th>train_accuracy</th>\n",
       "      <th>test_accuracy</th>\n",
       "      <th>roc_curve_score</th>\n",
       "      <th>precision_train</th>\n",
       "      <th>precision_test</th>\n",
       "      <th>recall_train</th>\n",
       "      <th>recall_test</th>\n",
       "      <th>fscore_train</th>\n",
       "      <th>fscore_test</th>\n",
       "    </tr>\n",
       "  </thead>\n",
       "  <tbody>\n",
       "    <tr>\n",
       "      <th>logistic regression</th>\n",
       "      <td>0.971051</td>\n",
       "      <td>0.921234</td>\n",
       "      <td>0.994251</td>\n",
       "      <td>0.971261</td>\n",
       "      <td>0.922148</td>\n",
       "      <td>0.971051</td>\n",
       "      <td>0.921234</td>\n",
       "      <td>0.970975</td>\n",
       "      <td>0.921038</td>\n",
       "    </tr>\n",
       "    <tr>\n",
       "      <th>decision tree</th>\n",
       "      <td>0.840956</td>\n",
       "      <td>0.819692</td>\n",
       "      <td>0.959549</td>\n",
       "      <td>0.840885</td>\n",
       "      <td>0.819556</td>\n",
       "      <td>0.840956</td>\n",
       "      <td>0.819692</td>\n",
       "      <td>0.840882</td>\n",
       "      <td>0.819553</td>\n",
       "    </tr>\n",
       "    <tr>\n",
       "      <th>random forest</th>\n",
       "      <td>0.816397</td>\n",
       "      <td>0.771056</td>\n",
       "      <td>0.964326</td>\n",
       "      <td>0.833201</td>\n",
       "      <td>0.791669</td>\n",
       "      <td>0.816397</td>\n",
       "      <td>0.771056</td>\n",
       "      <td>0.804072</td>\n",
       "      <td>0.753788</td>\n",
       "    </tr>\n",
       "    <tr>\n",
       "      <th>naive bayes</th>\n",
       "      <td>0.846295</td>\n",
       "      <td>0.752788</td>\n",
       "      <td>0.937211</td>\n",
       "      <td>0.847794</td>\n",
       "      <td>0.753551</td>\n",
       "      <td>0.846295</td>\n",
       "      <td>0.752788</td>\n",
       "      <td>0.843408</td>\n",
       "      <td>0.746908</td>\n",
       "    </tr>\n",
       "  </tbody>\n",
       "</table>\n",
       "</div>"
      ],
      "text/plain": [
       "                    train_accuracy test_accuracy roc_curve_score  \\\n",
       "logistic regression       0.971051      0.921234        0.994251   \n",
       "decision tree             0.840956      0.819692        0.959549   \n",
       "random forest             0.816397      0.771056        0.964326   \n",
       "naive bayes               0.846295      0.752788        0.937211   \n",
       "\n",
       "                    precision_train precision_test recall_train recall_test  \\\n",
       "logistic regression        0.971261       0.922148     0.971051    0.921234   \n",
       "decision tree              0.840885       0.819556     0.840956    0.819692   \n",
       "random forest              0.833201       0.791669     0.816397    0.771056   \n",
       "naive bayes                0.847794       0.753551     0.846295    0.752788   \n",
       "\n",
       "                    fscore_train fscore_test  \n",
       "logistic regression     0.970975    0.921038  \n",
       "decision tree           0.840882    0.819553  \n",
       "random forest           0.804072    0.753788  \n",
       "naive bayes             0.843408    0.746908  "
      ]
     },
     "execution_count": 250,
     "metadata": {},
     "output_type": "execute_result"
    }
   ],
   "source": [
    "results = pd.DataFrame(index = ['logistic regression','decision tree','random forest','naive bayes'],\n",
    "                      columns = ['train_accuracy','test_accuracy','roc_curve_score',\n",
    "                   'precision_train','precision_test',\n",
    "                   'recall_train','recall_test',\n",
    "                   'fscore_train','fscore_test'])\n",
    "results.loc['logistic regression'] = metrics_lgr\n",
    "results.loc['decision tree'] = metrics_dt\n",
    "results.loc['random forest'] = metrics_rf\n",
    "results.loc['naive bayes'] = metrics_nb\n",
    "results"
   ]
  },
  {
   "cell_type": "markdown",
   "metadata": {},
   "source": [
    "**Logistic regression performance better compared to the other model. So lets test with some custom texts to check its performance**"
   ]
  },
  {
   "cell_type": "markdown",
   "metadata": {},
   "source": [
    "# **Custom message tests**"
   ]
  },
  {
   "cell_type": "code",
   "execution_count": 251,
   "metadata": {
    "execution": {
     "iopub.execute_input": "2024-01-03T19:20:43.434825Z",
     "iopub.status.busy": "2024-01-03T19:20:43.434463Z",
     "iopub.status.idle": "2024-01-03T19:20:43.439537Z",
     "shell.execute_reply": "2024-01-03T19:20:43.438520Z",
     "shell.execute_reply.started": "2024-01-03T19:20:43.434796Z"
    }
   },
   "outputs": [],
   "source": [
    "custom_text = [\"I applied for bank account one month ago. But I see my account is not yet activated. Can someone help me with this?\",\n",
    "               \"I applied for credit card one month ago. Two weeks I got confirmation for that the credit card application is approved and the card will be dispatched and card will be dispatched soon. But I havnt received the card yet.\", \n",
    "               \"I have a loan with chase bank with reference number XXXXX which I would like to pay off all the amount and close the mortage. Can you explain the process?\"]"
   ]
  },
  {
   "cell_type": "code",
   "execution_count": 252,
   "metadata": {
    "execution": {
     "iopub.execute_input": "2024-01-03T19:20:44.435509Z",
     "iopub.status.busy": "2024-01-03T19:20:44.434609Z",
     "iopub.status.idle": "2024-01-03T19:20:44.440097Z",
     "shell.execute_reply": "2024-01-03T19:20:44.439202Z",
     "shell.execute_reply.started": "2024-01-03T19:20:44.435473Z"
    }
   },
   "outputs": [],
   "source": [
    "# clean the texts\n",
    "custom_text = [clean_sent(sent) for sent in custom_text]"
   ]
  },
  {
   "cell_type": "code",
   "execution_count": 253,
   "metadata": {
    "execution": {
     "iopub.execute_input": "2024-01-03T19:20:45.296380Z",
     "iopub.status.busy": "2024-01-03T19:20:45.295941Z",
     "iopub.status.idle": "2024-01-03T19:20:45.304250Z",
     "shell.execute_reply": "2024-01-03T19:20:45.303181Z",
     "shell.execute_reply.started": "2024-01-03T19:20:45.296345Z"
    }
   },
   "outputs": [],
   "source": [
    "# Transform the custom texts with existing count_vectoriser and tf_transformer\n",
    "custom_vec = count_vectoriser.transform(custom_text)\n",
    "custom_tf = tf_tranformer.transform(custom_vec)"
   ]
  },
  {
   "cell_type": "code",
   "execution_count": 254,
   "metadata": {
    "execution": {
     "iopub.execute_input": "2024-01-03T19:20:46.101899Z",
     "iopub.status.busy": "2024-01-03T19:20:46.101518Z",
     "iopub.status.idle": "2024-01-03T19:20:46.108171Z",
     "shell.execute_reply": "2024-01-03T19:20:46.107144Z",
     "shell.execute_reply.started": "2024-01-03T19:20:46.101867Z"
    }
   },
   "outputs": [
    {
     "name": "stdout",
     "output_type": "stream",
     "text": [
      "[3 0 2]\n"
     ]
    }
   ],
   "source": [
    "# Fit and predit using logistic regression model\n",
    "custom_predition = lgr_model.predict(custom_tf)\n",
    "print(custom_predition)"
   ]
  },
  {
   "cell_type": "code",
   "execution_count": 255,
   "metadata": {
    "execution": {
     "iopub.execute_input": "2024-01-03T19:20:46.906164Z",
     "iopub.status.busy": "2024-01-03T19:20:46.905629Z",
     "iopub.status.idle": "2024-01-03T19:20:46.917522Z",
     "shell.execute_reply": "2024-01-03T19:20:46.916473Z",
     "shell.execute_reply.started": "2024-01-03T19:20:46.906126Z"
    }
   },
   "outputs": [
    {
     "data": {
      "text/html": [
       "<div>\n",
       "<style scoped>\n",
       "    .dataframe tbody tr th:only-of-type {\n",
       "        vertical-align: middle;\n",
       "    }\n",
       "\n",
       "    .dataframe tbody tr th {\n",
       "        vertical-align: top;\n",
       "    }\n",
       "\n",
       "    .dataframe thead th {\n",
       "        text-align: right;\n",
       "    }\n",
       "</style>\n",
       "<table border=\"1\" class=\"dataframe\">\n",
       "  <thead>\n",
       "    <tr style=\"text-align: right;\">\n",
       "      <th></th>\n",
       "      <th>custom sentences</th>\n",
       "      <th>final model output</th>\n",
       "      <th>topic mapping</th>\n",
       "    </tr>\n",
       "  </thead>\n",
       "  <tbody>\n",
       "    <tr>\n",
       "      <th>0</th>\n",
       "      <td>applied bank account one month ago see account yet activated someone help</td>\n",
       "      <td>3</td>\n",
       "      <td>Bank Account services</td>\n",
       "    </tr>\n",
       "    <tr>\n",
       "      <th>1</th>\n",
       "      <td>applied credit card one month ago two weeks got confirmation credit card application approved card will dispatched card will dispatched soon havnt received card yet</td>\n",
       "      <td>0</td>\n",
       "      <td>Theft/Dispute Reporting</td>\n",
       "    </tr>\n",
       "    <tr>\n",
       "      <th>2</th>\n",
       "      <td>loan chase bank reference number pay amount close mortage explain process</td>\n",
       "      <td>2</td>\n",
       "      <td>Mortgage/Loan</td>\n",
       "    </tr>\n",
       "  </tbody>\n",
       "</table>\n",
       "</div>"
      ],
      "text/plain": [
       "                                                                                                                                                       custom sentences  \\\n",
       "0                                                                                             applied bank account one month ago see account yet activated someone help   \n",
       "1  applied credit card one month ago two weeks got confirmation credit card application approved card will dispatched card will dispatched soon havnt received card yet   \n",
       "2                                                                                             loan chase bank reference number pay amount close mortage explain process   \n",
       "\n",
       "   final model output            topic mapping  \n",
       "0                   3    Bank Account services  \n",
       "1                   0  Theft/Dispute Reporting  \n",
       "2                   2            Mortgage/Loan  "
      ]
     },
     "execution_count": 255,
     "metadata": {},
     "output_type": "execute_result"
    }
   ],
   "source": [
    "# View result as dataframe as an overview.\n",
    "custom_df = pd.DataFrame({'custom sentences' : custom_text,\n",
    "                          'final model output' : custom_predition,\n",
    "                         'topic mapping': [topic_names_int[i] for i in custom_predition]})\n",
    "custom_df"
   ]
  },
  {
   "cell_type": "markdown",
   "metadata": {},
   "source": [
    "**Model predicts correct on the custom texts as well.**"
   ]
  }
 ],
 "metadata": {
  "colab": {
   "collapsed_sections": [
    "T9jD_6SeJrF3",
    "5DfCSbbmJrF4",
    "yYzD85nTJrGA",
    "piyLxzj6v07j",
    "280Vbqk-7a8M"
   ],
   "provenance": []
  },
  "kaggle": {
   "accelerator": "nvidiaTeslaT4",
   "dataSources": [
    {
     "datasetId": 4232600,
     "sourceId": 7296882,
     "sourceType": "datasetVersion"
    }
   ],
   "dockerImageVersionId": 30627,
   "isGpuEnabled": true,
   "isInternetEnabled": true,
   "language": "python",
   "sourceType": "notebook"
  },
  "kernelspec": {
   "display_name": "Python 3 (ipykernel)",
   "language": "python",
   "name": "python3"
  },
  "language_info": {
   "codemirror_mode": {
    "name": "ipython",
    "version": 3
   },
   "file_extension": ".py",
   "mimetype": "text/x-python",
   "name": "python",
   "nbconvert_exporter": "python",
   "pygments_lexer": "ipython3",
   "version": "3.11.5"
  }
 },
 "nbformat": 4,
 "nbformat_minor": 4
}
